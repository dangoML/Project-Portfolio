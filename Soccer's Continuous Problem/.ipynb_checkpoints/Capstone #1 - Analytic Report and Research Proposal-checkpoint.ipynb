version https://git-lfs.github.com/spec/v1
oid sha256:a5e2ed5fb5d94f1319fa2b8053a7e752d75994fa926ae6b989bf067ea0b65624
size 310791
