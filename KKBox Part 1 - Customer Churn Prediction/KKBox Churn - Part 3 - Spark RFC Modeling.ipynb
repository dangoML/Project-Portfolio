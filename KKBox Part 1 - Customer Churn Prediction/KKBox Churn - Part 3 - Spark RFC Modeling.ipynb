{
 "cells": [
  {
   "cell_type": "markdown",
   "metadata": {},
   "source": [
    "# KKBox Customer Churn Prediction\n",
    "### w/ BigQuery and Apache Spark"
   ]
  },
  {
   "cell_type": "markdown",
   "metadata": {},
   "source": [
    "---"
   ]
  },
  {
   "cell_type": "markdown",
   "metadata": {},
   "source": [
    "# Part III: <font color=green>*RFC - Model Creation and Evaluation*</font>\n",
    "Please refer to the following article for a comprehensive review of the project:\n",
    "\n",
    "https://medium.com/@dangoml/1-churn-happiness-customer-centric-approach-to-retention-fd1d85464e45"
   ]
  },
  {
   "cell_type": "markdown",
   "metadata": {},
   "source": [
    "---"
   ]
  },
  {
   "cell_type": "code",
   "execution_count": 3,
   "metadata": {},
   "outputs": [],
   "source": [
    "# General Imports\n",
    "from __future__ import absolute_import\n",
    "import pandas as pd\n",
    "import numpy as np\n",
    "import matplotlib.pyplot as plt\n",
    "%matplotlib inline\n",
    "import seaborn as sns\n",
    "from scipy import stats\n",
    "import warnings\n",
    "warnings.filterwarnings('ignore')\n",
    "import time \n",
    "\n",
    "# Imports for PySpark\n",
    "import findspark\n",
    "findspark.init()\n",
    "# import pyspark\n",
    "from pyspark import SparkConf\n",
    "from pyspark.ml import Pipeline\n",
    "from pyspark.sql import SQLContext\n",
    "\n",
    "# # Imports for BigQuery connection\n",
    "# import json\n",
    "# import pprint\n",
    "# import subprocess\n",
    "\n",
    "# # Imports for GCP\n",
    "# from google.cloud import bigquery\n",
    "# import gcsfs\n",
    "import gc\n",
    "\n",
    "\n",
    "# Imports for Spark ML\n",
    "from pyspark.ml.feature import (VectorAssembler,StandardScaler, OneHotEncoderEstimator, OneHotEncoder)\n",
    "from pyspark.ml.classification import LogisticRegression, GBTClassifier, RandomForestClassifier\n",
    "from pyspark.ml.evaluation import BinaryClassificationEvaluator, MulticlassClassificationEvaluator, Evaluator\n",
    "from pyspark.ml.tuning import CrossValidator, ParamGridBuilder"
   ]
  },
  {
   "cell_type": "code",
   "execution_count": 2,
   "metadata": {},
   "outputs": [],
   "source": [
    "## Dataproc Specs\n",
    "\n",
    "# Jupyter Initialization: gs://srcd-dataproc/jupyter.sh \n",
    "# Components Installed: Anaconda and Jupyter\n",
    "# Master Node:   x1 - 4 vCPU w/ 15 GB RAM each\n",
    "# Workers Nodes: x5 - 4 vCPU w/ 15 GB RAM each\n",
    "# Disk: 100GB"
   ]
  },
  {
   "cell_type": "markdown",
   "metadata": {},
   "source": [
    "## Create Spark Session and Import Data"
   ]
  },
  {
   "cell_type": "code",
   "execution_count": 3,
   "metadata": {},
   "outputs": [],
   "source": [
    "# Specify Google Credentials\n",
    "import os\n",
    "os.environ['GOOGLE_APPLICATION_CREDENTIALS'] ='Google Credentials.json'"
   ]
  },
  {
   "cell_type": "code",
   "execution_count": 4,
   "metadata": {},
   "outputs": [],
   "source": [
    "from pyspark.sql import SparkSession\n",
    "spark = SparkSession.builder.appName('KKBox-Churn1').getOrCreate()\n",
    "\n",
    "# Instantiate BigQuery magic\n",
    "# %load_ext google.cloud.bigquery"
   ]
  },
  {
   "cell_type": "code",
   "execution_count": null,
   "metadata": {
    "jupyter": {
     "source_hidden": true
    }
   },
   "outputs": [],
   "source": [
    "# # If Working Locally on Computer, Importing Data Locally#\n",
    "\n",
    "# # Import DRV_Jan2016 (Train Set) \n",
    "# DRV_Jan2016_1to1 = spark.read.csv('D:\\J-5 Local\\Datasets_KKBox User Data_Monthly Datasets_DRV_Jan2016_1to1',inferSchema=True,header=True)\n",
    "# DRV_Jan2016_3to1 = spark.read.csv('D:\\J-5 Local\\Datasets_KKBox User Data_Monthly Datasets_DRV_Jan2016_3to1',inferSchema=True,header=True)\n",
    "# DRV_Jan2016_5to1 = spark.read.csv('D:\\J-5 Local\\Datasets_KKBox User Data_Monthly Datasets_DRV_Jan2016_5to1',inferSchema=True,header=True)\n",
    "# DRV_Jan2016_7to1 = spark.read.csv('D:\\J-5 Local\\Datasets_KKBox User Data_Monthly Datasets_DRV_Jan2016_7to1',inferSchema=True,header=True)\n",
    "# DRV_Jan2016_9to1 = spark.read.csv('D:\\J-5 Local\\Datasets_KKBox User Data_Monthly Datasets_DRV_Jan2016_9to1',inferSchema=True,header=True)\n",
    "# DRV_Jan2016_11to1 = spark.read.csv('D:\\J-5 Local\\Datasets_KKBox User Data_Monthly Datasets_DRV_Jan2016_11to1',inferSchema=True,header=True)\n",
    "# DRV_Jan2016_13to1 = spark.read.csv('D:\\J-5 Local\\Datasets_KKBox User Data_Monthly Datasets_DRV_Jan2016_13to1',inferSchema=True,header=True)\n",
    "\n",
    "# DRV_Jan20160 = spark.read.csv('D:\\J-5 Local\\Datasets_KKBox User Data_Monthly Datasets_DRV_Jan2016000000000000',inferSchema=True,header=True)\n",
    "# DRV_Jan20161 = spark.read.csv('D:\\J-5 Local\\Datasets_KKBox User Data_Monthly Datasets_DRV_Jan2016000000000001',inferSchema=True,header=True)\n",
    "# DRV_Jan20162 = spark.read.csv('D:\\J-5 Local\\Datasets_KKBox User Data_Monthly Datasets_DRV_Jan2016000000000002',inferSchema=True,header=True)\n",
    "\n",
    "# DRV_Jan2016 = DRV_Jan20160.union(DRV_Jan20161)\n",
    "# DRV_Jan2016 = DRV_Jan2016.union(DRV_Jan20162)\n",
    "\n",
    "# DRV_Jan20160.unpersist()\n",
    "# DRV_Jan20161.unpersist()\n",
    "# DRV_Jan20162.unpersist()\n",
    "\n",
    "# # Import DRV_Feb2016 (Validation Set) \n",
    "# DRV_Feb20160 = spark.read.csv('D:\\J-5 Local\\Datasets_KKBox User Data_Monthly Datasets_DRV_Feb2016000000000000',inferSchema=True,header=True)\n",
    "# DRV_Feb20161 = spark.read.csv('D:\\J-5 Local\\Datasets_KKBox User Data_Monthly Datasets_DRV_Feb2016000000000001',inferSchema=True,header=True)\n",
    "# DRV_Feb20162 = spark.read.csv('D:\\J-5 Local\\Datasets_KKBox User Data_Monthly Datasets_DRV_Feb2016000000000002',inferSchema=True,header=True)\n",
    "\n",
    "# DRV_Feb2016 = DRV_Feb20160.union(DRV_Feb20161)\n",
    "# DRV_Feb2016 = DRV_Feb2016.union(DRV_Feb20162)\n",
    "\n",
    "# DRV_Feb20160.unpersist()\n",
    "# DRV_Feb20161.unpersist()\n",
    "# DRV_Feb20162.unpersist()\n",
    "\n",
    "# # Import DRV_Feb2016 (Validation Set) \n",
    "# DRV_Mar20160 = spark.read.csv('D:\\J-5 Local\\Datasets_KKBox User Data_Monthly Datasets_DRV_Mar2016000000000000',inferSchema=True,header=True)\n",
    "# DRV_Mar20161 = spark.read.csv('D:\\J-5 Local\\Datasets_KKBox User Data_Monthly Datasets_DRV_Mar2016000000000001',inferSchema=True,header=True)\n",
    "# DRV_Mar20162 = spark.read.csv('D:\\J-5 Local\\Datasets_KKBox User Data_Monthly Datasets_DRV_Mar2016000000000002',inferSchema=True,header=True)\n",
    "\n",
    "# DRV_Mar2016 = DRV_Mar20160.union(DRV_Mar20161)\n",
    "# DRV_Mar2016 = DRV_Mar2016.union(DRV_Mar20162)"
   ]
  },
  {
   "cell_type": "code",
   "execution_count": 4,
   "metadata": {},
   "outputs": [],
   "source": [
    "# If Working on Dataproc Cloud ##\n",
    "\n",
    "# Import DRV_Jan2016 (Train Set) \n",
    "DRV_Jan2016_1to1 = spark.read.csv('gs://dataproc-fb3fa26d-011a-4757-afb9-5efdd6e75d60-us-east1/Datasets/KKBox User Data/Monthly Datasets/DRV_Jan2016_1to1',inferSchema=True,header=True)\n",
    "DRV_Jan2016_3to1 = spark.read.csv('gs://dataproc-fb3fa26d-011a-4757-afb9-5efdd6e75d60-us-east1/Datasets/KKBox User Data/Monthly Datasets/DRV_Jan2016_3to1',inferSchema=True,header=True)\n",
    "DRV_Jan2016_5to1 = spark.read.csv('gs://dataproc-fb3fa26d-011a-4757-afb9-5efdd6e75d60-us-east1/Datasets/KKBox User Data/Monthly Datasets/DRV_Jan2016_5to1',inferSchema=True,header=True)\n",
    "DRV_Jan2016_7to1 = spark.read.csv('gs://dataproc-fb3fa26d-011a-4757-afb9-5efdd6e75d60-us-east1/Datasets/KKBox User Data/Monthly Datasets/DRV_Jan2016_7to1',inferSchema=True,header=True)\n",
    "DRV_Jan2016_9to1 = spark.read.csv('gs://dataproc-fb3fa26d-011a-4757-afb9-5efdd6e75d60-us-east1/Datasets/KKBox User Data/Monthly Datasets/DRV_Jan2016_9to1',inferSchema=True,header=True)\n",
    "DRV_Jan2016_11to1 = spark.read.csv('gs://dataproc-fb3fa26d-011a-4757-afb9-5efdd6e75d60-us-east1/Datasets/KKBox User Data/Monthly Datasets/DRV_Jan2016_11to1',inferSchema=True,header=True)\n",
    "DRV_Jan2016_13to1 = spark.read.csv('gs://dataproc-fb3fa26d-011a-4757-afb9-5efdd6e75d60-us-east1/Datasets/KKBox User Data/Monthly Datasets/DRV_Jan2016_13to1',inferSchema=True,header=True)\n",
    "\n",
    "DRV_Jan20160 = spark.read.csv('gs://dataproc-fb3fa26d-011a-4757-afb9-5efdd6e75d60-us-east1/Datasets/KKBox User Data/Monthly Datasets/DRV_Jan2016000000000000',inferSchema=True,header=True)\n",
    "DRV_Jan20161 = spark.read.csv('gs://dataproc-fb3fa26d-011a-4757-afb9-5efdd6e75d60-us-east1/Datasets/KKBox User Data/Monthly Datasets/DRV_Jan2016000000000001',inferSchema=True,header=True)\n",
    "DRV_Jan20162 = spark.read.csv('gs://dataproc-fb3fa26d-011a-4757-afb9-5efdd6e75d60-us-east1/Datasets/KKBox User Data/Monthly Datasets/DRV_Jan2016000000000002',inferSchema=True,header=True)\n",
    "\n",
    "DRV_Jan2016 = DRV_Jan20160.union(DRV_Jan20161)\n",
    "DRV_Jan2016 = DRV_Jan2016.union(DRV_Jan20162)\n",
    "\n",
    "DRV_Jan20160 = None\n",
    "DRV_Jan20161 = None\n",
    "DRV_Jan20162 = None\n",
    "\n",
    "# Import DRV_Feb2016 (Validation Set) \n",
    "DRV_Feb20160 = spark.read.csv('gs://dataproc-fb3fa26d-011a-4757-afb9-5efdd6e75d60-us-east1/Datasets/KKBox User Data/Monthly Datasets/DRV_Feb2016000000000000',inferSchema=True,header=True)\n",
    "DRV_Feb20161 = spark.read.csv('gs://dataproc-fb3fa26d-011a-4757-afb9-5efdd6e75d60-us-east1/Datasets/KKBox User Data/Monthly Datasets/DRV_Feb2016000000000001',inferSchema=True,header=True)\n",
    "DRV_Feb20162 = spark.read.csv('gs://dataproc-fb3fa26d-011a-4757-afb9-5efdd6e75d60-us-east1/Datasets/KKBox User Data/Monthly Datasets/DRV_Feb2016000000000002',inferSchema=True,header=True)\n",
    "\n",
    "DRV_Feb2016 = DRV_Feb20160.union(DRV_Feb20161)\n",
    "DRV_Feb2016 = DRV_Feb2016.union(DRV_Feb20162)\n",
    "\n",
    "DRV_Feb20160 = None\n",
    "DRV_Feb20161 = None\n",
    "DRV_Feb20162 = None"
   ]
  },
  {
   "cell_type": "markdown",
   "metadata": {},
   "source": [
    "***Cast Correct Column Types on All Sets***"
   ]
  },
  {
   "cell_type": "code",
   "execution_count": null,
   "metadata": {
    "jupyter": {
     "source_hidden": true
    }
   },
   "outputs": [],
   "source": [
    "column_types_pd = [('msno', 'STRING'),\n",
    " ('membership_expire_date', 'DATE'),\n",
    " ('payment_method_id', 'INT64'),\n",
    " ('payment_plan_days', 'INT64'),\n",
    " ('plan_list_price', 'INT64'),\n",
    " ('net_paid_amount', 'INT64'),\n",
    " ('is_net_paid_amount', 'STRING'),\n",
    " ('is_auto_renew', 'INT64'),\n",
    " ('city', 'INT64'),\n",
    " ('bd', 'INT64'),\n",
    " ('registered_via', 'INT64'),\n",
    " ('registration_init_time', 'DATE'),\n",
    " ('membership_length', 'INT64'),\n",
    " ('is_churn', 'FLOAT64'),\n",
    " ('total_songs', 'INT64'),\n",
    " ('total_logins', 'INT64'),\n",
    " ('total_secs', 'FLOAT64'),\n",
    " ('sum_num_unq', 'INT64'),\n",
    " ('sum_num_repeat', 'INT64'),\n",
    " ('sum_over_50pec', 'INT64'),\n",
    " ('sum_over_75pec', 'INT64'),\n",
    " ('sum_over_985pec', 'INT64'),\n",
    " ('total_transactions', 'INT64'),\n",
    " ('total_spent', 'FLOAT64'),\n",
    " ('avg_spent_trans', 'FLOAT64'),\n",
    " ('spent_per_logins', 'FLOAT64'),\n",
    " ('spent_per_secs', 'FLOAT64'),\n",
    " ('spent_per_song', 'FLOAT64'),\n",
    " ('spent_per_num_unq', 'FLOAT64'),\n",
    " ('spent_per_num_repeats', 'FLOAT64'),\n",
    " ('never_active_subscriber', 'FLOAT64'),\n",
    " ('total_spent_zero', 'FLOAT64'),\n",
    " ('city_agg', 'INT64'),\n",
    " ('payment_method_agg', 'INT64'),\n",
    " ('songs_last_7', 'FLOAT64'),\n",
    " ('songs_last_7_AVG', 'FLOAT64'),\n",
    " ('logins_last_7', 'FLOAT64'),\n",
    " ('logins_last_7_AVG', 'FLOAT64'),\n",
    " ('total_secs_last_7', 'FLOAT64'),\n",
    " ('total_secs_last_7_AVG', 'FLOAT64'),\n",
    " ('num_unq_last_7', 'FLOAT64'),\n",
    " ('num_unq_last_7_AVG', 'FLOAT64'),\n",
    " ('num_repeat_last_7', 'FLOAT64'),\n",
    " ('num_repeat_last_7_AVG', 'FLOAT64'),\n",
    " ('over_50perc_last_7', 'FLOAT64'),\n",
    " ('over_50perc_last_7_AVG', 'FLOAT64'),\n",
    " ('over_75perc_last_7', 'FLOAT64'),\n",
    " ('over_75perc_last_7_AVG', 'FLOAT64'),\n",
    " ('over_985perc_last_7', 'FLOAT64'),\n",
    " ('over_985perc_last_7_AVG', 'FLOAT64'),\n",
    " ('songs_last_15', 'FLOAT64'),\n",
    " ('songs_last_15_AVG', 'FLOAT64'),\n",
    " ('logins_last_15', 'FLOAT64'),\n",
    " ('logins_last_15_AVG', 'FLOAT64'),\n",
    " ('total_secs_last_15', 'FLOAT64'),\n",
    " ('total_secs_last_15_AVG', 'FLOAT64'),\n",
    " ('num_unq_last_15', 'FLOAT64'),\n",
    " ('num_unq_last_15_AVG', 'FLOAT64'),\n",
    " ('num_repeat_last_15', 'FLOAT64'),\n",
    " ('num_repeat_last_15_AVG', 'FLOAT64'),\n",
    " ('over_50perc_last_15', 'FLOAT64'),\n",
    " ('over_50perc_last_15_AVG', 'FLOAT64'),\n",
    " ('over_75perc_last_15', 'FLOAT64'),\n",
    " ('over_75perc_last_15_AVG', 'FLOAT64'),\n",
    " ('over_985perc_last_15', 'FLOAT64'),\n",
    " ('over_985perc_last_15_AVG', 'FLOAT64'),\n",
    " ('songs_last_30', 'FLOAT64'),\n",
    " ('songs_last_30_AVG', 'FLOAT64'),\n",
    " ('logins_last_30', 'FLOAT64'),\n",
    " ('logins_last_30_AVG', 'FLOAT64'),\n",
    " ('total_secs_last_30', 'FLOAT64'),\n",
    " ('total_secs_last_30_AVG', 'FLOAT64'),\n",
    " ('num_unq_last_30', 'FLOAT64'),\n",
    " ('num_unq_last_30_AVG', 'FLOAT64'),\n",
    " ('num_repeat_last_30', 'FLOAT64'),\n",
    " ('num_repeat_last_30_AVG', 'FLOAT64'),\n",
    " ('over_50perc_last_30', 'FLOAT64'),\n",
    " ('over_50perc_last_30_AVG', 'FLOAT64'),\n",
    " ('over_75perc_last_30', 'FLOAT64'),\n",
    " ('over_75perc_last_30_AVG', 'FLOAT64'),\n",
    " ('over_985perc_last_30', 'FLOAT64'),\n",
    " ('over_985perc_last_30_AVG', 'FLOAT64'),\n",
    " ('songs_last_60', 'FLOAT64'),\n",
    " ('songs_last_60_AVG', 'FLOAT64'),\n",
    " ('logins_last_60', 'FLOAT64'),\n",
    " ('logins_last_60_AVG', 'FLOAT64'),\n",
    " ('total_secs_last_60', 'FLOAT64'),\n",
    " ('total_secs_last_60_AVG', 'FLOAT64'),\n",
    " ('num_unq_last_60', 'FLOAT64'),\n",
    " ('num_unq_last_60_AVG', 'FLOAT64'),\n",
    " ('num_repeat_last_60', 'FLOAT64'),\n",
    " ('num_repeat_last_60_AVG', 'FLOAT64'),\n",
    " ('over_50perc_last_60', 'FLOAT64'),\n",
    " ('over_50perc_last_60_AVG', 'FLOAT64'),\n",
    " ('over_75perc_last_60', 'FLOAT64'),\n",
    " ('over_75perc_last_60_AVG', 'FLOAT64'),\n",
    " ('over_985perc_last_60', 'FLOAT64'),\n",
    " ('over_985perc_last_60_AVG', 'FLOAT64'),\n",
    " ('songs_last_120', 'FLOAT64'),\n",
    " ('songs_last_120_AVG', 'FLOAT64'),\n",
    " ('logins_last_120', 'FLOAT64'),\n",
    " ('logins_last_120_AVG', 'FLOAT64'),\n",
    " ('total_secs_last_120', 'FLOAT64'),\n",
    " ('total_secs_last_120_AVG', 'FLOAT64'),\n",
    " ('num_unq_last_120', 'FLOAT64'),\n",
    " ('num_unq_last_120_AVG', 'FLOAT64'),\n",
    " ('num_repeat_last_120', 'FLOAT64'),\n",
    " ('num_repeat_last_120_AVG', 'FLOAT64'),\n",
    " ('over_50perc_last_120', 'FLOAT64'),\n",
    " ('over_50perc_last_120_AVG', 'FLOAT64'),\n",
    " ('over_75perc_last_120', 'FLOAT64'),\n",
    " ('over_75perc_last_120_AVG', 'FLOAT64'),\n",
    " ('over_985perc_last_120', 'FLOAT64'),\n",
    " ('over_985perc_last_120_AVG', 'FLOAT64'),\n",
    " ('SUM_unq_songs_0_15', 'FLOAT64'),\n",
    " ('AVG_unq_songs_0_15', 'FLOAT64'),\n",
    " ('SUM_songs_0_15', 'FLOAT64'),\n",
    " ('AVG_songs_0_15', 'FLOAT64'),\n",
    " ('SUM_secs_0_15', 'FLOAT64'),\n",
    " ('AVG_secs_0_15', 'FLOAT64'),\n",
    " ('SUM_songs50_0_15', 'FLOAT64'),\n",
    " ('AVG_songs50_0_15', 'FLOAT64'),\n",
    " ('SUM_logins_0_15', 'FLOAT64'),\n",
    " ('AVG_logins_0_15', 'FLOAT64'),\n",
    " ('SUM_repeats_0_15', 'FLOAT64'),\n",
    " ('AVG_repeats_0_15', 'FLOAT64'),\n",
    " ('SUM_unq_songs_15_30', 'FLOAT64'),\n",
    " ('AVG_unq_songs_15_30', 'FLOAT64'),\n",
    " ('SUM_songs_15_30', 'FLOAT64'),\n",
    " ('AVG_songs_15_30', 'FLOAT64'),\n",
    " ('SUM_secs_15_30', 'FLOAT64'),\n",
    " ('AVG_secs_15_30', 'FLOAT64'),\n",
    " ('SUM_songs50_15_30', 'FLOAT64'),\n",
    " ('AVG_songs50_15_30', 'FLOAT64'),\n",
    " ('SUM_logins_15_30', 'FLOAT64'),\n",
    " ('AVG_logins_15_30', 'FLOAT64'),\n",
    " ('SUM_repeats_15_30', 'FLOAT64'),\n",
    " ('AVG_repeats_15_30', 'FLOAT64'),\n",
    " ('SUM_unq_songs_30_45', 'FLOAT64'),\n",
    " ('AVG_unq_songs_30_45', 'FLOAT64'),\n",
    " ('SUM_songs_30_45', 'FLOAT64'),\n",
    " ('AVG_songs_30_45', 'FLOAT64'),\n",
    " ('SUM_secs_30_45', 'FLOAT64'),\n",
    " ('AVG_secs_30_45', 'FLOAT64'),\n",
    " ('SUM_songs50_30_45', 'FLOAT64'),\n",
    " ('AVG_songs50_30_45', 'FLOAT64'),\n",
    " ('SUM_logins_30_45', 'FLOAT64'),\n",
    " ('AVG_logins_30_45', 'FLOAT64'),\n",
    " ('SUM_repeats_30_45', 'FLOAT64'),\n",
    " ('AVG_repeats_30_45', 'FLOAT64'),\n",
    " ('SUM_unq_songs_45_60', 'FLOAT64'),\n",
    " ('AVG_unq_songs_45_60', 'FLOAT64'),\n",
    " ('SUM_songs_45_60', 'FLOAT64'),\n",
    " ('AVG_songs_45_60', 'FLOAT64'),\n",
    " ('SUM_secs_45_60', 'FLOAT64'),\n",
    " ('AVG_secs_45_60', 'FLOAT64'),\n",
    " ('SUM_songs50_45_60', 'FLOAT64'),\n",
    " ('AVG_songs50_45_60', 'FLOAT64'),\n",
    " ('SUM_logins_45_60', 'FLOAT64'),\n",
    " ('AVG_logins_45_60', 'FLOAT64'),\n",
    " ('SUM_repeats_45_60', 'FLOAT64'),\n",
    " ('AVG_repeats_45_60', 'FLOAT64'),\n",
    " ('DIFSUM_unq_songs_0_15_15_30', 'FLOAT64'),\n",
    " ('DIFAVG_unq_songs_0_15_15_30', 'FLOAT64'),\n",
    " ('DIFSUM_songs_0_15_15_30', 'FLOAT64'),\n",
    " ('DIFAVG_songs_0_15_15_30', 'FLOAT64'),\n",
    " ('DIFSUM_secs_0_15_15_30', 'FLOAT64'),\n",
    " ('DIFAVG_secs_0_15_15_30', 'FLOAT64'),\n",
    " ('DIFSUM_songs50_0_15_15_30', 'FLOAT64'),\n",
    " ('DIFAVG_songs50_0_15_15_30', 'FLOAT64'),\n",
    " ('DIFSUM_logins_0_15_15_30', 'FLOAT64'),\n",
    " ('DIFAVG_logins_0_15_15_30', 'FLOAT64'),\n",
    " ('DIFSUM_repeats_0_15_15_30', 'FLOAT64'),\n",
    " ('DIFAVG_repeats_0_15_15_30', 'FLOAT64'),\n",
    " ('DIFSUM_unq_songs_15_30_30_45', 'FLOAT64'),\n",
    " ('DIFAVG_unq_songs_15_30_30_45', 'FLOAT64'),\n",
    " ('DIFSUM_songs_15_30_30_45', 'FLOAT64'),\n",
    " ('DIFAVG_songs_15_30_30_45', 'FLOAT64'),\n",
    " ('DIFSUM_secs_15_30_30_45', 'FLOAT64'),\n",
    " ('DIFAVG_secs_15_30_30_45', 'FLOAT64'),\n",
    " ('DIFSUM_songs50_15_30_30_45', 'FLOAT64'),\n",
    " ('DIFAVG_songs50_15_30_30_45', 'FLOAT64'),\n",
    " ('DIFSUM_logins_15_30_30_45', 'FLOAT64'),\n",
    " ('DIFAVG_logins_15_30_30_45', 'FLOAT64'),\n",
    " ('DIFSUM_repeats_15_30_30_45', 'FLOAT64'),\n",
    " ('DIFAVG_repeats_15_30_30_45', 'FLOAT64'),\n",
    " ('DIFSUM_unq_songs_30_45_45_60', 'FLOAT64'),\n",
    " ('DIFAVG_unq_songs_30_45_45_60', 'FLOAT64'),\n",
    " ('DIFSUM_songs_30_45_45_60', 'FLOAT64'),\n",
    " ('DIFAVG_songs_30_45_45_60', 'FLOAT64'),\n",
    " ('DIFSUM_secs_30_45_45_60', 'FLOAT64'),\n",
    " ('DIFAVG_secs_30_45_45_60', 'FLOAT64'),\n",
    " ('DIFSUM_songs50_30_45_45_60', 'FLOAT64'),\n",
    " ('DIFAVG_songs50_30_45_45_60', 'FLOAT64'),\n",
    " ('DIFSUM_logins_30_45_45_60', 'FLOAT64'),\n",
    " ('DIFAVG_logins_30_45_45_60', 'FLOAT64'),\n",
    " ('DIFSUM_repeats_30_45_45_60', 'FLOAT64'),\n",
    " ('DIFAVG_repeats_30_45_45_60', 'FLOAT64'),\n",
    " ('expire_last_login', 'INT64'),\n",
    " ('total_cancelations', 'INT64'),\n",
    " ('login_after_expire_10', 'INT64'),\n",
    " ('login_after_expire_20', 'INT64'),\n",
    " ('login_after_expire_30', 'INT64'),\n",
    " ('STD_unq_songs_0_15', 'FLOAT64'),\n",
    " ('STD_songs_0_15', 'FLOAT64'),\n",
    " ('STD_secs_0_15', 'FLOAT64'),\n",
    " ('STD_songs50_0_15', 'FLOAT64'),\n",
    " ('STD_repeats_0_15', 'FLOAT64'),\n",
    " ('STD_unq_songs_15_30', 'FLOAT64'),\n",
    " ('STD_songs_15_30', 'FLOAT64'),\n",
    " ('STD_secs_15_30', 'FLOAT64'),\n",
    " ('STD_songs50_15_30', 'FLOAT64'),\n",
    " ('STD_repeats_15_30', 'FLOAT64'),\n",
    " ('STD_unq_songs_30_45', 'FLOAT64'),\n",
    " ('STD_songs_30_45', 'FLOAT64'),\n",
    " ('STD_secs_30_45', 'FLOAT64'),\n",
    " ('STD_songs50_30_45', 'FLOAT64'),\n",
    " ('STD_repeats_30_45', 'FLOAT64'),\n",
    " ('STD_unq_songs_45_60', 'FLOAT64'),\n",
    " ('STD_songs_45_60', 'FLOAT64'),\n",
    " ('STD_secs_45_60', 'FLOAT64'),\n",
    " ('STD_songs50_45_60', 'FLOAT64'),\n",
    " ('STD_repeats_45_60', 'FLOAT64'),\n",
    " ('DIFSTD_unq_songs_0_15_15_30', 'FLOAT64'),\n",
    " ('DIFSTD_songs_0_15_15_30', 'FLOAT64'),\n",
    " ('DIFSTD_secs_0_15_15_30', 'FLOAT64'),\n",
    " ('DIFSTD_songs50_0_15_15_30', 'FLOAT64'),\n",
    " ('DIFSTD_repeats_0_15_15_30', 'FLOAT64'),\n",
    " ('DIFSTD_unq_songs_15_30_30_45', 'FLOAT64'),\n",
    " ('DIFSTD_songs_15_30_30_45', 'FLOAT64'),\n",
    " ('DIFSTD_secs_15_30_30_45', 'FLOAT64'),\n",
    " ('DIFSTD_songs50_15_30_30_45', 'FLOAT64'),\n",
    " ('DIFSTD_repeats_15_30_30_45', 'FLOAT64'),\n",
    " ('DIFSTD_unq_songs_30_45_45_60', 'FLOAT64'),\n",
    " ('DIFSTD_songs_30_45_45_60', 'FLOAT64'),\n",
    " ('DIFSTD_secs_30_45_45_60', 'FLOAT64'),\n",
    " ('DIFSTD_songs50_30_45_45_60', 'FLOAT64'),\n",
    " ('DIFSTD_repeats_30_45_45_60', 'FLOAT64'),\n",
    " ('is_cancel', 'INT64')]"
   ]
  },
  {
   "cell_type": "code",
   "execution_count": null,
   "metadata": {
    "jupyter": {
     "source_hidden": true
    }
   },
   "outputs": [],
   "source": [
    "from pyspark.sql.functions import expr\n",
    "\n",
    "# Correctly Cast DRV_Feb2016\n",
    "for feature, datatype in column_types_pd:\n",
    "    if datatype == 'STRING':\n",
    "        exec(f'DRV_Jan2016_1to1 = DRV_Feb2016.withColumn(\"{feature}\", expr(\"CAST({feature} AS string)\"))')\n",
    "    if datatype == 'DATE':\n",
    "        exec(f'DRV_Jan2016_1to1 = DRV_Feb2016.withColumn(\"{feature}\", expr(\"CAST({feature} AS timestamp)\"))')\n",
    "    if datatype == 'INT64':\n",
    "        exec(f'DRV_Jan2016_1to1 = DRV_Feb2016.withColumn(\"{feature}\", expr(\"CAST({feature} AS integer)\"))')\n",
    "    if datatype == 'FLOAT64':\n",
    "        exec(f'DRV_Jan2016_1to1 = DRV_Feb2016.withColumn(\"{feature}\", expr(\"CAST({feature} AS double)\"))')"
   ]
  },
  {
   "cell_type": "markdown",
   "metadata": {},
   "source": [
    "## Model Pre-Processing\n",
    "https://medium.com/@dhiraj.p.rai/essentials-of-feature-engineering-in-pyspark-part-i-76a57680a85"
   ]
  },
  {
   "cell_type": "markdown",
   "metadata": {},
   "source": [
    "#### - <font color=blue>Split Feautres by Categorical or Continuous</font> -"
   ]
  },
  {
   "cell_type": "code",
   "execution_count": 5,
   "metadata": {},
   "outputs": [],
   "source": [
    "# Create list of Categorical feature names\n",
    "cat_feats = ['is_auto_renew', 'total_spent_zero', 'city_agg', 'payment_method_agg', 'never_active_subscriber','is_net_paid_amount']"
   ]
  },
  {
   "cell_type": "code",
   "execution_count": 6,
   "metadata": {},
   "outputs": [],
   "source": [
    "# Create list of Continuous feature names\n",
    "cont_feats = [x for x in DRV_Jan2016_1to1.columns if x not in cat_feats]\n",
    "cont_feats.remove('msno')\n",
    "cont_feats.remove('is_churn')\n",
    "cont_feats.remove('membership_expire_date')\n",
    "cont_feats.remove('registration_init_time')\n",
    "cont_feats.remove('city')\n",
    "cont_feats.remove('bd')\n",
    "cont_feats.remove('payment_method_id')\n",
    "\n",
    "cont_feats.remove('registered_via')"
   ]
  },
  {
   "cell_type": "markdown",
   "metadata": {},
   "source": [
    "### - <font color=blue>Data Pre-Processing</font> -"
   ]
  },
  {
   "cell_type": "markdown",
   "metadata": {},
   "source": [
    "#### <font color=purple>*Encode Categorical Variables*</font>"
   ]
  },
  {
   "cell_type": "code",
   "execution_count": 7,
   "metadata": {},
   "outputs": [],
   "source": [
    "# Create a list of categorical, 'Vector' feature names\n",
    "cat_feats_vec = ['is_auto_renew_vec', 'total_spent_zero_vec', 'city_agg_vec', 'payment_method_agg_vec', 'never_active_subscriber_vec']"
   ]
  },
  {
   "cell_type": "code",
   "execution_count": 8,
   "metadata": {},
   "outputs": [],
   "source": [
    "# One Hot Encode\n",
    "is_auto_renew_encoder = OneHotEncoder(inputCol='is_auto_renew',outputCol='is_auto_renew_vec')\n",
    "total_spent_zero_encoder = OneHotEncoder(inputCol='total_spent_zero',outputCol='total_spent_zero_vec')\n",
    "city_agg_encoder = OneHotEncoder(inputCol='city_agg',outputCol='city_agg_vec')\n",
    "payment_method_agg_encoder = OneHotEncoder(inputCol='payment_method_agg',outputCol='payment_method_agg_vec')\n",
    "never_active_subscriber_encoder = OneHotEncoder(inputCol='never_active_subscriber',outputCol='never_active_subscriber_vec')\n",
    "# is_net_paid_amount_encoder = OneHotEncoder(inputCol='is_net_paid_amount',outputCol='is_net_paid_amount_vec')\n",
    "\n",
    "# registered_via_encoder = OneHotEncoder(inputCol='registered_via',outputCol='registered_via_vec')\n"
   ]
  },
  {
   "cell_type": "markdown",
   "metadata": {},
   "source": [
    "#### <font color=purple>*Vector Assembler*</font>"
   ]
  },
  {
   "cell_type": "code",
   "execution_count": 9,
   "metadata": {},
   "outputs": [],
   "source": [
    "# Create master list of feature names for model\n",
    "final_features = cont_feats + cat_feats_vec"
   ]
  },
  {
   "cell_type": "code",
   "execution_count": 10,
   "metadata": {},
   "outputs": [],
   "source": [
    "# Specify the numeric features we will be transforming, and the name of the resulting output feature\n",
    "assembler = VectorAssembler(\n",
    "    inputCols= final_features,\n",
    "    outputCol='features')"
   ]
  },
  {
   "cell_type": "markdown",
   "metadata": {},
   "source": [
    "#### <font color=purple>*Feature Scaling*</font>"
   ]
  },
  {
   "cell_type": "code",
   "execution_count": 11,
   "metadata": {},
   "outputs": [],
   "source": [
    "# Scale all features into our final output features\n",
    "scaler = StandardScaler(inputCol='features', \n",
    "                        outputCol='features_scaled',\n",
    "                        withStd=True, withMean=False)"
   ]
  },
  {
   "cell_type": "markdown",
   "metadata": {},
   "source": [
    "## Model Creation: Pipeline and Tuning"
   ]
  },
  {
   "cell_type": "markdown",
   "metadata": {},
   "source": [
    "### - <font color=blue>Create Pipeline Object</font> -\n",
    "https://spark.apache.org/docs/2.4.3/ml-pipeline.html"
   ]
  },
  {
   "cell_type": "code",
   "execution_count": 12,
   "metadata": {},
   "outputs": [],
   "source": [
    "# Instatiate Model Estimators and Parameters\n",
    "rfc = RandomForestClassifier(featuresCol='features_scaled', \n",
    "                             labelCol='is_churn')"
   ]
  },
  {
   "cell_type": "code",
   "execution_count": 13,
   "metadata": {},
   "outputs": [],
   "source": [
    "# Create pipeline objects\n",
    "rfc_pipe = Pipeline(stages=[is_auto_renew_encoder,never_active_subscriber_encoder,\n",
    "                            total_spent_zero_encoder,city_agg_encoder,payment_method_agg_encoder,\n",
    "                            assembler,scaler,rfc])"
   ]
  },
  {
   "cell_type": "markdown",
   "metadata": {},
   "source": [
    "### - <font color=blue>Model Tuning</font> -\n",
    "https://spark.apache.org/docs/2.4.3/ml-tuning.html"
   ]
  },
  {
   "cell_type": "code",
   "execution_count": 14,
   "metadata": {},
   "outputs": [],
   "source": [
    "binary_evaluator = BinaryClassificationEvaluator(labelCol='is_churn')"
   ]
  },
  {
   "cell_type": "markdown",
   "metadata": {},
   "source": [
    "#### <font color=purple>Random Forest Classifier Parameter Tuning</font>"
   ]
  },
  {
   "cell_type": "code",
   "execution_count": 15,
   "metadata": {},
   "outputs": [],
   "source": [
    "# Parameter Grid for Random Forest Hyperparameterization\n",
    "paramGrid = ParamGridBuilder() \\\n",
    "    .addGrid(rfc.impurity,['entropy']) \\\n",
    "    .addGrid(rfc.maxDepth,[7]) \\\n",
    "    .build()\n",
    "\n",
    "# Instantiate Cross Validation block\n",
    "rfc_cv = CrossValidator(estimator=rfc_pipe,\n",
    "                          estimatorParamMaps=paramGrid,\n",
    "                          evaluator=binary_evaluator,\n",
    "                          numFolds=7)"
   ]
  },
  {
   "cell_type": "markdown",
   "metadata": {},
   "source": [
    "After running various models we were able to determine the optimal parameters for both Gradient Boosted Trees and Random Forest."
   ]
  },
  {
   "cell_type": "markdown",
   "metadata": {},
   "source": [
    "## Model Execution and Evaluation"
   ]
  },
  {
   "cell_type": "markdown",
   "metadata": {},
   "source": [
    "### - <font color=blue>Train Model: All Features, All Splits</font> -"
   ]
  },
  {
   "cell_type": "markdown",
   "metadata": {},
   "source": [
    "***Random Forest Classifiers***"
   ]
  },
  {
   "cell_type": "code",
   "execution_count": 16,
   "metadata": {},
   "outputs": [
    {
     "name": "stdout",
     "output_type": "stream",
     "text": [
      "Time spent for training: 111.0\n"
     ]
    }
   ],
   "source": [
    "# GBT Training on Trainset 1 to 1\n",
    "start = time.time()\n",
    "rfc_model_1to1 = rfc_cv.fit(DRV_Jan2016_1to1)\n",
    "end = time.time()\n",
    "print('Time spent for training: {}'.format(round(end-start)))"
   ]
  },
  {
   "cell_type": "code",
   "execution_count": 17,
   "metadata": {},
   "outputs": [
    {
     "name": "stdout",
     "output_type": "stream",
     "text": [
      "Time spent for training: 136.0\n"
     ]
    }
   ],
   "source": [
    "# GBT Training on Trainset 3 to 1\n",
    "start = time.time()\n",
    "rfc_model_3to1 = rfc_cv.fit(DRV_Jan2016_3to1)\n",
    "end = time.time()\n",
    "print('Time spent for training: {}'.format(round(end-start)))"
   ]
  },
  {
   "cell_type": "code",
   "execution_count": 18,
   "metadata": {},
   "outputs": [
    {
     "name": "stdout",
     "output_type": "stream",
     "text": [
      "Time spent for training: 156.0\n"
     ]
    }
   ],
   "source": [
    "# GBT Training on Trainset 5 to 1\n",
    "start = time.time()\n",
    "rfc_model_5to1 = rfc_cv.fit(DRV_Jan2016_5to1)\n",
    "end = time.time()\n",
    "print('Time spent for training: {}'.format(round(end-start)))"
   ]
  },
  {
   "cell_type": "code",
   "execution_count": 19,
   "metadata": {},
   "outputs": [
    {
     "name": "stdout",
     "output_type": "stream",
     "text": [
      "Time spent for training: 186.0\n"
     ]
    }
   ],
   "source": [
    "# GBT Training on Trainset 7 to 1\n",
    "start = time.time()\n",
    "rfc_model_7to1 = rfc_cv.fit(DRV_Jan2016_7to1)\n",
    "end = time.time()\n",
    "print('Time spent for training: {}'.format(round(end-start)))"
   ]
  },
  {
   "cell_type": "code",
   "execution_count": 20,
   "metadata": {},
   "outputs": [
    {
     "name": "stdout",
     "output_type": "stream",
     "text": [
      "Time spent for training: 216.0\n"
     ]
    }
   ],
   "source": [
    "# GBT Training on Trainset 9 to 1\n",
    "start = time.time()\n",
    "rfc_model_9to1 = rfc_cv.fit(DRV_Jan2016_9to1)\n",
    "end = time.time()\n",
    "print('Time spent for training: {}'.format(round(end-start)))"
   ]
  },
  {
   "cell_type": "code",
   "execution_count": 21,
   "metadata": {},
   "outputs": [
    {
     "name": "stdout",
     "output_type": "stream",
     "text": [
      "Time spent for training: 249.0\n"
     ]
    }
   ],
   "source": [
    "# GBT Training on Trainset 11 to 1\n",
    "start = time.time()\n",
    "rfc_model_11to1 = rfc_cv.fit(DRV_Jan2016_11to1)\n",
    "end = time.time()\n",
    "print('Time spent for training: {}'.format(round(end-start)))"
   ]
  },
  {
   "cell_type": "code",
   "execution_count": 22,
   "metadata": {},
   "outputs": [
    {
     "name": "stdout",
     "output_type": "stream",
     "text": [
      "Time spent for training: 281.0\n"
     ]
    }
   ],
   "source": [
    "# GBT Training on Trainset 13 to 1\n",
    "start = time.time()\n",
    "rfc_model_13to1 = rfc_cv.fit(DRV_Jan2016_13to1)\n",
    "end = time.time()\n",
    "print('Time spent for training: {}'.format(round(end-start)))"
   ]
  },
  {
   "cell_type": "markdown",
   "metadata": {},
   "source": [
    "#### <font color=purple>Evaluate Trained Model</font>"
   ]
  },
  {
   "cell_type": "markdown",
   "metadata": {},
   "source": [
    "***Create Custom Evaluator***"
   ]
  },
  {
   "cell_type": "code",
   "execution_count": 23,
   "metadata": {},
   "outputs": [],
   "source": [
    "# Custom evaluator that we can use instead of BinaryClassificationEvaluator() in grid search\n",
    "class ClassEvaluator:\n",
    "\n",
    "    def __init__(self, resultname, resultdata, model):\n",
    "        from sklearn.metrics import confusion_matrix\n",
    "        # Initialize variables\n",
    "        self.resultPandas = resultdata[['is_churn', 'prediction']].toPandas()\n",
    "        self.resultdata = resultdata \n",
    "        self.resultname = resultname\n",
    "        self.model = model\n",
    "        \n",
    "        self.cm = confusion_matrix(self.resultPandas['is_churn'],self.resultPandas['prediction'])\n",
    "        \n",
    "        # Calculate confusion matrix values\n",
    "        self.tp = self.cm[0][0]\n",
    "        self.fn = self.cm[0][1]\n",
    "        self.tn = self.cm[1][1]\n",
    "        self.fp = self.cm[1][0]\n",
    "        \n",
    "    def evaluate(self):\n",
    "        # Calculate Metrics and add epsilon to prevent division by zero\n",
    "        precision = self.tp / float(self.tp + self.fp + 0.00001)\n",
    "        recall = self.tp / float(self.tp + self.fn + 0.00001)\n",
    "        f1 = (2 * precision * recall) / float(precision + recall + 0.00001)\n",
    "        error = (self.fp + self.fn + 0.00001) / (self.tp + self.fp + self.tn + self.fn + 0.00001)\n",
    "        \n",
    "        # Instantiate Evaluator and call AUC metric\n",
    "        my_eval = BinaryClassificationEvaluator(rawPredictionCol='prediction',\n",
    "                                                labelCol='is_churn')\n",
    "        AUC = my_eval.evaluate(self.resultdata)\n",
    "        \n",
    "        \n",
    "        return pd.DataFrame(data=[[self.resultname, AUC, f1, precision, recall, error]], \n",
    "                            columns=['resultname', 'AUC', 'f1', 'precision', 'recall', 'error'])\n",
    "    \n",
    "    def confusionmatrix(self):\n",
    "        from sklearn.metrics import confusion_matrix\n",
    "        # Print Confusion Matrix\n",
    "        return self.cm\n",
    "        \n",
    "    \n",
    "    def modelparams(self):\n",
    "        scores = self.model.avgMetrics\n",
    "        params = [{p.name: v for p, v in m.items()} for m in self.model.getEstimatorParamMaps()]\n",
    "        params_pd = pd.DataFrame(params)\n",
    "        params_pd['AUC score'] = scores\n",
    "        return params_pd"
   ]
  },
  {
   "cell_type": "markdown",
   "metadata": {},
   "source": [
    "### - <font color=blue>Evaluate Train Model: All Features, All Splits</font> -"
   ]
  },
  {
   "cell_type": "markdown",
   "metadata": {},
   "source": [
    "***Transform Train Data on Trained Models***"
   ]
  },
  {
   "cell_type": "code",
   "execution_count": null,
   "metadata": {},
   "outputs": [],
   "source": [
    "# Dictionary of Models that were created\n",
    "models_created = {\n",
    "                  'rfc_model_1to1' : (rfc_model_1to1, DRV_Jan2016_1to1),\n",
    "                  'rfc_model_3to1' : (rfc_model_3to1, DRV_Jan2016_3to1),\n",
    "                  'rfc_model_5to1' : (rfc_model_5to1, DRV_Jan2016_5to1),\n",
    "                  'rfc_model_7to1' : (rfc_model_7to1, DRV_Jan2016_7to1),\n",
    "                  'rfc_model_9to1' : (rfc_model_9to1, DRV_Jan2016_9to1),\n",
    "                  'rfc_model_11to1' : (rfc_model_11to1, DRV_Jan2016_11to1),\n",
    "                  'rfc_model_13to1' : (rfc_model_13to1, DRV_Jan2016_13to1)}"
   ]
  },
  {
   "cell_type": "code",
   "execution_count": null,
   "metadata": {},
   "outputs": [
    {
     "name": "stdout",
     "output_type": "stream",
     "text": [
      "rfc_model_13to1\n",
      "[[667641   5110]\n",
      " [ 12024   7124]]\n",
      " \n",
      "rfc_model_3to1\n",
      "[[641550  31201]\n",
      " [  5890  13258]]\n",
      " \n",
      "rfc_model_9to1\n",
      "[[664604   8147]\n",
      " [ 10498   8650]]\n",
      " \n",
      "rfc_model_7to1\n",
      "[[662211  10540]\n",
      " [  9618   9530]]\n",
      " \n",
      "rfc_model_1to1\n",
      "[[589598  83153]\n",
      " [  3059  16089]]\n",
      " \n",
      "rfc_model_11to1\n",
      "[[666593   6158]\n",
      " [ 11306   7842]]\n",
      " \n",
      "rfc_model_5to1\n",
      "[[658749  14002]\n",
      " [  8791  10357]]\n",
      " \n"
     ]
    }
   ],
   "source": [
    "## Create empty dataframe and populate with Train Set transformation results.\n",
    "train_resultsall = pd.DataFrame()\n",
    "\n",
    "# Transform Train Sets\n",
    "for model_name, (model1, train_set_test) in models_created.items():\n",
    "    temp = model1.transform(DRV_Jan2016)\n",
    "    \n",
    "    # Create a Dataframe of Train Results\n",
    "    train_resultsall = train_resultsall.append(ClassEvaluator(resultname=model_name, resultdata=temp, model=model1).evaluate())\n",
    "    print('{}'.format(model_name))\n",
    "    print(ClassEvaluator(resultname=model_name, resultdata=temp, model=model1).confusionmatrix())\n",
    "    print(' ')"
   ]
  },
  {
   "cell_type": "code",
   "execution_count": null,
   "metadata": {},
   "outputs": [
    {
     "data": {
      "text/html": [
       "<div>\n",
       "<style scoped>\n",
       "    .dataframe tbody tr th:only-of-type {\n",
       "        vertical-align: middle;\n",
       "    }\n",
       "\n",
       "    .dataframe tbody tr th {\n",
       "        vertical-align: top;\n",
       "    }\n",
       "\n",
       "    .dataframe thead th {\n",
       "        text-align: right;\n",
       "    }\n",
       "</style>\n",
       "<table border=\"1\" class=\"dataframe\">\n",
       "  <thead>\n",
       "    <tr style=\"text-align: right;\">\n",
       "      <th></th>\n",
       "      <th>resultname</th>\n",
       "      <th>AUC</th>\n",
       "      <th>f1</th>\n",
       "      <th>precision</th>\n",
       "      <th>recall</th>\n",
       "      <th>error</th>\n",
       "    </tr>\n",
       "  </thead>\n",
       "  <tbody>\n",
       "    <tr>\n",
       "      <th>0</th>\n",
       "      <td>rfc_model_1to1</td>\n",
       "      <td>0.858321</td>\n",
       "      <td>0.931865</td>\n",
       "      <td>0.876399</td>\n",
       "      <td>0.994838</td>\n",
       "      <td>0.124602</td>\n",
       "    </tr>\n",
       "    <tr>\n",
       "      <th>0</th>\n",
       "      <td>rfc_model_3to1</td>\n",
       "      <td>0.823009</td>\n",
       "      <td>0.971900</td>\n",
       "      <td>0.953622</td>\n",
       "      <td>0.990903</td>\n",
       "      <td>0.053608</td>\n",
       "    </tr>\n",
       "    <tr>\n",
       "      <th>0</th>\n",
       "      <td>rfc_model_5to1</td>\n",
       "      <td>0.760039</td>\n",
       "      <td>0.982989</td>\n",
       "      <td>0.979187</td>\n",
       "      <td>0.986831</td>\n",
       "      <td>0.032943</td>\n",
       "    </tr>\n",
       "    <tr>\n",
       "      <th>0</th>\n",
       "      <td>rfc_model_7to1</td>\n",
       "      <td>0.741018</td>\n",
       "      <td>0.985003</td>\n",
       "      <td>0.984333</td>\n",
       "      <td>0.985684</td>\n",
       "      <td>0.029134</td>\n",
       "    </tr>\n",
       "    <tr>\n",
       "      <th>0</th>\n",
       "      <td>rfc_model_9to1</td>\n",
       "      <td>0.719817</td>\n",
       "      <td>0.986162</td>\n",
       "      <td>0.987890</td>\n",
       "      <td>0.984450</td>\n",
       "      <td>0.026948</td>\n",
       "    </tr>\n",
       "    <tr>\n",
       "      <th>0</th>\n",
       "      <td>rfc_model_11to1</td>\n",
       "      <td>0.700197</td>\n",
       "      <td>0.987065</td>\n",
       "      <td>0.990847</td>\n",
       "      <td>0.983322</td>\n",
       "      <td>0.025241</td>\n",
       "    </tr>\n",
       "    <tr>\n",
       "      <th>0</th>\n",
       "      <td>rfc_model_13to1</td>\n",
       "      <td>0.682227</td>\n",
       "      <td>0.987326</td>\n",
       "      <td>0.992404</td>\n",
       "      <td>0.982309</td>\n",
       "      <td>0.024764</td>\n",
       "    </tr>\n",
       "  </tbody>\n",
       "</table>\n",
       "</div>"
      ],
      "text/plain": [
       "        resultname       AUC        f1  precision    recall     error\n",
       "0   rfc_model_1to1  0.858321  0.931865   0.876399  0.994838  0.124602\n",
       "0   rfc_model_3to1  0.823009  0.971900   0.953622  0.990903  0.053608\n",
       "0   rfc_model_5to1  0.760039  0.982989   0.979187  0.986831  0.032943\n",
       "0   rfc_model_7to1  0.741018  0.985003   0.984333  0.985684  0.029134\n",
       "0   rfc_model_9to1  0.719817  0.986162   0.987890  0.984450  0.026948\n",
       "0  rfc_model_11to1  0.700197  0.987065   0.990847  0.983322  0.025241\n",
       "0  rfc_model_13to1  0.682227  0.987326   0.992404  0.982309  0.024764"
      ]
     },
     "execution_count": 26,
     "metadata": {},
     "output_type": "execute_result"
    }
   ],
   "source": [
    "# Evaluate Training Model\n",
    "train_resultsall.sort_values('AUC', ascending=False)"
   ]
  },
  {
   "cell_type": "markdown",
   "metadata": {},
   "source": [
    "### - <font color=blue>Evaluate Validation Model: All Features, All Splits</font> -"
   ]
  },
  {
   "cell_type": "code",
   "execution_count": null,
   "metadata": {},
   "outputs": [
    {
     "name": "stdout",
     "output_type": "stream",
     "text": [
      "rfc_model_13to1\n",
      "[[524375   3829]\n",
      " [ 14932   4991]]\n",
      " \n",
      "rfc_model_3to1\n",
      "[[503902  24302]\n",
      " [  8237  11686]]\n",
      " \n",
      "rfc_model_9to1\n",
      "[[522183   6021]\n",
      " [ 13387   6536]]\n",
      " \n",
      "rfc_model_7to1\n",
      "[[520180   8024]\n",
      " [ 12367   7556]]\n",
      " \n",
      "rfc_model_1to1\n",
      "[[460430  67774]\n",
      " [  3805  16118]]\n",
      " \n",
      "rfc_model_11to1\n",
      "[[523542   4662]\n",
      " [ 14245   5678]]\n",
      " \n",
      "rfc_model_5to1\n",
      "[[517343  10861]\n",
      " [ 11473   8450]]\n",
      " \n"
     ]
    }
   ],
   "source": [
    "# Create empty dataframe and populate with Train Set transformation results.\n",
    "validation_resultsall = pd.DataFrame()\n",
    "\n",
    "# Transform Train Sets\n",
    "for model_name, (model1, train_set) in models_created.items():\n",
    "    temp = model1.transform(DRV_Feb2016)    \n",
    "    \n",
    "    # Create a Dataframe of Train Results\n",
    "    validation_resultsall = validation_resultsall.append(ClassEvaluator(resultname=model_name, resultdata=temp, model=model1).evaluate())\n",
    "    print('{}'.format(model_name))\n",
    "    print(ClassEvaluator(resultname=model_name, resultdata=temp, model=model1).confusionmatrix())\n",
    "    print(' ')"
   ]
  },
  {
   "cell_type": "code",
   "execution_count": null,
   "metadata": {},
   "outputs": [
    {
     "data": {
      "text/html": [
       "<div>\n",
       "<style scoped>\n",
       "    .dataframe tbody tr th:only-of-type {\n",
       "        vertical-align: middle;\n",
       "    }\n",
       "\n",
       "    .dataframe tbody tr th {\n",
       "        vertical-align: top;\n",
       "    }\n",
       "\n",
       "    .dataframe thead th {\n",
       "        text-align: right;\n",
       "    }\n",
       "</style>\n",
       "<table border=\"1\" class=\"dataframe\">\n",
       "  <thead>\n",
       "    <tr style=\"text-align: right;\">\n",
       "      <th></th>\n",
       "      <th>resultname</th>\n",
       "      <th>AUC</th>\n",
       "      <th>f1</th>\n",
       "      <th>precision</th>\n",
       "      <th>recall</th>\n",
       "      <th>error</th>\n",
       "    </tr>\n",
       "  </thead>\n",
       "  <tbody>\n",
       "    <tr>\n",
       "      <th>0</th>\n",
       "      <td>rfc_model_1to1</td>\n",
       "      <td>0.840352</td>\n",
       "      <td>0.927871</td>\n",
       "      <td>0.871690</td>\n",
       "      <td>0.991804</td>\n",
       "      <td>0.130588</td>\n",
       "    </tr>\n",
       "    <tr>\n",
       "      <th>0</th>\n",
       "      <td>rfc_model_3to1</td>\n",
       "      <td>0.770275</td>\n",
       "      <td>0.968718</td>\n",
       "      <td>0.953991</td>\n",
       "      <td>0.983916</td>\n",
       "      <td>0.059364</td>\n",
       "    </tr>\n",
       "    <tr>\n",
       "      <th>0</th>\n",
       "      <td>rfc_model_5to1</td>\n",
       "      <td>0.701785</td>\n",
       "      <td>0.978866</td>\n",
       "      <td>0.979438</td>\n",
       "      <td>0.978304</td>\n",
       "      <td>0.040746</td>\n",
       "    </tr>\n",
       "    <tr>\n",
       "      <th>0</th>\n",
       "      <td>rfc_model_7to1</td>\n",
       "      <td>0.682035</td>\n",
       "      <td>0.980772</td>\n",
       "      <td>0.984809</td>\n",
       "      <td>0.976778</td>\n",
       "      <td>0.037201</td>\n",
       "    </tr>\n",
       "    <tr>\n",
       "      <th>0</th>\n",
       "      <td>rfc_model_9to1</td>\n",
       "      <td>0.658332</td>\n",
       "      <td>0.981751</td>\n",
       "      <td>0.988601</td>\n",
       "      <td>0.975004</td>\n",
       "      <td>0.035408</td>\n",
       "    </tr>\n",
       "    <tr>\n",
       "      <th>0</th>\n",
       "      <td>rfc_model_11to1</td>\n",
       "      <td>0.638086</td>\n",
       "      <td>0.982258</td>\n",
       "      <td>0.991174</td>\n",
       "      <td>0.973512</td>\n",
       "      <td>0.034494</td>\n",
       "    </tr>\n",
       "    <tr>\n",
       "      <th>0</th>\n",
       "      <td>rfc_model_13to1</td>\n",
       "      <td>0.621633</td>\n",
       "      <td>0.982420</td>\n",
       "      <td>0.992751</td>\n",
       "      <td>0.972313</td>\n",
       "      <td>0.034227</td>\n",
       "    </tr>\n",
       "  </tbody>\n",
       "</table>\n",
       "</div>"
      ],
      "text/plain": [
       "        resultname       AUC        f1  precision    recall     error\n",
       "0   rfc_model_1to1  0.840352  0.927871   0.871690  0.991804  0.130588\n",
       "0   rfc_model_3to1  0.770275  0.968718   0.953991  0.983916  0.059364\n",
       "0   rfc_model_5to1  0.701785  0.978866   0.979438  0.978304  0.040746\n",
       "0   rfc_model_7to1  0.682035  0.980772   0.984809  0.976778  0.037201\n",
       "0   rfc_model_9to1  0.658332  0.981751   0.988601  0.975004  0.035408\n",
       "0  rfc_model_11to1  0.638086  0.982258   0.991174  0.973512  0.034494\n",
       "0  rfc_model_13to1  0.621633  0.982420   0.992751  0.972313  0.034227"
      ]
     },
     "execution_count": 28,
     "metadata": {},
     "output_type": "execute_result"
    }
   ],
   "source": [
    "# Evaluate Validation Model\n",
    "validation_resultsall.sort_values('AUC', ascending=False)"
   ]
  },
  {
   "cell_type": "markdown",
   "metadata": {},
   "source": [
    "We now currently have ~230 Features with the inclusion of our *Bi-Weekly Activity Block* and *Comparison of Bi-Weekly Activity Block Features*. Looking at the results above we can see that we have made some improvements on AUC. We also notice how Recall increased significantly over the Ratio'd subsets. The ratio'd subsets seemed to have helped address the issue of having a high amount of False Positives.\n",
    "\n",
    "We can see that our models are still overfitting with the higher ratio'd models being the worst. However our Precision scores are better over our higher ratio'd models along with an improvement in model error and a slight decrease in Recall. Each of these models have there pros and cons and we might benefit from some sort of ensemble of these models. Before we do such a thing let's play around a bit with feature selection to see if we improve on the overall generalization between our Train and Validation models."
   ]
  },
  {
   "cell_type": "markdown",
   "metadata": {},
   "source": [
    "#### <font color=purple>Model Evaluation: Optimal Parameters</font>"
   ]
  },
  {
   "cell_type": "code",
   "execution_count": null,
   "metadata": {},
   "outputs": [
    {
     "data": {
      "text/html": [
       "<div>\n",
       "<style scoped>\n",
       "    .dataframe tbody tr th:only-of-type {\n",
       "        vertical-align: middle;\n",
       "    }\n",
       "\n",
       "    .dataframe tbody tr th {\n",
       "        vertical-align: top;\n",
       "    }\n",
       "\n",
       "    .dataframe thead th {\n",
       "        text-align: right;\n",
       "    }\n",
       "</style>\n",
       "<table border=\"1\" class=\"dataframe\">\n",
       "  <thead>\n",
       "    <tr style=\"text-align: right;\">\n",
       "      <th></th>\n",
       "      <th>impurity</th>\n",
       "      <th>maxDepth</th>\n",
       "      <th>AUC</th>\n",
       "      <th>Model</th>\n",
       "    </tr>\n",
       "  </thead>\n",
       "  <tbody>\n",
       "    <tr>\n",
       "      <th>0</th>\n",
       "      <td>entropy</td>\n",
       "      <td>7</td>\n",
       "      <td>0.938831</td>\n",
       "      <td>rfc_model_13to1</td>\n",
       "    </tr>\n",
       "    <tr>\n",
       "      <th>0</th>\n",
       "      <td>entropy</td>\n",
       "      <td>7</td>\n",
       "      <td>0.938921</td>\n",
       "      <td>rfc_model_3to1</td>\n",
       "    </tr>\n",
       "    <tr>\n",
       "      <th>0</th>\n",
       "      <td>entropy</td>\n",
       "      <td>7</td>\n",
       "      <td>0.938895</td>\n",
       "      <td>rfc_model_9to1</td>\n",
       "    </tr>\n",
       "    <tr>\n",
       "      <th>0</th>\n",
       "      <td>entropy</td>\n",
       "      <td>7</td>\n",
       "      <td>0.938830</td>\n",
       "      <td>rfc_model_7to1</td>\n",
       "    </tr>\n",
       "    <tr>\n",
       "      <th>0</th>\n",
       "      <td>entropy</td>\n",
       "      <td>7</td>\n",
       "      <td>0.937017</td>\n",
       "      <td>rfc_model_1to1</td>\n",
       "    </tr>\n",
       "    <tr>\n",
       "      <th>0</th>\n",
       "      <td>entropy</td>\n",
       "      <td>7</td>\n",
       "      <td>0.938055</td>\n",
       "      <td>rfc_model_11to1</td>\n",
       "    </tr>\n",
       "    <tr>\n",
       "      <th>0</th>\n",
       "      <td>entropy</td>\n",
       "      <td>7</td>\n",
       "      <td>0.937443</td>\n",
       "      <td>rfc_model_5to1</td>\n",
       "    </tr>\n",
       "  </tbody>\n",
       "</table>\n",
       "</div>"
      ],
      "text/plain": [
       "  impurity  maxDepth       AUC            Model\n",
       "0  entropy         7  0.938831  rfc_model_13to1\n",
       "0  entropy         7  0.938921   rfc_model_3to1\n",
       "0  entropy         7  0.938895   rfc_model_9to1\n",
       "0  entropy         7  0.938830   rfc_model_7to1\n",
       "0  entropy         7  0.937017   rfc_model_1to1\n",
       "0  entropy         7  0.938055  rfc_model_11to1\n",
       "0  entropy         7  0.937443   rfc_model_5to1"
      ]
     },
     "execution_count": 29,
     "metadata": {},
     "output_type": "execute_result"
    }
   ],
   "source": [
    "opti_params = pd.DataFrame()\n",
    "\n",
    "for model_name, (model1, train_set) in models_created.items():\n",
    "    scores = model1.avgMetrics\n",
    "    params = [{p.name: v for p, v in m.items()} for m in model1.getEstimatorParamMaps()]\n",
    "    params_pd = pd.DataFrame(params)\n",
    "    params_pd['AUC'] = scores\n",
    "    params_pd['Model'] = model_name\n",
    "    best = params_pd.sort_values('AUC', ascending=False).head(1)\n",
    "    opti_params = opti_params.append(best)\n",
    "\n",
    "opti_params"
   ]
  },
  {
   "cell_type": "markdown",
   "metadata": {},
   "source": [
    "#### <font color=purple>Model Evaluation: Feature Importance</font>"
   ]
  },
  {
   "cell_type": "markdown",
   "metadata": {},
   "source": [
    "We will derive average feature importance scores for all features. Then we will produce a 5 Number Summary on these scores and group our features based on their scores against the following thresholds: Mean, 75th Percentile, 50th Percentile, and 25th Percentile."
   ]
  },
  {
   "cell_type": "code",
   "execution_count": null,
   "metadata": {},
   "outputs": [],
   "source": [
    "# Display feature importances\n",
    "importances = rfc_model_1to1.bestModel.stages[-1].featureImportances\n",
    "importances_list = [importances[i] for i in range(len(importances))]\n",
    "names = final_features\n",
    "column1 = pd.DataFrame(data=list(zip(names, importances_list)), columns=['Features', 'Importance Score']).sort_values(by='Importance Score', ascending=False)\n",
    "\n",
    "importances = rfc_model_3to1.bestModel.stages[-1].featureImportances\n",
    "importances_list = [importances[i] for i in range(len(importances))]\n",
    "names = final_features\n",
    "column3 = pd.DataFrame(data=list(zip(names, importances_list)), columns=['Features', 'Importance Score']).sort_values(by='Importance Score', ascending=False)\n",
    "\n",
    "importances = rfc_model_5to1.bestModel.stages[-1].featureImportances\n",
    "importances_list = [importances[i] for i in range(len(importances))]\n",
    "names = final_features\n",
    "column5 = pd.DataFrame(data=list(zip(names, importances_list)), columns=['Features', 'Importance Score']).sort_values(by='Importance Score', ascending=False)\n",
    "\n",
    "importances = rfc_model_7to1.bestModel.stages[-1].featureImportances\n",
    "importances_list = [importances[i] for i in range(len(importances))]\n",
    "names = final_features\n",
    "column7 = pd.DataFrame(data=list(zip(names, importances_list)), columns=['Features', 'Importance Score']).sort_values(by='Importance Score', ascending=False)\n",
    "\n",
    "importances = rfc_model_9to1.bestModel.stages[-1].featureImportances\n",
    "importances_list = [importances[i] for i in range(len(importances))]\n",
    "names = final_features\n",
    "column9 = pd.DataFrame(data=list(zip(names, importances_list)), columns=['Features', 'Importance Score']).sort_values(by='Importance Score', ascending=False)\n",
    "\n",
    "importances = rfc_model_11to1.bestModel.stages[-1].featureImportances\n",
    "importances_list = [importances[i] for i in range(len(importances))]\n",
    "names = final_features\n",
    "column11 = pd.DataFrame(data=list(zip(names, importances_list)), columns=['Features', 'Importance Score']).sort_values(by='Importance Score', ascending=False)\n",
    "\n",
    "importances = rfc_model_13to1.bestModel.stages[-1].featureImportances\n",
    "importances_list = [importances[i] for i in range(len(importances))]\n",
    "names = final_features\n",
    "column13 = pd.DataFrame(data=list(zip(names, importances_list)), columns=['Features', 'Importance Score']).sort_values(by='Importance Score', ascending=False)"
   ]
  },
  {
   "cell_type": "code",
   "execution_count": null,
   "metadata": {},
   "outputs": [],
   "source": [
    "feature_imp = pd.merge(column1, column3 , on='Features')\n",
    "feature_imp = pd.merge(feature_imp, column5, on='Features')\n",
    "feature_imp = pd.merge(feature_imp, column7, on='Features')\n",
    "feature_imp = pd.merge(feature_imp, column9, on='Features')\n",
    "feature_imp = pd.merge(feature_imp, column11, on='Features')\n",
    "feature_imp = pd.merge(feature_imp, column13, on='Features')\n",
    "\n",
    "feature_imp['avg'] = feature_imp[list(feature_imp.columns[1:-1])].mean(axis=1)"
   ]
  },
  {
   "cell_type": "code",
   "execution_count": null,
   "metadata": {},
   "outputs": [
    {
     "data": {
      "text/plain": [
       "count    230.000000\n",
       "mean       0.004152\n",
       "std        0.015061\n",
       "min        0.000013\n",
       "25%        0.000186\n",
       "50%        0.000482\n",
       "75%        0.001621\n",
       "max        0.134015\n",
       "Name: avg, dtype: float64"
      ]
     },
     "execution_count": 32,
     "metadata": {},
     "output_type": "execute_result"
    }
   ],
   "source": [
    "feature_imp['avg'].describe()"
   ]
  },
  {
   "cell_type": "code",
   "execution_count": null,
   "metadata": {},
   "outputs": [],
   "source": [
    "mean_feats = feature_imp[feature_imp['avg'] > feature_imp['avg'].describe()['mean']]['Features'].tolist()\n",
    "quart25_feats = feature_imp[feature_imp['avg'] > feature_imp['avg'].describe()['25%']]['Features'].tolist()\n",
    "quart50_feats = feature_imp[feature_imp['avg'] > feature_imp['avg'].describe()['50%']]['Features'].tolist()\n",
    "quart75_feats = feature_imp[feature_imp['avg'] > feature_imp['avg'].describe()['75%']]['Features'].tolist()"
   ]
  },
  {
   "cell_type": "code",
   "execution_count": 110,
   "metadata": {
    "jupyter": {
     "source_hidden": true
    }
   },
   "outputs": [],
   "source": [
    "mean_feats = ['total_transactions',\n",
    " 'login_after_expire_20',\n",
    " 'is_auto_renew_vec',\n",
    " 'total_spent',\n",
    " 'login_after_expire_30',\n",
    " 'total_cancelations',\n",
    " 'avg_spent_trans',\n",
    " 'login_after_expire_10',\n",
    " 'total_spent_zero_vec',\n",
    " 'plan_list_price',\n",
    " 'total_logins',\n",
    " 'net_paid_amount',\n",
    " 'is_cancel',\n",
    " 'AVG_secs_45_60',\n",
    " 'STD_songs50_45_60',\n",
    " 'SUM_logins_45_60',\n",
    " 'STD_secs_45_60',\n",
    " 'over_75perc_last_7_AVG',\n",
    " 'payment_plan_days',\n",
    " 'total_secs_last_7_AVG',\n",
    " 'DIFSUM_logins_15_30_30_45',\n",
    " 'spent_per_song',\n",
    " 'expire_last_login',\n",
    " 'num_unq_last_60',\n",
    " 'over_985perc_last_7_AVG',\n",
    " 'spent_per_num_unq',\n",
    " 'spent_per_num_repeats',\n",
    " 'membership_length',\n",
    " 'DIFAVG_logins_15_30_30_45',\n",
    " 'spent_per_logins',\n",
    " 'AVG_unq_songs_0_15',\n",
    " 'spent_per_secs',\n",
    " 'num_unq_last_30',\n",
    " 'STD_songs50_15_30']\n",
    "\n"
   ]
  },
  {
   "cell_type": "code",
   "execution_count": 109,
   "metadata": {
    "jupyter": {
     "source_hidden": true
    }
   },
   "outputs": [],
   "source": [
    "quart25_feats = ['total_transactions',\n",
    " 'login_after_expire_20',\n",
    " 'is_auto_renew_vec',\n",
    " 'total_spent',\n",
    " 'login_after_expire_30',\n",
    " 'total_cancelations',\n",
    " 'avg_spent_trans',\n",
    " 'login_after_expire_10',\n",
    " 'total_spent_zero_vec',\n",
    " 'plan_list_price',\n",
    " 'total_logins',\n",
    " 'net_paid_amount',\n",
    " 'is_cancel',\n",
    " 'AVG_secs_45_60',\n",
    " 'STD_songs50_45_60',\n",
    " 'SUM_logins_45_60',\n",
    " 'STD_secs_45_60',\n",
    " 'over_75perc_last_7_AVG',\n",
    " 'payment_plan_days',\n",
    " 'total_secs_last_7_AVG',\n",
    " 'DIFSUM_logins_15_30_30_45',\n",
    " 'spent_per_song',\n",
    " 'expire_last_login',\n",
    " 'num_unq_last_60',\n",
    " 'over_985perc_last_7_AVG',\n",
    " 'spent_per_num_unq',\n",
    " 'songs_last_7',\n",
    " 'spent_per_num_repeats',\n",
    " 'membership_length',\n",
    " 'logins_last_7_AVG',\n",
    " 'AVG_songs_45_60',\n",
    " 'songs_last_15',\n",
    " 'DIFAVG_logins_15_30_30_45',\n",
    " 'spent_per_logins',\n",
    " 'num_repeat_last_7',\n",
    " 'over_75perc_last_15_AVG',\n",
    " 'AVG_unq_songs_0_15',\n",
    " 'num_unq_last_7_AVG',\n",
    " 'DIFAVG_secs_15_30_30_45',\n",
    " 'AVG_logins_45_60',\n",
    " 'spent_per_secs',\n",
    " 'total_secs_last_30_AVG',\n",
    " 'AVG_logins_30_45',\n",
    " 'songs_last_60_AVG',\n",
    " 'num_unq_last_120',\n",
    " 'payment_method_agg_vec',\n",
    " 'over_985perc_last_15_AVG',\n",
    " 'num_unq_last_30',\n",
    " 'AVG_logins_15_30',\n",
    " 'SUM_logins_30_45',\n",
    " 'SUM_secs_45_60',\n",
    " 'logins_last_120_AVG',\n",
    " 'logins_last_60_AVG',\n",
    " 'total_songs',\n",
    " 'SUM_unq_songs_45_60',\n",
    " 'logins_last_60',\n",
    " 'over_50perc_last_7_AVG',\n",
    " 'SUM_songs_45_60',\n",
    " 'AVG_unq_songs_30_45',\n",
    " 'AVG_songs50_45_60',\n",
    " 'over_50perc_last_60_AVG',\n",
    " 'over_50perc_last_7',\n",
    " 'DIFSUM_unq_songs_0_15_15_30',\n",
    " 'num_unq_last_60_AVG',\n",
    " 'AVG_unq_songs_45_60',\n",
    " 'DIFSUM_songs50_15_30_30_45',\n",
    " 'songs_last_60',\n",
    " 'DIFSUM_logins_30_45_45_60',\n",
    " 'total_secs_last_60_AVG',\n",
    " 'sum_over_75pec',\n",
    " 'STD_songs_30_45',\n",
    " 'SUM_repeats_30_45',\n",
    " 'sum_over_50pec',\n",
    " 'sum_over_985pec',\n",
    " 'SUM_songs_30_45',\n",
    " 'songs_last_30',\n",
    " 'sum_num_unq',\n",
    " 'num_unq_last_15_AVG',\n",
    " 'sum_num_repeat',\n",
    " 'DIFAVG_secs_30_45_45_60',\n",
    " 'SUM_unq_songs_15_30',\n",
    " 'SUM_unq_songs_0_15',\n",
    " 'total_secs',\n",
    " 'over_985perc_last_120',\n",
    " 'SUM_unq_songs_30_45',\n",
    " 'logins_last_30',\n",
    " 'over_985perc_last_60',\n",
    " 'songs_last_120_AVG',\n",
    " 'over_75perc_last_30_AVG',\n",
    " 'STD_unq_songs_30_45',\n",
    " 'over_50perc_last_30_AVG',\n",
    " 'DIFAVG_logins_0_15_15_30',\n",
    " 'total_secs_last_15_AVG',\n",
    " 'logins_last_120',\n",
    " 'SUM_logins_0_15',\n",
    " 'num_unq_last_120_AVG',\n",
    " 'DIFAVG_logins_30_45_45_60',\n",
    " 'SUM_songs50_45_60',\n",
    " 'AVG_songs_30_45',\n",
    " 'SUM_songs50_30_45',\n",
    " 'over_50perc_last_120',\n",
    " 'num_repeat_last_60',\n",
    " 'over_50perc_last_15_AVG',\n",
    " 'total_secs_last_30',\n",
    " 'num_unq_last_7',\n",
    " 'logins_last_30_AVG',\n",
    " 'SUM_secs_30_45',\n",
    " 'DIFSUM_logins_0_15_15_30',\n",
    " 'songs_last_120',\n",
    " 'AVG_secs_0_15',\n",
    " 'songs_last_30_AVG',\n",
    " 'STD_songs50_15_30',\n",
    " 'over_75perc_last_120',\n",
    " 'over_985perc_last_7',\n",
    " 'over_75perc_last_60_AVG']"
   ]
  },
  {
   "cell_type": "code",
   "execution_count": 108,
   "metadata": {
    "jupyter": {
     "source_hidden": true
    }
   },
   "outputs": [],
   "source": [
    "quart50_feats = ['total_transactions',\n",
    " 'login_after_expire_20',\n",
    " 'is_auto_renew_vec',\n",
    " 'total_spent',\n",
    " 'login_after_expire_30',\n",
    " 'total_cancelations',\n",
    " 'avg_spent_trans',\n",
    " 'login_after_expire_10',\n",
    " 'total_spent_zero_vec',\n",
    " 'plan_list_price',\n",
    " 'total_logins',\n",
    " 'net_paid_amount',\n",
    " 'is_cancel',\n",
    " 'AVG_secs_45_60',\n",
    " 'STD_songs50_45_60',\n",
    " 'SUM_logins_45_60',\n",
    " 'STD_secs_45_60',\n",
    " 'over_75perc_last_7_AVG',\n",
    " 'payment_plan_days',\n",
    " 'total_secs_last_7_AVG',\n",
    " 'DIFSUM_logins_15_30_30_45',\n",
    " 'spent_per_song',\n",
    " 'expire_last_login',\n",
    " 'num_unq_last_60',\n",
    " 'over_985perc_last_7_AVG',\n",
    " 'spent_per_num_unq',\n",
    " 'songs_last_7',\n",
    " 'spent_per_num_repeats',\n",
    " 'membership_length',\n",
    " 'logins_last_7_AVG',\n",
    " 'AVG_songs_45_60',\n",
    " 'songs_last_15',\n",
    " 'DIFAVG_logins_15_30_30_45',\n",
    " 'spent_per_logins',\n",
    " 'num_repeat_last_7',\n",
    " 'over_75perc_last_15_AVG',\n",
    " 'AVG_unq_songs_0_15',\n",
    " 'num_unq_last_7_AVG',\n",
    " 'DIFAVG_secs_15_30_30_45',\n",
    " 'AVG_logins_45_60',\n",
    " 'spent_per_secs',\n",
    " 'total_secs_last_30_AVG',\n",
    " 'AVG_logins_30_45',\n",
    " 'songs_last_60_AVG',\n",
    " 'num_unq_last_120',\n",
    " 'payment_method_agg_vec',\n",
    " 'over_985perc_last_15_AVG',\n",
    " 'num_unq_last_30',\n",
    " 'AVG_logins_15_30',\n",
    " 'SUM_logins_30_45',\n",
    " 'SUM_secs_45_60',\n",
    " 'logins_last_120_AVG',\n",
    " 'logins_last_60_AVG',\n",
    " 'total_songs',\n",
    " 'SUM_unq_songs_45_60',\n",
    " 'logins_last_60',\n",
    " 'over_50perc_last_7_AVG',\n",
    " 'SUM_songs_45_60',\n",
    " 'AVG_unq_songs_30_45',\n",
    " 'AVG_songs50_45_60',\n",
    " 'over_50perc_last_60_AVG',\n",
    " 'over_50perc_last_7',\n",
    " 'DIFSUM_unq_songs_0_15_15_30',\n",
    " 'num_unq_last_60_AVG',\n",
    " 'AVG_unq_songs_45_60',\n",
    " 'DIFSUM_songs50_15_30_30_45',\n",
    " 'songs_last_60',\n",
    " 'DIFSUM_logins_30_45_45_60',\n",
    " 'total_secs_last_60_AVG',\n",
    " 'sum_over_75pec',\n",
    " 'STD_songs_30_45',\n",
    " 'SUM_repeats_30_45',\n",
    " 'sum_over_50pec',\n",
    " 'sum_over_985pec',\n",
    " 'SUM_songs_30_45',\n",
    " 'songs_last_30',\n",
    " 'sum_num_unq',\n",
    " 'num_unq_last_15_AVG',\n",
    " 'sum_num_repeat',\n",
    " 'DIFAVG_secs_30_45_45_60',\n",
    " 'SUM_unq_songs_15_30',\n",
    " 'SUM_unq_songs_0_15',\n",
    " 'total_secs',\n",
    " 'over_985perc_last_120',\n",
    " 'SUM_unq_songs_30_45',\n",
    " 'logins_last_30',\n",
    " 'over_985perc_last_60',\n",
    " 'songs_last_120_AVG',\n",
    " 'over_75perc_last_30_AVG',\n",
    " 'STD_unq_songs_30_45',\n",
    " 'over_50perc_last_30_AVG',\n",
    " 'DIFAVG_logins_0_15_15_30',\n",
    " 'total_secs_last_15_AVG',\n",
    " 'logins_last_120',\n",
    " 'SUM_logins_0_15',\n",
    " 'num_unq_last_120_AVG',\n",
    " 'DIFAVG_logins_30_45_45_60',\n",
    " 'SUM_songs50_45_60',\n",
    " 'AVG_songs_30_45',\n",
    " 'SUM_songs50_30_45',\n",
    " 'over_50perc_last_120',\n",
    " 'num_repeat_last_60',\n",
    " 'over_50perc_last_15_AVG',\n",
    " 'total_secs_last_30',\n",
    " 'num_unq_last_7',\n",
    " 'logins_last_30_AVG',\n",
    " 'SUM_secs_30_45',\n",
    " 'DIFSUM_logins_0_15_15_30',\n",
    " 'songs_last_120',\n",
    " 'AVG_secs_0_15',\n",
    " 'songs_last_30_AVG',\n",
    " 'STD_songs50_15_30',\n",
    " 'over_75perc_last_120',\n",
    " 'over_985perc_last_7',\n",
    " 'over_75perc_last_60_AVG']"
   ]
  },
  {
   "cell_type": "code",
   "execution_count": 107,
   "metadata": {
    "jupyter": {
     "source_hidden": true
    }
   },
   "outputs": [],
   "source": [
    "quart75_feats = ['total_transactions',\n",
    " 'login_after_expire_20',\n",
    " 'is_auto_renew_vec',\n",
    " 'total_spent',\n",
    " 'login_after_expire_30',\n",
    " 'total_cancelations',\n",
    " 'avg_spent_trans',\n",
    " 'login_after_expire_10',\n",
    " 'total_spent_zero_vec',\n",
    " 'plan_list_price',\n",
    " 'total_logins',\n",
    " 'net_paid_amount',\n",
    " 'is_cancel',\n",
    " 'AVG_secs_45_60',\n",
    " 'STD_songs50_45_60',\n",
    " 'SUM_logins_45_60',\n",
    " 'STD_secs_45_60',\n",
    " 'over_75perc_last_7_AVG',\n",
    " 'payment_plan_days',\n",
    " 'total_secs_last_7_AVG',\n",
    " 'DIFSUM_logins_15_30_30_45',\n",
    " 'spent_per_song',\n",
    " 'expire_last_login',\n",
    " 'num_unq_last_60',\n",
    " 'over_985perc_last_7_AVG',\n",
    " 'spent_per_num_unq',\n",
    " 'songs_last_7',\n",
    " 'spent_per_num_repeats',\n",
    " 'membership_length',\n",
    " 'logins_last_7_AVG',\n",
    " 'AVG_songs_45_60',\n",
    " 'songs_last_15',\n",
    " 'DIFAVG_logins_15_30_30_45',\n",
    " 'spent_per_logins',\n",
    " 'num_repeat_last_7',\n",
    " 'AVG_unq_songs_0_15',\n",
    " 'num_unq_last_7_AVG',\n",
    " 'DIFAVG_secs_15_30_30_45',\n",
    " 'AVG_logins_45_60',\n",
    " 'spent_per_secs',\n",
    " 'total_secs_last_30_AVG',\n",
    " 'AVG_logins_30_45',\n",
    " 'songs_last_60_AVG',\n",
    " 'payment_method_agg_vec',\n",
    " 'over_985perc_last_15_AVG',\n",
    " 'num_unq_last_30',\n",
    " 'SUM_logins_30_45',\n",
    " 'logins_last_60_AVG',\n",
    " 'SUM_unq_songs_45_60',\n",
    " 'logins_last_60',\n",
    " 'over_50perc_last_7_AVG',\n",
    " 'SUM_songs_45_60',\n",
    " 'AVG_unq_songs_45_60',\n",
    " 'songs_last_60',\n",
    " 'sum_over_985pec',\n",
    " 'songs_last_30',\n",
    " 'songs_last_120_AVG',\n",
    " 'STD_songs50_15_30']"
   ]
  },
  {
   "cell_type": "markdown",
   "metadata": {},
   "source": [
    "--------------"
   ]
  },
  {
   "cell_type": "markdown",
   "metadata": {},
   "source": [
    "### - <font color=blue>Train Model: Mean Features, All Splits</font> -"
   ]
  },
  {
   "cell_type": "code",
   "execution_count": null,
   "metadata": {},
   "outputs": [],
   "source": [
    "# Create master list of feature names for model\n",
    "final_features = mean_feats"
   ]
  },
  {
   "cell_type": "code",
   "execution_count": null,
   "metadata": {},
   "outputs": [],
   "source": [
    "# Specify the numeric features we will be transforming, and the name of the resulting output feature\n",
    "assembler = VectorAssembler(\n",
    "    inputCols= final_features,\n",
    "    outputCol='features')"
   ]
  },
  {
   "cell_type": "code",
   "execution_count": null,
   "metadata": {},
   "outputs": [],
   "source": [
    "# Create pipeline objects\n",
    "rfc_pipe = Pipeline(stages=[is_auto_renew_encoder,never_active_subscriber_encoder,\n",
    "                            total_spent_zero_encoder,city_agg_encoder,payment_method_agg_encoder,\n",
    "                            assembler,scaler,rfc])"
   ]
  },
  {
   "cell_type": "code",
   "execution_count": null,
   "metadata": {},
   "outputs": [],
   "source": [
    "# Parameter Grid for Random Forest Hyperparameterization\n",
    "paramGrid = ParamGridBuilder() \\\n",
    "    .addGrid(rfc.impurity,['entropy']) \\\n",
    "    .addGrid(rfc.maxDepth,[7]) \\\n",
    "    .build()\n",
    "\n",
    "# Instantiate Cross Validation block\n",
    "rfc_cv = CrossValidator(estimator=rfc_pipe,\n",
    "                          estimatorParamMaps=paramGrid,\n",
    "                          evaluator=binary_evaluator,\n",
    "                          numFolds=7)"
   ]
  },
  {
   "cell_type": "markdown",
   "metadata": {},
   "source": [
    "***Random Forest Classifiers***"
   ]
  },
  {
   "cell_type": "code",
   "execution_count": null,
   "metadata": {},
   "outputs": [
    {
     "name": "stdout",
     "output_type": "stream",
     "text": [
      "Time spent for training: 74.0\n"
     ]
    }
   ],
   "source": [
    "# GBT Training on Trainset 1 to 1\n",
    "start = time.time()\n",
    "rfc_model_1to1mean = rfc_cv.fit(DRV_Jan2016_1to1)\n",
    "end = time.time()\n",
    "print('Time spent for training: {}'.format(round(end-start)))"
   ]
  },
  {
   "cell_type": "code",
   "execution_count": null,
   "metadata": {},
   "outputs": [
    {
     "name": "stdout",
     "output_type": "stream",
     "text": [
      "Time spent for training: 88.0\n"
     ]
    }
   ],
   "source": [
    "# GBT Training on Trainset 3 to 1\n",
    "start = time.time()\n",
    "rfc_model_3to1mean = rfc_cv.fit(DRV_Jan2016_3to1)\n",
    "end = time.time()\n",
    "print('Time spent for training: {}'.format(round(end-start)))"
   ]
  },
  {
   "cell_type": "code",
   "execution_count": null,
   "metadata": {},
   "outputs": [
    {
     "name": "stdout",
     "output_type": "stream",
     "text": [
      "Time spent for training: 105.0\n"
     ]
    }
   ],
   "source": [
    "# GBT Training on Trainset 5 to 1\n",
    "start = time.time()\n",
    "rfc_model_5to1mean = rfc_cv.fit(DRV_Jan2016_5to1)\n",
    "end = time.time()\n",
    "print('Time spent for training: {}'.format(round(end-start)))"
   ]
  },
  {
   "cell_type": "code",
   "execution_count": null,
   "metadata": {},
   "outputs": [
    {
     "name": "stdout",
     "output_type": "stream",
     "text": [
      "Time spent for training: 121.0\n"
     ]
    }
   ],
   "source": [
    "# GBT Training on Trainset 7 to 1\n",
    "start = time.time()\n",
    "rfc_model_7to1mean = rfc_cv.fit(DRV_Jan2016_7to1)\n",
    "end = time.time()\n",
    "print('Time spent for training: {}'.format(round(end-start)))"
   ]
  },
  {
   "cell_type": "code",
   "execution_count": null,
   "metadata": {},
   "outputs": [
    {
     "name": "stdout",
     "output_type": "stream",
     "text": [
      "Time spent for training: 137.0\n"
     ]
    }
   ],
   "source": [
    "# GBT Training on Trainset 9 to 1\n",
    "start = time.time()\n",
    "rfc_model_9to1mean = rfc_cv.fit(DRV_Jan2016_9to1)\n",
    "end = time.time()\n",
    "print('Time spent for training: {}'.format(round(end-start)))"
   ]
  },
  {
   "cell_type": "code",
   "execution_count": null,
   "metadata": {},
   "outputs": [
    {
     "name": "stdout",
     "output_type": "stream",
     "text": [
      "Time spent for training: 152.0\n"
     ]
    }
   ],
   "source": [
    "# GBT Training on Trainset 11 to 1\n",
    "start = time.time()\n",
    "rfc_model_11to1mean = rfc_cv.fit(DRV_Jan2016_11to1)\n",
    "end = time.time()\n",
    "print('Time spent for training: {}'.format(round(end-start)))"
   ]
  },
  {
   "cell_type": "code",
   "execution_count": null,
   "metadata": {},
   "outputs": [
    {
     "name": "stdout",
     "output_type": "stream",
     "text": [
      "Time spent for training: 162.0\n"
     ]
    }
   ],
   "source": [
    "# GBT Training on Trainset 13 to 1\n",
    "start = time.time()\n",
    "rfc_model_13to1mean = rfc_cv.fit(DRV_Jan2016_13to1)\n",
    "end = time.time()\n",
    "print('Time spent for training: {}'.format(round(end-start)))"
   ]
  },
  {
   "cell_type": "code",
   "execution_count": null,
   "metadata": {},
   "outputs": [],
   "source": [
    "# Dictionary of Models that were created\n",
    "models_created = {\n",
    "                  'rfc_model_1to1mean' : (rfc_model_1to1mean, DRV_Jan2016_1to1),\n",
    "                  'rfc_model_3to1mean' : (rfc_model_3to1mean, DRV_Jan2016_3to1),\n",
    "                  'rfc_model_5to1mean' : (rfc_model_5to1mean, DRV_Jan2016_5to1),\n",
    "                  'rfc_model_7to1mean' : (rfc_model_7to1mean, DRV_Jan2016_7to1),\n",
    "                  'rfc_model_9to1mean' : (rfc_model_9to1mean, DRV_Jan2016_9to1),\n",
    "                  'rfc_model_11to1mean' : (rfc_model_11to1mean, DRV_Jan2016_11to1),\n",
    "                  'rfc_model_13to1mean' : (rfc_model_13to1mean, DRV_Jan2016_13to1)}"
   ]
  },
  {
   "cell_type": "markdown",
   "metadata": {},
   "source": [
    "#### <font color=purple>Model Evaluation: Optimal Parameters</font>"
   ]
  },
  {
   "cell_type": "code",
   "execution_count": null,
   "metadata": {},
   "outputs": [],
   "source": [
    "opti_params = pd.DataFrame()\n",
    "\n",
    "for model_name, (model1, train_set) in models_created.items():\n",
    "    scores = model1.avgMetrics\n",
    "    params = [{p.name: v for p, v in m.items()} for m in model1.getEstimatorParamMaps()]\n",
    "    params_pd = pd.DataFrame(params)\n",
    "    params_pd['AUC'] = scores\n",
    "    params_pd['Model'] = model_name\n",
    "    best = params_pd.sort_values('AUC', ascending=False).head(1)\n",
    "    opti_params = opti_params.append(best)\n",
    "\n",
    "opti_params"
   ]
  },
  {
   "cell_type": "markdown",
   "metadata": {},
   "source": [
    "### - <font color=blue>Evaluate Train Model: Mean Features, All Splits</font> -"
   ]
  },
  {
   "cell_type": "code",
   "execution_count": null,
   "metadata": {},
   "outputs": [
    {
     "name": "stdout",
     "output_type": "stream",
     "text": [
      "rfc_model_3to1mean\n",
      "[[638171  34580]\n",
      " [  5154  13994]]\n",
      " \n",
      "rfc_model_7to1mean\n",
      "[[659273  13478]\n",
      " [  8488  10660]]\n",
      " \n",
      "rfc_model_1to1mean\n",
      "[[584466  88285]\n",
      " [  2025  17123]]\n",
      " \n",
      "rfc_model_5to1mean\n",
      "[[651458  21293]\n",
      " [  6956  12192]]\n",
      " \n",
      "rfc_model_9to1mean\n",
      "[[663602   9149]\n",
      " [  9691   9457]]\n",
      " \n",
      "rfc_model_13to1mean\n",
      "[[667287   5464]\n",
      " [ 10982   8166]]\n",
      " \n",
      "rfc_model_11to1mean\n",
      "[[665443   7308]\n",
      " [ 10395   8753]]\n",
      " \n"
     ]
    }
   ],
   "source": [
    "## Create empty dataframe and populate with Train Set transformation results.\n",
    "train_results = pd.DataFrame()\n",
    "\n",
    "# Transform Train Sets\n",
    "for model_name, (model1, train_set_test) in models_created.items():\n",
    "    temp = model1.transform(DRV_Jan2016)\n",
    "    \n",
    "    # Create a Dataframe of Train Results\n",
    "    train_results = train_results.append(ClassEvaluator(resultname=model_name, resultdata=temp, model=model1).evaluate())\n",
    "    print('{}'.format(model_name))\n",
    "    print(ClassEvaluator(resultname=model_name, resultdata=temp, model=model1).confusionmatrix())\n",
    "    print(' ')"
   ]
  },
  {
   "cell_type": "code",
   "execution_count": null,
   "metadata": {},
   "outputs": [
    {
     "data": {
      "text/html": [
       "<div>\n",
       "<style scoped>\n",
       "    .dataframe tbody tr th:only-of-type {\n",
       "        vertical-align: middle;\n",
       "    }\n",
       "\n",
       "    .dataframe tbody tr th {\n",
       "        vertical-align: top;\n",
       "    }\n",
       "\n",
       "    .dataframe thead th {\n",
       "        text-align: right;\n",
       "    }\n",
       "</style>\n",
       "<table border=\"1\" class=\"dataframe\">\n",
       "  <thead>\n",
       "    <tr style=\"text-align: right;\">\n",
       "      <th></th>\n",
       "      <th>resultname</th>\n",
       "      <th>AUC</th>\n",
       "      <th>f1</th>\n",
       "      <th>precision</th>\n",
       "      <th>recall</th>\n",
       "      <th>error</th>\n",
       "    </tr>\n",
       "  </thead>\n",
       "  <tbody>\n",
       "    <tr>\n",
       "      <th>0</th>\n",
       "      <td>rfc_model_1to1mean</td>\n",
       "      <td>0.881507</td>\n",
       "      <td>0.928277</td>\n",
       "      <td>0.868770</td>\n",
       "      <td>0.996547</td>\n",
       "      <td>0.130525</td>\n",
       "    </tr>\n",
       "    <tr>\n",
       "      <th>0</th>\n",
       "      <td>rfc_model_3to1mean</td>\n",
       "      <td>0.839716</td>\n",
       "      <td>0.969804</td>\n",
       "      <td>0.948599</td>\n",
       "      <td>0.991988</td>\n",
       "      <td>0.057427</td>\n",
       "    </tr>\n",
       "    <tr>\n",
       "      <th>0</th>\n",
       "      <td>rfc_model_5to1mean</td>\n",
       "      <td>0.802537</td>\n",
       "      <td>0.978774</td>\n",
       "      <td>0.968349</td>\n",
       "      <td>0.989435</td>\n",
       "      <td>0.040828</td>\n",
       "    </tr>\n",
       "    <tr>\n",
       "      <th>0</th>\n",
       "      <td>rfc_model_7to1mean</td>\n",
       "      <td>0.768341</td>\n",
       "      <td>0.983609</td>\n",
       "      <td>0.979966</td>\n",
       "      <td>0.987289</td>\n",
       "      <td>0.031747</td>\n",
       "    </tr>\n",
       "    <tr>\n",
       "      <th>0</th>\n",
       "      <td>rfc_model_9to1mean</td>\n",
       "      <td>0.740145</td>\n",
       "      <td>0.985998</td>\n",
       "      <td>0.986401</td>\n",
       "      <td>0.985607</td>\n",
       "      <td>0.027229</td>\n",
       "    </tr>\n",
       "    <tr>\n",
       "      <th>0</th>\n",
       "      <td>rfc_model_11to1mean</td>\n",
       "      <td>0.723130</td>\n",
       "      <td>0.986868</td>\n",
       "      <td>0.989137</td>\n",
       "      <td>0.984619</td>\n",
       "      <td>0.025586</td>\n",
       "    </tr>\n",
       "    <tr>\n",
       "      <th>0</th>\n",
       "      <td>rfc_model_13to1mean</td>\n",
       "      <td>0.709173</td>\n",
       "      <td>0.987822</td>\n",
       "      <td>0.991878</td>\n",
       "      <td>0.983809</td>\n",
       "      <td>0.023769</td>\n",
       "    </tr>\n",
       "  </tbody>\n",
       "</table>\n",
       "</div>"
      ],
      "text/plain": [
       "            resultname       AUC        f1  precision    recall     error\n",
       "0   rfc_model_1to1mean  0.881507  0.928277   0.868770  0.996547  0.130525\n",
       "0   rfc_model_3to1mean  0.839716  0.969804   0.948599  0.991988  0.057427\n",
       "0   rfc_model_5to1mean  0.802537  0.978774   0.968349  0.989435  0.040828\n",
       "0   rfc_model_7to1mean  0.768341  0.983609   0.979966  0.987289  0.031747\n",
       "0   rfc_model_9to1mean  0.740145  0.985998   0.986401  0.985607  0.027229\n",
       "0  rfc_model_11to1mean  0.723130  0.986868   0.989137  0.984619  0.025586\n",
       "0  rfc_model_13to1mean  0.709173  0.987822   0.991878  0.983809  0.023769"
      ]
     },
     "execution_count": 47,
     "metadata": {},
     "output_type": "execute_result"
    }
   ],
   "source": [
    "# Evaluate Training Model\n",
    "train_results.sort_values('AUC', ascending=False)"
   ]
  },
  {
   "cell_type": "markdown",
   "metadata": {},
   "source": [
    "### - <font color=blue>Evaluate Validation Model: Mean Features, All Splits</font> -"
   ]
  },
  {
   "cell_type": "code",
   "execution_count": null,
   "metadata": {},
   "outputs": [
    {
     "name": "stdout",
     "output_type": "stream",
     "text": [
      "rfc_model_3to1mean\n",
      "[[499640  28564]\n",
      " [  6426  13497]]\n",
      " \n",
      "rfc_model_7to1mean\n",
      "[[517401  10803]\n",
      " [ 11056   8867]]\n",
      " \n",
      "rfc_model_1to1mean\n",
      "[[450209  77995]\n",
      " [  2457  17466]]\n",
      " \n",
      "rfc_model_5to1mean\n",
      "[[511113  17091]\n",
      " [  9010  10913]]\n",
      " \n",
      "rfc_model_9to1mean\n",
      "[[520717   7487]\n",
      " [ 12260   7663]]\n",
      " \n",
      "rfc_model_13to1mean\n",
      "[[523298   4906]\n",
      " [ 13601   6322]]\n",
      " \n",
      "rfc_model_11to1mean\n",
      "[[522165   6039]\n",
      " [ 13099   6824]]\n",
      " \n"
     ]
    }
   ],
   "source": [
    "# Create empty dataframe and populate with Train Set transformation results.\n",
    "validation_results = pd.DataFrame()\n",
    "\n",
    "# Transform Train Sets\n",
    "for model_name, (model1, train_set) in models_created.items():\n",
    "    temp = model1.transform(DRV_Feb2016)    \n",
    "    \n",
    "    # Create a Dataframe of Train Results\n",
    "    validation_results = validation_results.append(ClassEvaluator(resultname=model_name, resultdata=temp, model=model1).evaluate())\n",
    "    print('{}'.format(model_name))\n",
    "    print(ClassEvaluator(resultname=model_name, resultdata=temp, model=model1).confusionmatrix())\n",
    "    print(' ')"
   ]
  },
  {
   "cell_type": "code",
   "execution_count": null,
   "metadata": {},
   "outputs": [
    {
     "data": {
      "text/html": [
       "<div>\n",
       "<style scoped>\n",
       "    .dataframe tbody tr th:only-of-type {\n",
       "        vertical-align: middle;\n",
       "    }\n",
       "\n",
       "    .dataframe tbody tr th {\n",
       "        vertical-align: top;\n",
       "    }\n",
       "\n",
       "    .dataframe thead th {\n",
       "        text-align: right;\n",
       "    }\n",
       "</style>\n",
       "<table border=\"1\" class=\"dataframe\">\n",
       "  <thead>\n",
       "    <tr style=\"text-align: right;\">\n",
       "      <th></th>\n",
       "      <th>resultname</th>\n",
       "      <th>AUC</th>\n",
       "      <th>f1</th>\n",
       "      <th>precision</th>\n",
       "      <th>recall</th>\n",
       "      <th>error</th>\n",
       "    </tr>\n",
       "  </thead>\n",
       "  <tbody>\n",
       "    <tr>\n",
       "      <th>0</th>\n",
       "      <td>rfc_model_1to1mean</td>\n",
       "      <td>0.864507</td>\n",
       "      <td>0.917974</td>\n",
       "      <td>0.852339</td>\n",
       "      <td>0.994572</td>\n",
       "      <td>0.146776</td>\n",
       "    </tr>\n",
       "    <tr>\n",
       "      <th>0</th>\n",
       "      <td>rfc_model_3to1mean</td>\n",
       "      <td>0.811690</td>\n",
       "      <td>0.966164</td>\n",
       "      <td>0.945922</td>\n",
       "      <td>0.987302</td>\n",
       "      <td>0.063836</td>\n",
       "    </tr>\n",
       "    <tr>\n",
       "      <th>0</th>\n",
       "      <td>rfc_model_5to1mean</td>\n",
       "      <td>0.757701</td>\n",
       "      <td>0.975097</td>\n",
       "      <td>0.967643</td>\n",
       "      <td>0.982677</td>\n",
       "      <td>0.047619</td>\n",
       "    </tr>\n",
       "    <tr>\n",
       "      <th>0</th>\n",
       "      <td>rfc_model_7to1mean</td>\n",
       "      <td>0.712306</td>\n",
       "      <td>0.979308</td>\n",
       "      <td>0.979548</td>\n",
       "      <td>0.979079</td>\n",
       "      <td>0.039879</td>\n",
       "    </tr>\n",
       "    <tr>\n",
       "      <th>0</th>\n",
       "      <td>rfc_model_9to1mean</td>\n",
       "      <td>0.685228</td>\n",
       "      <td>0.981386</td>\n",
       "      <td>0.985826</td>\n",
       "      <td>0.976997</td>\n",
       "      <td>0.036026</td>\n",
       "    </tr>\n",
       "    <tr>\n",
       "      <th>0</th>\n",
       "      <td>rfc_model_11to1mean</td>\n",
       "      <td>0.665543</td>\n",
       "      <td>0.981999</td>\n",
       "      <td>0.988567</td>\n",
       "      <td>0.975528</td>\n",
       "      <td>0.034915</td>\n",
       "    </tr>\n",
       "    <tr>\n",
       "      <th>0</th>\n",
       "      <td>rfc_model_13to1mean</td>\n",
       "      <td>0.654017</td>\n",
       "      <td>0.982619</td>\n",
       "      <td>0.990712</td>\n",
       "      <td>0.974667</td>\n",
       "      <td>0.033764</td>\n",
       "    </tr>\n",
       "  </tbody>\n",
       "</table>\n",
       "</div>"
      ],
      "text/plain": [
       "            resultname       AUC        f1  precision    recall     error\n",
       "0   rfc_model_1to1mean  0.864507  0.917974   0.852339  0.994572  0.146776\n",
       "0   rfc_model_3to1mean  0.811690  0.966164   0.945922  0.987302  0.063836\n",
       "0   rfc_model_5to1mean  0.757701  0.975097   0.967643  0.982677  0.047619\n",
       "0   rfc_model_7to1mean  0.712306  0.979308   0.979548  0.979079  0.039879\n",
       "0   rfc_model_9to1mean  0.685228  0.981386   0.985826  0.976997  0.036026\n",
       "0  rfc_model_11to1mean  0.665543  0.981999   0.988567  0.975528  0.034915\n",
       "0  rfc_model_13to1mean  0.654017  0.982619   0.990712  0.974667  0.033764"
      ]
     },
     "execution_count": 49,
     "metadata": {},
     "output_type": "execute_result"
    }
   ],
   "source": [
    "# Evaluate Validation Model\n",
    "validation_results.sort_values('AUC', ascending=False)"
   ]
  },
  {
   "cell_type": "code",
   "execution_count": null,
   "metadata": {},
   "outputs": [],
   "source": []
  },
  {
   "cell_type": "markdown",
   "metadata": {},
   "source": [
    "### - <font color=blue>Train Model: 75th Percentile, All Splits</font> -"
   ]
  },
  {
   "cell_type": "code",
   "execution_count": null,
   "metadata": {},
   "outputs": [],
   "source": [
    "# Create master list of feature names for model\n",
    "final_features = quart75_feats"
   ]
  },
  {
   "cell_type": "code",
   "execution_count": null,
   "metadata": {},
   "outputs": [],
   "source": [
    "# Specify the numeric features we will be transforming, and the name of the resulting output feature\n",
    "assembler = VectorAssembler(\n",
    "    inputCols= final_features,\n",
    "    outputCol='features')"
   ]
  },
  {
   "cell_type": "code",
   "execution_count": null,
   "metadata": {},
   "outputs": [],
   "source": [
    "# Create pipeline objects\n",
    "rfc_pipe = Pipeline(stages=[is_auto_renew_encoder,never_active_subscriber_encoder,\n",
    "                            total_spent_zero_encoder,city_agg_encoder,payment_method_agg_encoder,\n",
    "                            assembler,scaler,rfc])"
   ]
  },
  {
   "cell_type": "code",
   "execution_count": null,
   "metadata": {},
   "outputs": [],
   "source": [
    "# Parameter Grid for Random Forest Hyperparameterization\n",
    "paramGrid = ParamGridBuilder() \\\n",
    "    .addGrid(rfc.impurity,['entropy']) \\\n",
    "    .addGrid(rfc.maxDepth,[7]) \\\n",
    "    .build()\n",
    "\n",
    "# Instantiate Cross Validation block\n",
    "rfc_cv = CrossValidator(estimator=rfc_pipe,\n",
    "                          estimatorParamMaps=paramGrid,\n",
    "                          evaluator=binary_evaluator,\n",
    "                          numFolds=7)"
   ]
  },
  {
   "cell_type": "markdown",
   "metadata": {},
   "source": [
    "***Random Forest Classifiers***"
   ]
  },
  {
   "cell_type": "code",
   "execution_count": null,
   "metadata": {},
   "outputs": [
    {
     "name": "stdout",
     "output_type": "stream",
     "text": [
      "Time spent for training: 68.0\n"
     ]
    }
   ],
   "source": [
    "# GBT Training on Trainset 1 to 1\n",
    "start = time.time()\n",
    "rfc_model_1to175 = rfc_cv.fit(DRV_Jan2016_1to1)\n",
    "end = time.time()\n",
    "print('Time spent for training: {}'.format(round(end-start)))"
   ]
  },
  {
   "cell_type": "code",
   "execution_count": null,
   "metadata": {},
   "outputs": [
    {
     "name": "stdout",
     "output_type": "stream",
     "text": [
      "Time spent for training: 91.0\n"
     ]
    }
   ],
   "source": [
    "# GBT Training on Trainset 3 to 1\n",
    "start = time.time()\n",
    "rfc_model_3to175 = rfc_cv.fit(DRV_Jan2016_3to1)\n",
    "end = time.time()\n",
    "print('Time spent for training: {}'.format(round(end-start)))"
   ]
  },
  {
   "cell_type": "code",
   "execution_count": null,
   "metadata": {},
   "outputs": [
    {
     "name": "stdout",
     "output_type": "stream",
     "text": [
      "Time spent for training: 102.0\n"
     ]
    }
   ],
   "source": [
    "# GBT Training on Trainset 5 to 1\n",
    "start = time.time()\n",
    "rfc_model_5to175 = rfc_cv.fit(DRV_Jan2016_5to1)\n",
    "end = time.time()\n",
    "print('Time spent for training: {}'.format(round(end-start)))"
   ]
  },
  {
   "cell_type": "code",
   "execution_count": null,
   "metadata": {},
   "outputs": [
    {
     "name": "stdout",
     "output_type": "stream",
     "text": [
      "Time spent for training: 121.0\n"
     ]
    }
   ],
   "source": [
    "# GBT Training on Trainset 7 to 1\n",
    "start = time.time()\n",
    "rfc_model_7to175 = rfc_cv.fit(DRV_Jan2016_7to1)\n",
    "end = time.time()\n",
    "print('Time spent for training: {}'.format(round(end-start)))"
   ]
  },
  {
   "cell_type": "code",
   "execution_count": null,
   "metadata": {},
   "outputs": [
    {
     "name": "stdout",
     "output_type": "stream",
     "text": [
      "Time spent for training: 140.0\n"
     ]
    }
   ],
   "source": [
    "# GBT Training on Trainset 9 to 1\n",
    "start = time.time()\n",
    "rfc_model_9to175 = rfc_cv.fit(DRV_Jan2016_9to1)\n",
    "end = time.time()\n",
    "print('Time spent for training: {}'.format(round(end-start)))"
   ]
  },
  {
   "cell_type": "code",
   "execution_count": null,
   "metadata": {},
   "outputs": [
    {
     "name": "stdout",
     "output_type": "stream",
     "text": [
      "Time spent for training: 156.0\n"
     ]
    }
   ],
   "source": [
    "# GBT Training on Trainset 11 to 1\n",
    "start = time.time()\n",
    "rfc_model_11to175 = rfc_cv.fit(DRV_Jan2016_11to1)\n",
    "end = time.time()\n",
    "print('Time spent for training: {}'.format(round(end-start)))"
   ]
  },
  {
   "cell_type": "code",
   "execution_count": null,
   "metadata": {},
   "outputs": [
    {
     "name": "stdout",
     "output_type": "stream",
     "text": [
      "Time spent for training: 166.0\n"
     ]
    }
   ],
   "source": [
    "# GBT Training on Trainset 13 to 1\n",
    "start = time.time()\n",
    "rfc_model_13to175 = rfc_cv.fit(DRV_Jan2016_13to1)\n",
    "end = time.time()\n",
    "print('Time spent for training: {}'.format(round(end-start)))"
   ]
  },
  {
   "cell_type": "code",
   "execution_count": null,
   "metadata": {},
   "outputs": [],
   "source": [
    "# Dictionary of Models that were created\n",
    "models_created75 = {\n",
    "                  'rfc_model_1to175' : (rfc_model_1to175, DRV_Jan2016_1to1),\n",
    "                  'rfc_model_3to175' : (rfc_model_3to175, DRV_Jan2016_3to1),\n",
    "                  'rfc_model_5to175' : (rfc_model_5to175, DRV_Jan2016_5to1),\n",
    "                  'rfc_model_7to175' : (rfc_model_7to175, DRV_Jan2016_7to1),\n",
    "                  'rfc_model_9to175' : (rfc_model_9to175, DRV_Jan2016_9to1),\n",
    "                  'rfc_model_11to175' : (rfc_model_11to175, DRV_Jan2016_11to1),\n",
    "                  'rfc_model_13to175' : (rfc_model_13to175, DRV_Jan2016_13to1)}"
   ]
  },
  {
   "cell_type": "markdown",
   "metadata": {},
   "source": [
    "### - <font color=blue>Evaluate Train Model: 75th Percentile, All Splits</font> -"
   ]
  },
  {
   "cell_type": "code",
   "execution_count": null,
   "metadata": {},
   "outputs": [
    {
     "name": "stdout",
     "output_type": "stream",
     "text": [
      "rfc_model_3to175\n",
      "[[638770  33981]\n",
      " [  5298  13850]]\n",
      " \n",
      "rfc_model_9to175\n",
      "[[663520   9231]\n",
      " [  9735   9413]]\n",
      " \n",
      "rfc_model_13to175\n",
      "[[667783   4968]\n",
      " [ 11176   7972]]\n",
      " \n",
      "rfc_model_7to175\n",
      "[[660958  11793]\n",
      " [  8900  10248]]\n",
      " \n",
      "rfc_model_11to175\n",
      "[[665763   6988]\n",
      " [ 10548   8600]]\n",
      " \n",
      "rfc_model_5to175\n",
      "[[653701  19050]\n",
      " [  7173  11975]]\n",
      " \n",
      "rfc_model_1to175\n",
      "[[591102  81649]\n",
      " [  2594  16554]]\n",
      " \n"
     ]
    }
   ],
   "source": [
    "## Create empty dataframe and populate with Train Set transformation results.\n",
    "train_results75 = pd.DataFrame()\n",
    "\n",
    "# Transform Train Sets\n",
    "for model_name, (model1, train_set_test) in models_created75.items():\n",
    "    temp = model1.transform(DRV_Jan2016)\n",
    "    \n",
    "    # Create a Dataframe of Train Results\n",
    "    train_results75 = train_results75.append(ClassEvaluator(resultname=model_name, resultdata=temp, model=model1).evaluate())\n",
    "    print('{}'.format(model_name))\n",
    "    print(ClassEvaluator(resultname=model_name, resultdata=temp, model=model1).confusionmatrix())\n",
    "    print(' ')"
   ]
  },
  {
   "cell_type": "code",
   "execution_count": null,
   "metadata": {},
   "outputs": [
    {
     "data": {
      "text/html": [
       "<div>\n",
       "<style scoped>\n",
       "    .dataframe tbody tr th:only-of-type {\n",
       "        vertical-align: middle;\n",
       "    }\n",
       "\n",
       "    .dataframe tbody tr th {\n",
       "        vertical-align: top;\n",
       "    }\n",
       "\n",
       "    .dataframe thead th {\n",
       "        text-align: right;\n",
       "    }\n",
       "</style>\n",
       "<table border=\"1\" class=\"dataframe\">\n",
       "  <thead>\n",
       "    <tr style=\"text-align: right;\">\n",
       "      <th></th>\n",
       "      <th>resultname</th>\n",
       "      <th>AUC</th>\n",
       "      <th>f1</th>\n",
       "      <th>precision</th>\n",
       "      <th>recall</th>\n",
       "      <th>error</th>\n",
       "    </tr>\n",
       "  </thead>\n",
       "  <tbody>\n",
       "    <tr>\n",
       "      <th>0</th>\n",
       "      <td>rfc_model_1to175</td>\n",
       "      <td>0.871582</td>\n",
       "      <td>0.933476</td>\n",
       "      <td>0.878634</td>\n",
       "      <td>0.995631</td>\n",
       "      <td>0.121756</td>\n",
       "    </tr>\n",
       "    <tr>\n",
       "      <th>0</th>\n",
       "      <td>rfc_model_3to175</td>\n",
       "      <td>0.836401</td>\n",
       "      <td>0.970166</td>\n",
       "      <td>0.949489</td>\n",
       "      <td>0.991774</td>\n",
       "      <td>0.056770</td>\n",
       "    </tr>\n",
       "    <tr>\n",
       "      <th>0</th>\n",
       "      <td>rfc_model_5to175</td>\n",
       "      <td>0.798538</td>\n",
       "      <td>0.980332</td>\n",
       "      <td>0.971683</td>\n",
       "      <td>0.989146</td>\n",
       "      <td>0.037900</td>\n",
       "    </tr>\n",
       "    <tr>\n",
       "      <th>0</th>\n",
       "      <td>rfc_model_7to175</td>\n",
       "      <td>0.758835</td>\n",
       "      <td>0.984582</td>\n",
       "      <td>0.982470</td>\n",
       "      <td>0.986714</td>\n",
       "      <td>0.029908</td>\n",
       "    </tr>\n",
       "    <tr>\n",
       "      <th>0</th>\n",
       "      <td>rfc_model_9to175</td>\n",
       "      <td>0.738935</td>\n",
       "      <td>0.985904</td>\n",
       "      <td>0.986279</td>\n",
       "      <td>0.985540</td>\n",
       "      <td>0.027412</td>\n",
       "    </tr>\n",
       "    <tr>\n",
       "      <th>0</th>\n",
       "      <td>rfc_model_11to175</td>\n",
       "      <td>0.719373</td>\n",
       "      <td>0.986996</td>\n",
       "      <td>0.989613</td>\n",
       "      <td>0.984404</td>\n",
       "      <td>0.025345</td>\n",
       "    </tr>\n",
       "    <tr>\n",
       "      <th>0</th>\n",
       "      <td>rfc_model_13to175</td>\n",
       "      <td>0.704476</td>\n",
       "      <td>0.988052</td>\n",
       "      <td>0.992615</td>\n",
       "      <td>0.983540</td>\n",
       "      <td>0.023333</td>\n",
       "    </tr>\n",
       "  </tbody>\n",
       "</table>\n",
       "</div>"
      ],
      "text/plain": [
       "          resultname       AUC        f1  precision    recall     error\n",
       "0   rfc_model_1to175  0.871582  0.933476   0.878634  0.995631  0.121756\n",
       "0   rfc_model_3to175  0.836401  0.970166   0.949489  0.991774  0.056770\n",
       "0   rfc_model_5to175  0.798538  0.980332   0.971683  0.989146  0.037900\n",
       "0   rfc_model_7to175  0.758835  0.984582   0.982470  0.986714  0.029908\n",
       "0   rfc_model_9to175  0.738935  0.985904   0.986279  0.985540  0.027412\n",
       "0  rfc_model_11to175  0.719373  0.986996   0.989613  0.984404  0.025345\n",
       "0  rfc_model_13to175  0.704476  0.988052   0.992615  0.983540  0.023333"
      ]
     },
     "execution_count": 63,
     "metadata": {},
     "output_type": "execute_result"
    }
   ],
   "source": [
    "# Evaluate Training Model\n",
    "train_results75.sort_values('AUC', ascending=False)"
   ]
  },
  {
   "cell_type": "markdown",
   "metadata": {},
   "source": [
    "### - <font color=blue>Evaluate Validation Model: 75th Percentile, All Splits</font> -"
   ]
  },
  {
   "cell_type": "code",
   "execution_count": null,
   "metadata": {},
   "outputs": [
    {
     "name": "stdout",
     "output_type": "stream",
     "text": [
      "rfc_model_3to175\n",
      "[[501233  26971]\n",
      " [  6592  13331]]\n",
      " \n",
      "rfc_model_9to175\n",
      "[[521062   7142]\n",
      " [ 12416   7507]]\n",
      " \n",
      "rfc_model_13to175\n",
      "[[523839   4365]\n",
      " [ 13852   6071]]\n",
      " \n",
      "rfc_model_7to175\n",
      "[[519051   9153]\n",
      " [ 11482   8441]]\n",
      " \n",
      "rfc_model_11to175\n",
      "[[522725   5479]\n",
      " [ 13322   6601]]\n",
      " \n",
      "rfc_model_5to175\n",
      "[[513130  15074]\n",
      " [  9475  10448]]\n",
      " \n",
      "rfc_model_1to175\n",
      "[[456949  71255]\n",
      " [  3277  16646]]\n",
      " \n"
     ]
    }
   ],
   "source": [
    "# Create empty dataframe and populate with Train Set transformation results.\n",
    "validation_results75 = pd.DataFrame()\n",
    "\n",
    "# Transform Train Sets\n",
    "for model_name, (model1, train_set) in models_created75.items():\n",
    "    temp = model1.transform(DRV_Feb2016)    \n",
    "    \n",
    "    # Create a Dataframe of Train Results\n",
    "    validation_results75 = validation_results75.append(ClassEvaluator(resultname=model_name, resultdata=temp, model=model1).evaluate())\n",
    "    print('{}'.format(model_name))\n",
    "    print(ClassEvaluator(resultname=model_name, resultdata=temp, model=model1).confusionmatrix())\n",
    "    print(' ')"
   ]
  },
  {
   "cell_type": "code",
   "execution_count": null,
   "metadata": {},
   "outputs": [
    {
     "data": {
      "text/html": [
       "<div>\n",
       "<style scoped>\n",
       "    .dataframe tbody tr th:only-of-type {\n",
       "        vertical-align: middle;\n",
       "    }\n",
       "\n",
       "    .dataframe tbody tr th {\n",
       "        vertical-align: top;\n",
       "    }\n",
       "\n",
       "    .dataframe thead th {\n",
       "        text-align: right;\n",
       "    }\n",
       "</style>\n",
       "<table border=\"1\" class=\"dataframe\">\n",
       "  <thead>\n",
       "    <tr style=\"text-align: right;\">\n",
       "      <th></th>\n",
       "      <th>resultname</th>\n",
       "      <th>AUC</th>\n",
       "      <th>f1</th>\n",
       "      <th>precision</th>\n",
       "      <th>recall</th>\n",
       "      <th>error</th>\n",
       "    </tr>\n",
       "  </thead>\n",
       "  <tbody>\n",
       "    <tr>\n",
       "      <th>0</th>\n",
       "      <td>rfc_model_1to175</td>\n",
       "      <td>0.850308</td>\n",
       "      <td>0.924591</td>\n",
       "      <td>0.865099</td>\n",
       "      <td>0.992880</td>\n",
       "      <td>0.135976</td>\n",
       "    </tr>\n",
       "    <tr>\n",
       "      <th>0</th>\n",
       "      <td>rfc_model_3to175</td>\n",
       "      <td>0.809032</td>\n",
       "      <td>0.967599</td>\n",
       "      <td>0.948938</td>\n",
       "      <td>0.987019</td>\n",
       "      <td>0.061232</td>\n",
       "    </tr>\n",
       "    <tr>\n",
       "      <th>0</th>\n",
       "      <td>rfc_model_5to175</td>\n",
       "      <td>0.747940</td>\n",
       "      <td>0.976633</td>\n",
       "      <td>0.971462</td>\n",
       "      <td>0.981870</td>\n",
       "      <td>0.044787</td>\n",
       "    </tr>\n",
       "    <tr>\n",
       "      <th>0</th>\n",
       "      <td>rfc_model_7to175</td>\n",
       "      <td>0.703176</td>\n",
       "      <td>0.980505</td>\n",
       "      <td>0.982671</td>\n",
       "      <td>0.978358</td>\n",
       "      <td>0.037646</td>\n",
       "    </tr>\n",
       "    <tr>\n",
       "      <th>0</th>\n",
       "      <td>rfc_model_9to175</td>\n",
       "      <td>0.681640</td>\n",
       "      <td>0.981573</td>\n",
       "      <td>0.986479</td>\n",
       "      <td>0.976726</td>\n",
       "      <td>0.035682</td>\n",
       "    </tr>\n",
       "    <tr>\n",
       "      <th>0</th>\n",
       "      <td>rfc_model_11to175</td>\n",
       "      <td>0.660476</td>\n",
       "      <td>0.982329</td>\n",
       "      <td>0.989627</td>\n",
       "      <td>0.975148</td>\n",
       "      <td>0.034300</td>\n",
       "    </tr>\n",
       "    <tr>\n",
       "      <th>0</th>\n",
       "      <td>rfc_model_13to175</td>\n",
       "      <td>0.648230</td>\n",
       "      <td>0.982904</td>\n",
       "      <td>0.991736</td>\n",
       "      <td>0.974238</td>\n",
       "      <td>0.033235</td>\n",
       "    </tr>\n",
       "  </tbody>\n",
       "</table>\n",
       "</div>"
      ],
      "text/plain": [
       "          resultname       AUC        f1  precision    recall     error\n",
       "0   rfc_model_1to175  0.850308  0.924591   0.865099  0.992880  0.135976\n",
       "0   rfc_model_3to175  0.809032  0.967599   0.948938  0.987019  0.061232\n",
       "0   rfc_model_5to175  0.747940  0.976633   0.971462  0.981870  0.044787\n",
       "0   rfc_model_7to175  0.703176  0.980505   0.982671  0.978358  0.037646\n",
       "0   rfc_model_9to175  0.681640  0.981573   0.986479  0.976726  0.035682\n",
       "0  rfc_model_11to175  0.660476  0.982329   0.989627  0.975148  0.034300\n",
       "0  rfc_model_13to175  0.648230  0.982904   0.991736  0.974238  0.033235"
      ]
     },
     "execution_count": 65,
     "metadata": {},
     "output_type": "execute_result"
    }
   ],
   "source": [
    "# Evaluate Validation Model\n",
    "validation_results75.sort_values('AUC', ascending=False)"
   ]
  },
  {
   "cell_type": "markdown",
   "metadata": {},
   "source": [
    "### - <font color=blue>Train Model: 50th Percentile, All Splits</font> -"
   ]
  },
  {
   "cell_type": "code",
   "execution_count": null,
   "metadata": {},
   "outputs": [],
   "source": [
    "# Create master list of feature names for model\n",
    "final_features = quart50_feats"
   ]
  },
  {
   "cell_type": "code",
   "execution_count": null,
   "metadata": {},
   "outputs": [],
   "source": [
    "# Specify the numeric features we will be transforming, and the name of the resulting output feature\n",
    "assembler = VectorAssembler(\n",
    "    inputCols= final_features,\n",
    "    outputCol='features')"
   ]
  },
  {
   "cell_type": "code",
   "execution_count": null,
   "metadata": {},
   "outputs": [],
   "source": [
    "# # Create pipeline objects\n",
    "rfc_pipe = Pipeline(stages=[is_auto_renew_encoder,never_active_subscriber_encoder,\n",
    "                            total_spent_zero_encoder,city_agg_encoder,payment_method_agg_encoder,\n",
    "                            assembler,scaler,rfc])"
   ]
  },
  {
   "cell_type": "code",
   "execution_count": null,
   "metadata": {},
   "outputs": [],
   "source": [
    "# Parameter Grid for Random Forest Hyperparameterization\n",
    "paramGrid = ParamGridBuilder() \\\n",
    "    .addGrid(rfc.impurity,['entropy']) \\\n",
    "    .addGrid(rfc.maxDepth,[7]) \\\n",
    "    .build()\n",
    "\n",
    "# Instantiate Cross Validation block\n",
    "rfc_cv = CrossValidator(estimator=rfc_pipe,\n",
    "                          estimatorParamMaps=paramGrid,\n",
    "                          evaluator=binary_evaluator,\n",
    "                          numFolds=7)"
   ]
  },
  {
   "cell_type": "markdown",
   "metadata": {},
   "source": [
    "***Random Forest Classifiers***"
   ]
  },
  {
   "cell_type": "code",
   "execution_count": null,
   "metadata": {},
   "outputs": [
    {
     "name": "stdout",
     "output_type": "stream",
     "text": [
      "Time spent for training: 85.0\n"
     ]
    }
   ],
   "source": [
    "# GBT Training on Trainset 1 to 1\n",
    "start = time.time()\n",
    "rfc_model_1to150 = rfc_cv.fit(DRV_Jan2016_1to1)\n",
    "end = time.time()\n",
    "print('Time spent for training: {}'.format(round(end-start)))"
   ]
  },
  {
   "cell_type": "code",
   "execution_count": null,
   "metadata": {},
   "outputs": [
    {
     "name": "stdout",
     "output_type": "stream",
     "text": [
      "Time spent for training: 102.0\n"
     ]
    }
   ],
   "source": [
    "# GBT Training on Trainset 3 to 1\n",
    "start = time.time()\n",
    "rfc_model_3to150 = rfc_cv.fit(DRV_Jan2016_3to1)\n",
    "end = time.time()\n",
    "print('Time spent for training: {}'.format(round(end-start)))"
   ]
  },
  {
   "cell_type": "code",
   "execution_count": null,
   "metadata": {},
   "outputs": [
    {
     "name": "stdout",
     "output_type": "stream",
     "text": [
      "Time spent for training: 120.0\n"
     ]
    }
   ],
   "source": [
    "# GBT Training on Trainset 5 to 1\n",
    "start = time.time()\n",
    "rfc_model_5to150 = rfc_cv.fit(DRV_Jan2016_5to1)\n",
    "end = time.time()\n",
    "print('Time spent for training: {}'.format(round(end-start)))"
   ]
  },
  {
   "cell_type": "code",
   "execution_count": null,
   "metadata": {},
   "outputs": [
    {
     "name": "stdout",
     "output_type": "stream",
     "text": [
      "Time spent for training: 138.0\n"
     ]
    }
   ],
   "source": [
    "# GBT Training on Trainset 7 to 1\n",
    "start = time.time()\n",
    "rfc_model_7to150 = rfc_cv.fit(DRV_Jan2016_7to1)\n",
    "end = time.time()\n",
    "print('Time spent for training: {}'.format(round(end-start)))"
   ]
  },
  {
   "cell_type": "code",
   "execution_count": null,
   "metadata": {},
   "outputs": [
    {
     "name": "stdout",
     "output_type": "stream",
     "text": [
      "Time spent for training: 156.0\n"
     ]
    }
   ],
   "source": [
    "# GBT Training on Trainset 9 to 1\n",
    "start = time.time()\n",
    "rfc_model_9to150 = rfc_cv.fit(DRV_Jan2016_9to1)\n",
    "end = time.time()\n",
    "print('Time spent for training: {}'.format(round(end-start)))"
   ]
  },
  {
   "cell_type": "code",
   "execution_count": null,
   "metadata": {},
   "outputs": [
    {
     "name": "stdout",
     "output_type": "stream",
     "text": [
      "Time spent for training: 177.0\n"
     ]
    }
   ],
   "source": [
    "# GBT Training on Trainset 11 to 1\n",
    "start = time.time()\n",
    "rfc_model_11to150 = rfc_cv.fit(DRV_Jan2016_11to1)\n",
    "end = time.time()\n",
    "print('Time spent for training: {}'.format(round(end-start)))"
   ]
  },
  {
   "cell_type": "code",
   "execution_count": null,
   "metadata": {},
   "outputs": [
    {
     "name": "stdout",
     "output_type": "stream",
     "text": [
      "Time spent for training: 186.0\n"
     ]
    }
   ],
   "source": [
    "# GBT Training on Trainset 13 to 1\n",
    "start = time.time()\n",
    "rfc_model_13to150 = rfc_cv.fit(DRV_Jan2016_13to1)\n",
    "end = time.time()\n",
    "print('Time spent for training: {}'.format(round(end-start)))"
   ]
  },
  {
   "cell_type": "code",
   "execution_count": null,
   "metadata": {},
   "outputs": [],
   "source": [
    "# Dictionary of Models that were created\n",
    "models_created50 = {\n",
    "                  'rfc_model_1to150' : (rfc_model_1to150, DRV_Jan2016_1to1),\n",
    "                  'rfc_model_3to150' : (rfc_model_3to150, DRV_Jan2016_3to1),\n",
    "                  'rfc_model_5to150' : (rfc_model_5to150, DRV_Jan2016_5to1),\n",
    "                  'rfc_model_7to150' : (rfc_model_7to150, DRV_Jan2016_7to1),\n",
    "                  'rfc_model_9to150' : (rfc_model_9to150, DRV_Jan2016_9to1),\n",
    "                  'rfc_model_11to150' : (rfc_model_11to150, DRV_Jan2016_11to1),\n",
    "                  'rfc_model_13to150' : (rfc_model_13to150, DRV_Jan2016_13to1)}"
   ]
  },
  {
   "cell_type": "markdown",
   "metadata": {},
   "source": [
    "### - <font color=blue>Evaluate Train Model: 50th Percentile, All Splits</font> -"
   ]
  },
  {
   "cell_type": "code",
   "execution_count": null,
   "metadata": {},
   "outputs": [
    {
     "name": "stdout",
     "output_type": "stream",
     "text": [
      "rfc_model_9to150\n",
      "[[663874   8877]\n",
      " [ 10048   9100]]\n",
      " \n",
      "rfc_model_13to150\n",
      "[[667296   5455]\n",
      " [ 11619   7529]]\n",
      " \n",
      "rfc_model_3to150\n",
      "[[638826  33925]\n",
      " [  5351  13797]]\n",
      " \n",
      "rfc_model_5to150\n",
      "[[656084  16667]\n",
      " [  7976  11172]]\n",
      " \n",
      "rfc_model_7to150\n",
      "[[662386  10365]\n",
      " [  9606   9542]]\n",
      " \n",
      "rfc_model_11to150\n",
      "[[665845   6906]\n",
      " [ 10835   8313]]\n",
      " \n",
      "rfc_model_1to150\n",
      "[[594630  78121]\n",
      " [  3037  16111]]\n",
      " \n"
     ]
    }
   ],
   "source": [
    "## Create empty dataframe and populate with Train Set transformation results.\n",
    "train_results50 = pd.DataFrame()\n",
    "\n",
    "# Transform Train Sets\n",
    "for model_name, (model1, train_set_test) in models_created50.items():\n",
    "    temp = model1.transform(DRV_Jan2016)\n",
    "    \n",
    "    # Create a Dataframe of Train Results\n",
    "    train_results50 = train_results50.append(ClassEvaluator(resultname=model_name, resultdata=temp, model=model1).evaluate())\n",
    "    print('{}'.format(model_name))\n",
    "    print(ClassEvaluator(resultname=model_name, resultdata=temp, model=model1).confusionmatrix())\n",
    "    print(' ')"
   ]
  },
  {
   "cell_type": "code",
   "execution_count": null,
   "metadata": {},
   "outputs": [
    {
     "data": {
      "text/html": [
       "<div>\n",
       "<style scoped>\n",
       "    .dataframe tbody tr th:only-of-type {\n",
       "        vertical-align: middle;\n",
       "    }\n",
       "\n",
       "    .dataframe tbody tr th {\n",
       "        vertical-align: top;\n",
       "    }\n",
       "\n",
       "    .dataframe thead th {\n",
       "        text-align: right;\n",
       "    }\n",
       "</style>\n",
       "<table border=\"1\" class=\"dataframe\">\n",
       "  <thead>\n",
       "    <tr style=\"text-align: right;\">\n",
       "      <th></th>\n",
       "      <th>resultname</th>\n",
       "      <th>AUC</th>\n",
       "      <th>f1</th>\n",
       "      <th>precision</th>\n",
       "      <th>recall</th>\n",
       "      <th>error</th>\n",
       "    </tr>\n",
       "  </thead>\n",
       "  <tbody>\n",
       "    <tr>\n",
       "      <th>0</th>\n",
       "      <td>rfc_model_1to150</td>\n",
       "      <td>0.862636</td>\n",
       "      <td>0.936112</td>\n",
       "      <td>0.883878</td>\n",
       "      <td>0.994919</td>\n",
       "      <td>0.117297</td>\n",
       "    </tr>\n",
       "    <tr>\n",
       "      <th>0</th>\n",
       "      <td>rfc_model_3to150</td>\n",
       "      <td>0.835059</td>\n",
       "      <td>0.970171</td>\n",
       "      <td>0.949573</td>\n",
       "      <td>0.991693</td>\n",
       "      <td>0.056766</td>\n",
       "    </tr>\n",
       "    <tr>\n",
       "      <th>0</th>\n",
       "      <td>rfc_model_5to150</td>\n",
       "      <td>0.779340</td>\n",
       "      <td>0.981561</td>\n",
       "      <td>0.975226</td>\n",
       "      <td>0.987989</td>\n",
       "      <td>0.035616</td>\n",
       "    </tr>\n",
       "    <tr>\n",
       "      <th>0</th>\n",
       "      <td>rfc_model_7to150</td>\n",
       "      <td>0.741461</td>\n",
       "      <td>0.985144</td>\n",
       "      <td>0.984593</td>\n",
       "      <td>0.985705</td>\n",
       "      <td>0.028864</td>\n",
       "    </tr>\n",
       "    <tr>\n",
       "      <th>0</th>\n",
       "      <td>rfc_model_9to150</td>\n",
       "      <td>0.731025</td>\n",
       "      <td>0.985942</td>\n",
       "      <td>0.986805</td>\n",
       "      <td>0.985090</td>\n",
       "      <td>0.027352</td>\n",
       "    </tr>\n",
       "    <tr>\n",
       "      <th>0</th>\n",
       "      <td>rfc_model_11to150</td>\n",
       "      <td>0.711940</td>\n",
       "      <td>0.986848</td>\n",
       "      <td>0.989735</td>\n",
       "      <td>0.983988</td>\n",
       "      <td>0.025641</td>\n",
       "    </tr>\n",
       "    <tr>\n",
       "      <th>0</th>\n",
       "      <td>rfc_model_13to150</td>\n",
       "      <td>0.692546</td>\n",
       "      <td>0.987363</td>\n",
       "      <td>0.991892</td>\n",
       "      <td>0.982886</td>\n",
       "      <td>0.024677</td>\n",
       "    </tr>\n",
       "  </tbody>\n",
       "</table>\n",
       "</div>"
      ],
      "text/plain": [
       "          resultname       AUC        f1  precision    recall     error\n",
       "0   rfc_model_1to150  0.862636  0.936112   0.883878  0.994919  0.117297\n",
       "0   rfc_model_3to150  0.835059  0.970171   0.949573  0.991693  0.056766\n",
       "0   rfc_model_5to150  0.779340  0.981561   0.975226  0.987989  0.035616\n",
       "0   rfc_model_7to150  0.741461  0.985144   0.984593  0.985705  0.028864\n",
       "0   rfc_model_9to150  0.731025  0.985942   0.986805  0.985090  0.027352\n",
       "0  rfc_model_11to150  0.711940  0.986848   0.989735  0.983988  0.025641\n",
       "0  rfc_model_13to150  0.692546  0.987363   0.991892  0.982886  0.024677"
      ]
     },
     "execution_count": 79,
     "metadata": {},
     "output_type": "execute_result"
    }
   ],
   "source": [
    "# Evaluate Training Model\n",
    "train_results50.sort_values('AUC', ascending=False)"
   ]
  },
  {
   "cell_type": "markdown",
   "metadata": {},
   "source": [
    "### - <font color=blue>Evaluate Validation Model: 50th Percentile, All Splits</font> -"
   ]
  },
  {
   "cell_type": "code",
   "execution_count": null,
   "metadata": {},
   "outputs": [
    {
     "name": "stdout",
     "output_type": "stream",
     "text": [
      "rfc_model_9to150\n",
      "[[521314   6890]\n",
      " [ 12749   7174]]\n",
      " \n",
      "rfc_model_13to150\n",
      "[[524013   4191]\n",
      " [ 14431   5492]]\n",
      " \n",
      "rfc_model_3to150\n",
      "[[501016  27188]\n",
      " [  6444  13479]]\n",
      " \n",
      "rfc_model_5to150\n",
      "[[515107  13097]\n",
      " [ 10369   9554]]\n",
      " \n",
      "rfc_model_7to150\n",
      "[[520397   7807]\n",
      " [ 12314   7609]]\n",
      " \n",
      "rfc_model_11to150\n",
      "[[522948   5256]\n",
      " [ 13620   6303]]\n",
      " \n",
      "rfc_model_1to150\n",
      "[[465413  62791]\n",
      " [  3784  16139]]\n",
      " \n"
     ]
    }
   ],
   "source": [
    "# Create empty dataframe and populate with Train Set transformation results.\n",
    "validation_results50 = pd.DataFrame()\n",
    "\n",
    "# Transform Train Sets\n",
    "for model_name, (model1, train_set) in models_created50.items():\n",
    "    temp = model1.transform(DRV_Feb2016)    \n",
    "    \n",
    "    # Create a Dataframe of Train Results\n",
    "    validation_results50 = validation_results50.append(ClassEvaluator(resultname=model_name, resultdata=temp, model=model1).evaluate())\n",
    "    print('{}'.format(model_name))\n",
    "    print(ClassEvaluator(resultname=model_name, resultdata=temp, model=model1).confusionmatrix())\n",
    "    print(' ')"
   ]
  },
  {
   "cell_type": "code",
   "execution_count": null,
   "metadata": {},
   "outputs": [
    {
     "data": {
      "text/html": [
       "<div>\n",
       "<style scoped>\n",
       "    .dataframe tbody tr th:only-of-type {\n",
       "        vertical-align: middle;\n",
       "    }\n",
       "\n",
       "    .dataframe tbody tr th {\n",
       "        vertical-align: top;\n",
       "    }\n",
       "\n",
       "    .dataframe thead th {\n",
       "        text-align: right;\n",
       "    }\n",
       "</style>\n",
       "<table border=\"1\" class=\"dataframe\">\n",
       "  <thead>\n",
       "    <tr style=\"text-align: right;\">\n",
       "      <th></th>\n",
       "      <th>resultname</th>\n",
       "      <th>AUC</th>\n",
       "      <th>f1</th>\n",
       "      <th>precision</th>\n",
       "      <th>recall</th>\n",
       "      <th>error</th>\n",
       "    </tr>\n",
       "  </thead>\n",
       "  <tbody>\n",
       "    <tr>\n",
       "      <th>0</th>\n",
       "      <td>rfc_model_1to150</td>\n",
       "      <td>0.845596</td>\n",
       "      <td>0.933247</td>\n",
       "      <td>0.881124</td>\n",
       "      <td>0.991935</td>\n",
       "      <td>0.121459</td>\n",
       "    </tr>\n",
       "    <tr>\n",
       "      <th>0</th>\n",
       "      <td>rfc_model_3to150</td>\n",
       "      <td>0.812541</td>\n",
       "      <td>0.967521</td>\n",
       "      <td>0.948527</td>\n",
       "      <td>0.987301</td>\n",
       "      <td>0.061358</td>\n",
       "    </tr>\n",
       "    <tr>\n",
       "      <th>0</th>\n",
       "      <td>rfc_model_5to150</td>\n",
       "      <td>0.727375</td>\n",
       "      <td>0.977724</td>\n",
       "      <td>0.975205</td>\n",
       "      <td>0.980267</td>\n",
       "      <td>0.042811</td>\n",
       "    </tr>\n",
       "    <tr>\n",
       "      <th>0</th>\n",
       "      <td>rfc_model_7to150</td>\n",
       "      <td>0.683570</td>\n",
       "      <td>0.981029</td>\n",
       "      <td>0.985220</td>\n",
       "      <td>0.976884</td>\n",
       "      <td>0.036709</td>\n",
       "    </tr>\n",
       "    <tr>\n",
       "      <th>0</th>\n",
       "      <td>rfc_model_9to150</td>\n",
       "      <td>0.673521</td>\n",
       "      <td>0.981507</td>\n",
       "      <td>0.986956</td>\n",
       "      <td>0.976128</td>\n",
       "      <td>0.035829</td>\n",
       "    </tr>\n",
       "    <tr>\n",
       "      <th>0</th>\n",
       "      <td>rfc_model_11to150</td>\n",
       "      <td>0.653209</td>\n",
       "      <td>0.982267</td>\n",
       "      <td>0.990049</td>\n",
       "      <td>0.974616</td>\n",
       "      <td>0.034437</td>\n",
       "    </tr>\n",
       "    <tr>\n",
       "      <th>0</th>\n",
       "      <td>rfc_model_13to150</td>\n",
       "      <td>0.633863</td>\n",
       "      <td>0.982537</td>\n",
       "      <td>0.992066</td>\n",
       "      <td>0.973199</td>\n",
       "      <td>0.033974</td>\n",
       "    </tr>\n",
       "  </tbody>\n",
       "</table>\n",
       "</div>"
      ],
      "text/plain": [
       "          resultname       AUC        f1  precision    recall     error\n",
       "0   rfc_model_1to150  0.845596  0.933247   0.881124  0.991935  0.121459\n",
       "0   rfc_model_3to150  0.812541  0.967521   0.948527  0.987301  0.061358\n",
       "0   rfc_model_5to150  0.727375  0.977724   0.975205  0.980267  0.042811\n",
       "0   rfc_model_7to150  0.683570  0.981029   0.985220  0.976884  0.036709\n",
       "0   rfc_model_9to150  0.673521  0.981507   0.986956  0.976128  0.035829\n",
       "0  rfc_model_11to150  0.653209  0.982267   0.990049  0.974616  0.034437\n",
       "0  rfc_model_13to150  0.633863  0.982537   0.992066  0.973199  0.033974"
      ]
     },
     "execution_count": 81,
     "metadata": {},
     "output_type": "execute_result"
    }
   ],
   "source": [
    "# Evaluate Validation Model\n",
    "validation_results50.sort_values('AUC', ascending=False)"
   ]
  },
  {
   "cell_type": "markdown",
   "metadata": {},
   "source": [
    "### - <font color=blue>Train Model: 25th Percentile, All Splits</font> -"
   ]
  },
  {
   "cell_type": "code",
   "execution_count": null,
   "metadata": {},
   "outputs": [],
   "source": [
    "# Create master list of feature names for model\n",
    "final_features = quart25_feats"
   ]
  },
  {
   "cell_type": "code",
   "execution_count": null,
   "metadata": {},
   "outputs": [],
   "source": [
    "# Specify the numeric features we will be transforming, and the name of the resulting output feature\n",
    "assembler = VectorAssembler(\n",
    "    inputCols= final_features,\n",
    "    outputCol='features')"
   ]
  },
  {
   "cell_type": "code",
   "execution_count": null,
   "metadata": {},
   "outputs": [],
   "source": [
    "# # Create pipeline objects\n",
    "rfc_pipe = Pipeline(stages=[is_auto_renew_encoder,never_active_subscriber_encoder,\n",
    "                            total_spent_zero_encoder,city_agg_encoder,payment_method_agg_encoder,\n",
    "                            assembler,scaler,rfc])"
   ]
  },
  {
   "cell_type": "code",
   "execution_count": null,
   "metadata": {},
   "outputs": [],
   "source": [
    "# Parameter Grid for Random Forest Hyperparameterization\n",
    "paramGrid = ParamGridBuilder() \\\n",
    "    .addGrid(rfc.impurity,['entropy']) \\\n",
    "    .addGrid(rfc.maxDepth,[7]) \\\n",
    "    .build()\n",
    "\n",
    "# Instantiate Cross Validation block\n",
    "rfc_cv = CrossValidator(estimator=rfc_pipe,\n",
    "                          estimatorParamMaps=paramGrid,\n",
    "                          evaluator=binary_evaluator,\n",
    "                          numFolds=7)"
   ]
  },
  {
   "cell_type": "markdown",
   "metadata": {},
   "source": [
    "***Random Forest Classifiers***"
   ]
  },
  {
   "cell_type": "code",
   "execution_count": null,
   "metadata": {},
   "outputs": [
    {
     "name": "stdout",
     "output_type": "stream",
     "text": [
      "Time spent for training: 78.0\n"
     ]
    }
   ],
   "source": [
    "# GBT Training on Trainset 1 to 1\n",
    "start = time.time()\n",
    "rfc_model_1to125 = rfc_cv.fit(DRV_Jan2016_1to1)\n",
    "end = time.time()\n",
    "print('Time spent for training: {}'.format(round(end-start)))"
   ]
  },
  {
   "cell_type": "code",
   "execution_count": null,
   "metadata": {},
   "outputs": [
    {
     "name": "stdout",
     "output_type": "stream",
     "text": [
      "Time spent for training: 100.0\n"
     ]
    }
   ],
   "source": [
    "# GBT Training on Trainset 3 to 1\n",
    "start = time.time()\n",
    "rfc_model_3to125 = rfc_cv.fit(DRV_Jan2016_3to1)\n",
    "end = time.time()\n",
    "print('Time spent for training: {}'.format(round(end-start)))"
   ]
  },
  {
   "cell_type": "code",
   "execution_count": null,
   "metadata": {},
   "outputs": [
    {
     "name": "stdout",
     "output_type": "stream",
     "text": [
      "Time spent for training: 117.0\n"
     ]
    }
   ],
   "source": [
    "# GBT Training on Trainset 5 to 1\n",
    "start = time.time()\n",
    "rfc_model_5to125 = rfc_cv.fit(DRV_Jan2016_5to1)\n",
    "end = time.time()\n",
    "print('Time spent for training: {}'.format(round(end-start)))"
   ]
  },
  {
   "cell_type": "code",
   "execution_count": null,
   "metadata": {},
   "outputs": [
    {
     "name": "stdout",
     "output_type": "stream",
     "text": [
      "Time spent for training: 144.0\n"
     ]
    }
   ],
   "source": [
    "# GBT Training on Trainset 7 to 1\n",
    "start = time.time()\n",
    "rfc_model_7to125 = rfc_cv.fit(DRV_Jan2016_7to1)\n",
    "end = time.time()\n",
    "print('Time spent for training: {}'.format(round(end-start)))"
   ]
  },
  {
   "cell_type": "code",
   "execution_count": null,
   "metadata": {},
   "outputs": [
    {
     "name": "stdout",
     "output_type": "stream",
     "text": [
      "Time spent for training: 160.0\n"
     ]
    }
   ],
   "source": [
    "# GBT Training on Trainset 9 to 1\n",
    "start = time.time()\n",
    "rfc_model_9to125 = rfc_cv.fit(DRV_Jan2016_9to1)\n",
    "end = time.time()\n",
    "print('Time spent for training: {}'.format(round(end-start)))"
   ]
  },
  {
   "cell_type": "code",
   "execution_count": null,
   "metadata": {},
   "outputs": [
    {
     "name": "stdout",
     "output_type": "stream",
     "text": [
      "Time spent for training: 187.0\n"
     ]
    }
   ],
   "source": [
    "# GBT Training on Trainset 11 to 1\n",
    "start = time.time()\n",
    "rfc_model_11to125 = rfc_cv.fit(DRV_Jan2016_11to1)\n",
    "end = time.time()\n",
    "print('Time spent for training: {}'.format(round(end-start)))"
   ]
  },
  {
   "cell_type": "code",
   "execution_count": null,
   "metadata": {},
   "outputs": [
    {
     "name": "stdout",
     "output_type": "stream",
     "text": [
      "Time spent for training: 190.0\n"
     ]
    }
   ],
   "source": [
    "# GBT Training on Trainset 13 to 1\n",
    "start = time.time()\n",
    "rfc_model_13to125 = rfc_cv.fit(DRV_Jan2016_13to1)\n",
    "end = time.time()\n",
    "print('Time spent for training: {}'.format(round(end-start)))"
   ]
  },
  {
   "cell_type": "code",
   "execution_count": null,
   "metadata": {},
   "outputs": [],
   "source": [
    "# Dictionary of Models that were created\n",
    "models_created25 = {\n",
    "                  'rfc_model_1to125' : (rfc_model_1to125, DRV_Jan2016_1to1),\n",
    "                  'rfc_model_3to125' : (rfc_model_3to125, DRV_Jan2016_3to1),\n",
    "                  'rfc_model_5to125' : (rfc_model_5to125, DRV_Jan2016_5to1),\n",
    "                  'rfc_model_7to125' : (rfc_model_7to125, DRV_Jan2016_7to1),\n",
    "                  'rfc_model_9to125' : (rfc_model_9to125, DRV_Jan2016_9to1),\n",
    "                  'rfc_model_11to125' : (rfc_model_11to125, DRV_Jan2016_11to1),\n",
    "                  'rfc_model_13to125' : (rfc_model_13to125, DRV_Jan2016_13to1)}"
   ]
  },
  {
   "cell_type": "markdown",
   "metadata": {},
   "source": [
    "### - <font color=blue>Evaluate Train Model: 25th Percentile, All Splits</font> -"
   ]
  },
  {
   "cell_type": "code",
   "execution_count": null,
   "metadata": {},
   "outputs": [
    {
     "name": "stdout",
     "output_type": "stream",
     "text": [
      "rfc_model_11to125\n",
      "[[666116   6635]\n",
      " [ 11128   8020]]\n",
      " \n",
      "rfc_model_1to125\n",
      "[[589672  83079]\n",
      " [  2930  16218]]\n",
      " \n",
      "rfc_model_5to125\n",
      "[[658129  14622]\n",
      " [  8551  10597]]\n",
      " \n",
      "rfc_model_9to125\n",
      "[[665391   7360]\n",
      " [ 10702   8446]]\n",
      " \n",
      "rfc_model_7to125\n",
      "[[662669  10082]\n",
      " [  9767   9381]]\n",
      " \n",
      "rfc_model_13to125\n",
      "[[668023   4728]\n",
      " [ 12182   6966]]\n",
      " \n",
      "rfc_model_3to125\n",
      "[[641624  31127]\n",
      " [  5841  13307]]\n",
      " \n"
     ]
    }
   ],
   "source": [
    "## Create empty dataframe and populate with Train Set transformation results.\n",
    "train_results25 = pd.DataFrame()\n",
    "\n",
    "# Transform Train Sets\n",
    "for model_name, (model1, train_set_test) in models_created25.items():\n",
    "    temp = model1.transform(DRV_Jan2016)\n",
    "    \n",
    "    # Create a Dataframe of Train Results\n",
    "    train_results25 = train_results25.append(ClassEvaluator(resultname=model_name, resultdata=temp, model=model1).evaluate())\n",
    "    print('{}'.format(model_name))\n",
    "    print(ClassEvaluator(resultname=model_name, resultdata=temp, model=model1).confusionmatrix())\n",
    "    print(' ')"
   ]
  },
  {
   "cell_type": "code",
   "execution_count": null,
   "metadata": {},
   "outputs": [
    {
     "data": {
      "text/html": [
       "<div>\n",
       "<style scoped>\n",
       "    .dataframe tbody tr th:only-of-type {\n",
       "        vertical-align: middle;\n",
       "    }\n",
       "\n",
       "    .dataframe tbody tr th {\n",
       "        vertical-align: top;\n",
       "    }\n",
       "\n",
       "    .dataframe thead th {\n",
       "        text-align: right;\n",
       "    }\n",
       "</style>\n",
       "<table border=\"1\" class=\"dataframe\">\n",
       "  <thead>\n",
       "    <tr style=\"text-align: right;\">\n",
       "      <th></th>\n",
       "      <th>resultname</th>\n",
       "      <th>AUC</th>\n",
       "      <th>f1</th>\n",
       "      <th>precision</th>\n",
       "      <th>recall</th>\n",
       "      <th>error</th>\n",
       "    </tr>\n",
       "  </thead>\n",
       "  <tbody>\n",
       "    <tr>\n",
       "      <th>0</th>\n",
       "      <td>rfc_model_1to125</td>\n",
       "      <td>0.861745</td>\n",
       "      <td>0.932023</td>\n",
       "      <td>0.876509</td>\n",
       "      <td>0.995056</td>\n",
       "      <td>0.124309</td>\n",
       "    </tr>\n",
       "    <tr>\n",
       "      <th>0</th>\n",
       "      <td>rfc_model_3to125</td>\n",
       "      <td>0.824343</td>\n",
       "      <td>0.971994</td>\n",
       "      <td>0.953732</td>\n",
       "      <td>0.990979</td>\n",
       "      <td>0.053430</td>\n",
       "    </tr>\n",
       "    <tr>\n",
       "      <th>0</th>\n",
       "      <td>rfc_model_5to125</td>\n",
       "      <td>0.765846</td>\n",
       "      <td>0.982694</td>\n",
       "      <td>0.978265</td>\n",
       "      <td>0.987174</td>\n",
       "      <td>0.033492</td>\n",
       "    </tr>\n",
       "    <tr>\n",
       "      <th>0</th>\n",
       "      <td>rfc_model_7to125</td>\n",
       "      <td>0.737467</td>\n",
       "      <td>0.985239</td>\n",
       "      <td>0.985014</td>\n",
       "      <td>0.985475</td>\n",
       "      <td>0.028688</td>\n",
       "    </tr>\n",
       "    <tr>\n",
       "      <th>0</th>\n",
       "      <td>rfc_model_9to125</td>\n",
       "      <td>0.715075</td>\n",
       "      <td>0.986604</td>\n",
       "      <td>0.989060</td>\n",
       "      <td>0.984171</td>\n",
       "      <td>0.026105</td>\n",
       "    </tr>\n",
       "    <tr>\n",
       "      <th>0</th>\n",
       "      <td>rfc_model_11to125</td>\n",
       "      <td>0.704490</td>\n",
       "      <td>0.986837</td>\n",
       "      <td>0.990138</td>\n",
       "      <td>0.983569</td>\n",
       "      <td>0.025673</td>\n",
       "    </tr>\n",
       "    <tr>\n",
       "      <th>0</th>\n",
       "      <td>rfc_model_13to125</td>\n",
       "      <td>0.678385</td>\n",
       "      <td>0.987496</td>\n",
       "      <td>0.992972</td>\n",
       "      <td>0.982091</td>\n",
       "      <td>0.024440</td>\n",
       "    </tr>\n",
       "  </tbody>\n",
       "</table>\n",
       "</div>"
      ],
      "text/plain": [
       "          resultname       AUC        f1  precision    recall     error\n",
       "0   rfc_model_1to125  0.861745  0.932023   0.876509  0.995056  0.124309\n",
       "0   rfc_model_3to125  0.824343  0.971994   0.953732  0.990979  0.053430\n",
       "0   rfc_model_5to125  0.765846  0.982694   0.978265  0.987174  0.033492\n",
       "0   rfc_model_7to125  0.737467  0.985239   0.985014  0.985475  0.028688\n",
       "0   rfc_model_9to125  0.715075  0.986604   0.989060  0.984171  0.026105\n",
       "0  rfc_model_11to125  0.704490  0.986837   0.990138  0.983569  0.025673\n",
       "0  rfc_model_13to125  0.678385  0.987496   0.992972  0.982091  0.024440"
      ]
     },
     "execution_count": 95,
     "metadata": {},
     "output_type": "execute_result"
    }
   ],
   "source": [
    "# Evaluate Training Model\n",
    "train_results25.sort_values('AUC', ascending=False)"
   ]
  },
  {
   "cell_type": "markdown",
   "metadata": {},
   "source": [
    "### - <font color=blue>Evaluate Validation Model: 25th Percentile, All Splits</font> -"
   ]
  },
  {
   "cell_type": "code",
   "execution_count": null,
   "metadata": {},
   "outputs": [
    {
     "name": "stdout",
     "output_type": "stream",
     "text": [
      "rfc_model_11to125\n",
      "[[523263   4941]\n",
      " [ 13930   5993]]\n",
      " \n",
      "rfc_model_1to125\n",
      "[[460768  67436]\n",
      " [  3702  16221]]\n",
      " \n",
      "rfc_model_5to125\n",
      "[[517324  10880]\n",
      " [ 10920   9003]]\n",
      " \n",
      "rfc_model_9to125\n",
      "[[522636   5568]\n",
      " [ 13412   6511]]\n",
      " \n",
      "rfc_model_7to125\n",
      "[[520712   7492]\n",
      " [ 12477   7446]]\n",
      " \n",
      "rfc_model_13to125\n",
      "[[524635   3569]\n",
      " [ 14938   4985]]\n",
      " \n",
      "rfc_model_3to125\n",
      "[[504084  24120]\n",
      " [  7714  12209]]\n",
      " \n"
     ]
    }
   ],
   "source": [
    "# Create empty dataframe and populate with Train Set transformation results.\n",
    "validation_results25 = pd.DataFrame()\n",
    "\n",
    "# Transform Train Sets\n",
    "for model_name, (model1, train_set) in models_created25.items():\n",
    "    temp = model1.transform(DRV_Feb2016)    \n",
    "    \n",
    "    # Create a Dataframe of Train Results\n",
    "    validation_results25 = validation_results25.append(ClassEvaluator(resultname=model_name, resultdata=temp, model=model1).evaluate())\n",
    "    print('{}'.format(model_name))\n",
    "    print(ClassEvaluator(resultname=model_name, resultdata=temp, model=model1).confusionmatrix())\n",
    "    print(' ')"
   ]
  },
  {
   "cell_type": "code",
   "execution_count": null,
   "metadata": {},
   "outputs": [
    {
     "data": {
      "text/html": [
       "<div>\n",
       "<style scoped>\n",
       "    .dataframe tbody tr th:only-of-type {\n",
       "        vertical-align: middle;\n",
       "    }\n",
       "\n",
       "    .dataframe tbody tr th {\n",
       "        vertical-align: top;\n",
       "    }\n",
       "\n",
       "    .dataframe thead th {\n",
       "        text-align: right;\n",
       "    }\n",
       "</style>\n",
       "<table border=\"1\" class=\"dataframe\">\n",
       "  <thead>\n",
       "    <tr style=\"text-align: right;\">\n",
       "      <th></th>\n",
       "      <th>resultname</th>\n",
       "      <th>AUC</th>\n",
       "      <th>f1</th>\n",
       "      <th>precision</th>\n",
       "      <th>recall</th>\n",
       "      <th>error</th>\n",
       "    </tr>\n",
       "  </thead>\n",
       "  <tbody>\n",
       "    <tr>\n",
       "      <th>0</th>\n",
       "      <td>rfc_model_1to125</td>\n",
       "      <td>0.843257</td>\n",
       "      <td>0.928332</td>\n",
       "      <td>0.872330</td>\n",
       "      <td>0.992030</td>\n",
       "      <td>0.129784</td>\n",
       "    </tr>\n",
       "    <tr>\n",
       "      <th>0</th>\n",
       "      <td>rfc_model_3to125</td>\n",
       "      <td>0.783573</td>\n",
       "      <td>0.969385</td>\n",
       "      <td>0.954336</td>\n",
       "      <td>0.984928</td>\n",
       "      <td>0.058078</td>\n",
       "    </tr>\n",
       "    <tr>\n",
       "      <th>0</th>\n",
       "      <td>rfc_model_5to125</td>\n",
       "      <td>0.715646</td>\n",
       "      <td>0.979360</td>\n",
       "      <td>0.979402</td>\n",
       "      <td>0.979328</td>\n",
       "      <td>0.039772</td>\n",
       "    </tr>\n",
       "    <tr>\n",
       "      <th>0</th>\n",
       "      <td>rfc_model_7to125</td>\n",
       "      <td>0.679777</td>\n",
       "      <td>0.981181</td>\n",
       "      <td>0.985816</td>\n",
       "      <td>0.976599</td>\n",
       "      <td>0.036431</td>\n",
       "    </tr>\n",
       "    <tr>\n",
       "      <th>0</th>\n",
       "      <td>rfc_model_9to125</td>\n",
       "      <td>0.658133</td>\n",
       "      <td>0.982161</td>\n",
       "      <td>0.989459</td>\n",
       "      <td>0.974980</td>\n",
       "      <td>0.034627</td>\n",
       "    </tr>\n",
       "    <tr>\n",
       "      <th>0</th>\n",
       "      <td>rfc_model_11to125</td>\n",
       "      <td>0.645727</td>\n",
       "      <td>0.982282</td>\n",
       "      <td>0.990646</td>\n",
       "      <td>0.974069</td>\n",
       "      <td>0.034428</td>\n",
       "    </tr>\n",
       "    <tr>\n",
       "      <th>0</th>\n",
       "      <td>rfc_model_13to125</td>\n",
       "      <td>0.621728</td>\n",
       "      <td>0.982663</td>\n",
       "      <td>0.993243</td>\n",
       "      <td>0.972315</td>\n",
       "      <td>0.033764</td>\n",
       "    </tr>\n",
       "  </tbody>\n",
       "</table>\n",
       "</div>"
      ],
      "text/plain": [
       "          resultname       AUC        f1  precision    recall     error\n",
       "0   rfc_model_1to125  0.843257  0.928332   0.872330  0.992030  0.129784\n",
       "0   rfc_model_3to125  0.783573  0.969385   0.954336  0.984928  0.058078\n",
       "0   rfc_model_5to125  0.715646  0.979360   0.979402  0.979328  0.039772\n",
       "0   rfc_model_7to125  0.679777  0.981181   0.985816  0.976599  0.036431\n",
       "0   rfc_model_9to125  0.658133  0.982161   0.989459  0.974980  0.034627\n",
       "0  rfc_model_11to125  0.645727  0.982282   0.990646  0.974069  0.034428\n",
       "0  rfc_model_13to125  0.621728  0.982663   0.993243  0.972315  0.033764"
      ]
     },
     "execution_count": 97,
     "metadata": {},
     "output_type": "execute_result"
    }
   ],
   "source": [
    "# Evaluate Validation Model\n",
    "validation_results25.sort_values('AUC', ascending=False)"
   ]
  },
  {
   "cell_type": "code",
   "execution_count": null,
   "metadata": {},
   "outputs": [],
   "source": []
  },
  {
   "cell_type": "markdown",
   "metadata": {},
   "source": [
    "## <font color=black>Evaluation of Generalization over All Models</font>"
   ]
  },
  {
   "cell_type": "code",
   "execution_count": null,
   "metadata": {},
   "outputs": [
    {
     "data": {
      "text/html": [
       "<div>\n",
       "<style scoped>\n",
       "    .dataframe tbody tr th:only-of-type {\n",
       "        vertical-align: middle;\n",
       "    }\n",
       "\n",
       "    .dataframe tbody tr th {\n",
       "        vertical-align: top;\n",
       "    }\n",
       "\n",
       "    .dataframe thead th {\n",
       "        text-align: right;\n",
       "    }\n",
       "</style>\n",
       "<table border=\"1\" class=\"dataframe\">\n",
       "  <thead>\n",
       "    <tr style=\"text-align: right;\">\n",
       "      <th></th>\n",
       "      <th>AUC</th>\n",
       "      <th>f1</th>\n",
       "      <th>precision</th>\n",
       "      <th>recall</th>\n",
       "      <th>error</th>\n",
       "      <th>resultname</th>\n",
       "    </tr>\n",
       "  </thead>\n",
       "  <tbody>\n",
       "    <tr>\n",
       "      <th>0</th>\n",
       "      <td>0.062111</td>\n",
       "      <td>0.004806</td>\n",
       "      <td>-0.000327</td>\n",
       "      <td>0.009810</td>\n",
       "      <td>-0.009253</td>\n",
       "      <td>rfc_model_11to1</td>\n",
       "    </tr>\n",
       "    <tr>\n",
       "      <th>0</th>\n",
       "      <td>0.060594</td>\n",
       "      <td>0.004905</td>\n",
       "      <td>-0.000347</td>\n",
       "      <td>0.009996</td>\n",
       "      <td>-0.009464</td>\n",
       "      <td>rfc_model_13to1</td>\n",
       "    </tr>\n",
       "    <tr>\n",
       "      <th>0</th>\n",
       "      <td>0.017969</td>\n",
       "      <td>0.003995</td>\n",
       "      <td>0.004709</td>\n",
       "      <td>0.003035</td>\n",
       "      <td>-0.005986</td>\n",
       "      <td>rfc_model_1to1</td>\n",
       "    </tr>\n",
       "    <tr>\n",
       "      <th>0</th>\n",
       "      <td>0.052734</td>\n",
       "      <td>0.003182</td>\n",
       "      <td>-0.000369</td>\n",
       "      <td>0.006986</td>\n",
       "      <td>-0.005756</td>\n",
       "      <td>rfc_model_3to1</td>\n",
       "    </tr>\n",
       "    <tr>\n",
       "      <th>0</th>\n",
       "      <td>0.058254</td>\n",
       "      <td>0.004123</td>\n",
       "      <td>-0.000251</td>\n",
       "      <td>0.008526</td>\n",
       "      <td>-0.007803</td>\n",
       "      <td>rfc_model_5to1</td>\n",
       "    </tr>\n",
       "    <tr>\n",
       "      <th>0</th>\n",
       "      <td>0.058983</td>\n",
       "      <td>0.004231</td>\n",
       "      <td>-0.000476</td>\n",
       "      <td>0.008906</td>\n",
       "      <td>-0.008067</td>\n",
       "      <td>rfc_model_7to1</td>\n",
       "    </tr>\n",
       "    <tr>\n",
       "      <th>0</th>\n",
       "      <td>0.061485</td>\n",
       "      <td>0.004411</td>\n",
       "      <td>-0.000711</td>\n",
       "      <td>0.009446</td>\n",
       "      <td>-0.008460</td>\n",
       "      <td>rfc_model_9to1</td>\n",
       "    </tr>\n",
       "  </tbody>\n",
       "</table>\n",
       "</div>"
      ],
      "text/plain": [
       "        AUC        f1  precision    recall     error       resultname\n",
       "0  0.062111  0.004806  -0.000327  0.009810 -0.009253  rfc_model_11to1\n",
       "0  0.060594  0.004905  -0.000347  0.009996 -0.009464  rfc_model_13to1\n",
       "0  0.017969  0.003995   0.004709  0.003035 -0.005986   rfc_model_1to1\n",
       "0  0.052734  0.003182  -0.000369  0.006986 -0.005756   rfc_model_3to1\n",
       "0  0.058254  0.004123  -0.000251  0.008526 -0.007803   rfc_model_5to1\n",
       "0  0.058983  0.004231  -0.000476  0.008906 -0.008067   rfc_model_7to1\n",
       "0  0.061485  0.004411  -0.000711  0.009446 -0.008460   rfc_model_9to1"
      ]
     },
     "execution_count": 98,
     "metadata": {},
     "output_type": "execute_result"
    }
   ],
   "source": [
    "results_all = train_resultsall[train_resultsall.columns[1:]] - validation_resultsall[validation_resultsall.columns[1:]]\n",
    "results_all['resultname'] = train_resultsall['resultname']\n",
    "results_all.sort_values('resultname', ascending=True)"
   ]
  },
  {
   "cell_type": "code",
   "execution_count": null,
   "metadata": {},
   "outputs": [
    {
     "data": {
      "text/html": [
       "<div>\n",
       "<style scoped>\n",
       "    .dataframe tbody tr th:only-of-type {\n",
       "        vertical-align: middle;\n",
       "    }\n",
       "\n",
       "    .dataframe tbody tr th {\n",
       "        vertical-align: top;\n",
       "    }\n",
       "\n",
       "    .dataframe thead th {\n",
       "        text-align: right;\n",
       "    }\n",
       "</style>\n",
       "<table border=\"1\" class=\"dataframe\">\n",
       "  <thead>\n",
       "    <tr style=\"text-align: right;\">\n",
       "      <th></th>\n",
       "      <th>AUC</th>\n",
       "      <th>f1</th>\n",
       "      <th>precision</th>\n",
       "      <th>recall</th>\n",
       "      <th>error</th>\n",
       "      <th>resultname</th>\n",
       "    </tr>\n",
       "  </thead>\n",
       "  <tbody>\n",
       "    <tr>\n",
       "      <th>0</th>\n",
       "      <td>0.057587</td>\n",
       "      <td>0.004869</td>\n",
       "      <td>0.000570</td>\n",
       "      <td>0.009091</td>\n",
       "      <td>-0.009329</td>\n",
       "      <td>rfc_model_11to1mean</td>\n",
       "    </tr>\n",
       "    <tr>\n",
       "      <th>0</th>\n",
       "      <td>0.055156</td>\n",
       "      <td>0.005203</td>\n",
       "      <td>0.001166</td>\n",
       "      <td>0.009141</td>\n",
       "      <td>-0.009995</td>\n",
       "      <td>rfc_model_13to1mean</td>\n",
       "    </tr>\n",
       "    <tr>\n",
       "      <th>0</th>\n",
       "      <td>0.017000</td>\n",
       "      <td>0.010303</td>\n",
       "      <td>0.016431</td>\n",
       "      <td>0.001975</td>\n",
       "      <td>-0.016251</td>\n",
       "      <td>rfc_model_1to1mean</td>\n",
       "    </tr>\n",
       "    <tr>\n",
       "      <th>0</th>\n",
       "      <td>0.028026</td>\n",
       "      <td>0.003639</td>\n",
       "      <td>0.002677</td>\n",
       "      <td>0.004686</td>\n",
       "      <td>-0.006408</td>\n",
       "      <td>rfc_model_3to1mean</td>\n",
       "    </tr>\n",
       "    <tr>\n",
       "      <th>0</th>\n",
       "      <td>0.044836</td>\n",
       "      <td>0.003677</td>\n",
       "      <td>0.000706</td>\n",
       "      <td>0.006758</td>\n",
       "      <td>-0.006790</td>\n",
       "      <td>rfc_model_5to1mean</td>\n",
       "    </tr>\n",
       "    <tr>\n",
       "      <th>0</th>\n",
       "      <td>0.056035</td>\n",
       "      <td>0.004301</td>\n",
       "      <td>0.000418</td>\n",
       "      <td>0.008210</td>\n",
       "      <td>-0.008132</td>\n",
       "      <td>rfc_model_7to1mean</td>\n",
       "    </tr>\n",
       "    <tr>\n",
       "      <th>0</th>\n",
       "      <td>0.054917</td>\n",
       "      <td>0.004612</td>\n",
       "      <td>0.000575</td>\n",
       "      <td>0.008609</td>\n",
       "      <td>-0.008797</td>\n",
       "      <td>rfc_model_9to1mean</td>\n",
       "    </tr>\n",
       "  </tbody>\n",
       "</table>\n",
       "</div>"
      ],
      "text/plain": [
       "        AUC        f1  precision    recall     error           resultname\n",
       "0  0.057587  0.004869   0.000570  0.009091 -0.009329  rfc_model_11to1mean\n",
       "0  0.055156  0.005203   0.001166  0.009141 -0.009995  rfc_model_13to1mean\n",
       "0  0.017000  0.010303   0.016431  0.001975 -0.016251   rfc_model_1to1mean\n",
       "0  0.028026  0.003639   0.002677  0.004686 -0.006408   rfc_model_3to1mean\n",
       "0  0.044836  0.003677   0.000706  0.006758 -0.006790   rfc_model_5to1mean\n",
       "0  0.056035  0.004301   0.000418  0.008210 -0.008132   rfc_model_7to1mean\n",
       "0  0.054917  0.004612   0.000575  0.008609 -0.008797   rfc_model_9to1mean"
      ]
     },
     "execution_count": 99,
     "metadata": {},
     "output_type": "execute_result"
    }
   ],
   "source": [
    "results_mean = train_results[train_results.columns[1:]] - validation_results[validation_results.columns[1:]]\n",
    "results_mean['resultname'] = train_results['resultname']\n",
    "results_mean.sort_values('resultname', ascending=True)"
   ]
  },
  {
   "cell_type": "code",
   "execution_count": null,
   "metadata": {},
   "outputs": [
    {
     "data": {
      "text/html": [
       "<div>\n",
       "<style scoped>\n",
       "    .dataframe tbody tr th:only-of-type {\n",
       "        vertical-align: middle;\n",
       "    }\n",
       "\n",
       "    .dataframe tbody tr th {\n",
       "        vertical-align: top;\n",
       "    }\n",
       "\n",
       "    .dataframe thead th {\n",
       "        text-align: right;\n",
       "    }\n",
       "</style>\n",
       "<table border=\"1\" class=\"dataframe\">\n",
       "  <thead>\n",
       "    <tr style=\"text-align: right;\">\n",
       "      <th></th>\n",
       "      <th>AUC</th>\n",
       "      <th>f1</th>\n",
       "      <th>precision</th>\n",
       "      <th>recall</th>\n",
       "      <th>error</th>\n",
       "      <th>resultname</th>\n",
       "    </tr>\n",
       "  </thead>\n",
       "  <tbody>\n",
       "    <tr>\n",
       "      <th>0</th>\n",
       "      <td>0.058897</td>\n",
       "      <td>0.004667</td>\n",
       "      <td>-0.000014</td>\n",
       "      <td>0.009256</td>\n",
       "      <td>-0.008956</td>\n",
       "      <td>rfc_model_11to175</td>\n",
       "    </tr>\n",
       "    <tr>\n",
       "      <th>0</th>\n",
       "      <td>0.056246</td>\n",
       "      <td>0.005147</td>\n",
       "      <td>0.000879</td>\n",
       "      <td>0.009302</td>\n",
       "      <td>-0.009902</td>\n",
       "      <td>rfc_model_13to175</td>\n",
       "    </tr>\n",
       "    <tr>\n",
       "      <th>0</th>\n",
       "      <td>0.021273</td>\n",
       "      <td>0.008885</td>\n",
       "      <td>0.013535</td>\n",
       "      <td>0.002751</td>\n",
       "      <td>-0.014220</td>\n",
       "      <td>rfc_model_1to175</td>\n",
       "    </tr>\n",
       "    <tr>\n",
       "      <th>0</th>\n",
       "      <td>0.027369</td>\n",
       "      <td>0.002567</td>\n",
       "      <td>0.000551</td>\n",
       "      <td>0.004755</td>\n",
       "      <td>-0.004462</td>\n",
       "      <td>rfc_model_3to175</td>\n",
       "    </tr>\n",
       "    <tr>\n",
       "      <th>0</th>\n",
       "      <td>0.050597</td>\n",
       "      <td>0.003699</td>\n",
       "      <td>0.000222</td>\n",
       "      <td>0.007277</td>\n",
       "      <td>-0.006887</td>\n",
       "      <td>rfc_model_5to175</td>\n",
       "    </tr>\n",
       "    <tr>\n",
       "      <th>0</th>\n",
       "      <td>0.055659</td>\n",
       "      <td>0.004078</td>\n",
       "      <td>-0.000201</td>\n",
       "      <td>0.008356</td>\n",
       "      <td>-0.007739</td>\n",
       "      <td>rfc_model_7to175</td>\n",
       "    </tr>\n",
       "    <tr>\n",
       "      <th>0</th>\n",
       "      <td>0.057296</td>\n",
       "      <td>0.004331</td>\n",
       "      <td>-0.000200</td>\n",
       "      <td>0.008814</td>\n",
       "      <td>-0.008270</td>\n",
       "      <td>rfc_model_9to175</td>\n",
       "    </tr>\n",
       "  </tbody>\n",
       "</table>\n",
       "</div>"
      ],
      "text/plain": [
       "        AUC        f1  precision    recall     error         resultname\n",
       "0  0.058897  0.004667  -0.000014  0.009256 -0.008956  rfc_model_11to175\n",
       "0  0.056246  0.005147   0.000879  0.009302 -0.009902  rfc_model_13to175\n",
       "0  0.021273  0.008885   0.013535  0.002751 -0.014220   rfc_model_1to175\n",
       "0  0.027369  0.002567   0.000551  0.004755 -0.004462   rfc_model_3to175\n",
       "0  0.050597  0.003699   0.000222  0.007277 -0.006887   rfc_model_5to175\n",
       "0  0.055659  0.004078  -0.000201  0.008356 -0.007739   rfc_model_7to175\n",
       "0  0.057296  0.004331  -0.000200  0.008814 -0.008270   rfc_model_9to175"
      ]
     },
     "execution_count": 100,
     "metadata": {},
     "output_type": "execute_result"
    }
   ],
   "source": [
    "results_75 = train_results75[validation_results25.columns[1:]] - validation_results75[validation_results25.columns[1:]]\n",
    "results_75['resultname'] = train_results75['resultname']\n",
    "results_75.sort_values('resultname', ascending=True)"
   ]
  },
  {
   "cell_type": "code",
   "execution_count": null,
   "metadata": {},
   "outputs": [
    {
     "data": {
      "text/html": [
       "<div>\n",
       "<style scoped>\n",
       "    .dataframe tbody tr th:only-of-type {\n",
       "        vertical-align: middle;\n",
       "    }\n",
       "\n",
       "    .dataframe tbody tr th {\n",
       "        vertical-align: top;\n",
       "    }\n",
       "\n",
       "    .dataframe thead th {\n",
       "        text-align: right;\n",
       "    }\n",
       "</style>\n",
       "<table border=\"1\" class=\"dataframe\">\n",
       "  <thead>\n",
       "    <tr style=\"text-align: right;\">\n",
       "      <th></th>\n",
       "      <th>AUC</th>\n",
       "      <th>f1</th>\n",
       "      <th>precision</th>\n",
       "      <th>recall</th>\n",
       "      <th>error</th>\n",
       "      <th>resultname</th>\n",
       "    </tr>\n",
       "  </thead>\n",
       "  <tbody>\n",
       "    <tr>\n",
       "      <th>0</th>\n",
       "      <td>0.058731</td>\n",
       "      <td>0.004581</td>\n",
       "      <td>-0.000315</td>\n",
       "      <td>0.009372</td>\n",
       "      <td>-0.008796</td>\n",
       "      <td>rfc_model_11to150</td>\n",
       "    </tr>\n",
       "    <tr>\n",
       "      <th>0</th>\n",
       "      <td>0.058682</td>\n",
       "      <td>0.004827</td>\n",
       "      <td>-0.000174</td>\n",
       "      <td>0.009687</td>\n",
       "      <td>-0.009297</td>\n",
       "      <td>rfc_model_13to150</td>\n",
       "    </tr>\n",
       "    <tr>\n",
       "      <th>0</th>\n",
       "      <td>0.017040</td>\n",
       "      <td>0.002866</td>\n",
       "      <td>0.002755</td>\n",
       "      <td>0.002983</td>\n",
       "      <td>-0.004162</td>\n",
       "      <td>rfc_model_1to150</td>\n",
       "    </tr>\n",
       "    <tr>\n",
       "      <th>0</th>\n",
       "      <td>0.022518</td>\n",
       "      <td>0.002650</td>\n",
       "      <td>0.001045</td>\n",
       "      <td>0.004392</td>\n",
       "      <td>-0.004593</td>\n",
       "      <td>rfc_model_3to150</td>\n",
       "    </tr>\n",
       "    <tr>\n",
       "      <th>0</th>\n",
       "      <td>0.051965</td>\n",
       "      <td>0.003836</td>\n",
       "      <td>0.000021</td>\n",
       "      <td>0.007722</td>\n",
       "      <td>-0.007195</td>\n",
       "      <td>rfc_model_5to150</td>\n",
       "    </tr>\n",
       "    <tr>\n",
       "      <th>0</th>\n",
       "      <td>0.057891</td>\n",
       "      <td>0.004115</td>\n",
       "      <td>-0.000627</td>\n",
       "      <td>0.008821</td>\n",
       "      <td>-0.007845</td>\n",
       "      <td>rfc_model_7to150</td>\n",
       "    </tr>\n",
       "    <tr>\n",
       "      <th>0</th>\n",
       "      <td>0.057504</td>\n",
       "      <td>0.004435</td>\n",
       "      <td>-0.000151</td>\n",
       "      <td>0.008962</td>\n",
       "      <td>-0.008477</td>\n",
       "      <td>rfc_model_9to150</td>\n",
       "    </tr>\n",
       "  </tbody>\n",
       "</table>\n",
       "</div>"
      ],
      "text/plain": [
       "        AUC        f1  precision    recall     error         resultname\n",
       "0  0.058731  0.004581  -0.000315  0.009372 -0.008796  rfc_model_11to150\n",
       "0  0.058682  0.004827  -0.000174  0.009687 -0.009297  rfc_model_13to150\n",
       "0  0.017040  0.002866   0.002755  0.002983 -0.004162   rfc_model_1to150\n",
       "0  0.022518  0.002650   0.001045  0.004392 -0.004593   rfc_model_3to150\n",
       "0  0.051965  0.003836   0.000021  0.007722 -0.007195   rfc_model_5to150\n",
       "0  0.057891  0.004115  -0.000627  0.008821 -0.007845   rfc_model_7to150\n",
       "0  0.057504  0.004435  -0.000151  0.008962 -0.008477   rfc_model_9to150"
      ]
     },
     "execution_count": 101,
     "metadata": {},
     "output_type": "execute_result"
    }
   ],
   "source": [
    "results_50 = train_results50[validation_results25.columns[1:]] - validation_results50[validation_results25.columns[1:]]\n",
    "results_50['resultname'] = train_results50['resultname']\n",
    "results_50.sort_values('resultname', ascending=True)"
   ]
  },
  {
   "cell_type": "code",
   "execution_count": null,
   "metadata": {},
   "outputs": [
    {
     "data": {
      "text/html": [
       "<div>\n",
       "<style scoped>\n",
       "    .dataframe tbody tr th:only-of-type {\n",
       "        vertical-align: middle;\n",
       "    }\n",
       "\n",
       "    .dataframe tbody tr th {\n",
       "        vertical-align: top;\n",
       "    }\n",
       "\n",
       "    .dataframe thead th {\n",
       "        text-align: right;\n",
       "    }\n",
       "</style>\n",
       "<table border=\"1\" class=\"dataframe\">\n",
       "  <thead>\n",
       "    <tr style=\"text-align: right;\">\n",
       "      <th></th>\n",
       "      <th>AUC</th>\n",
       "      <th>f1</th>\n",
       "      <th>precision</th>\n",
       "      <th>recall</th>\n",
       "      <th>error</th>\n",
       "      <th>resultname</th>\n",
       "    </tr>\n",
       "  </thead>\n",
       "  <tbody>\n",
       "    <tr>\n",
       "      <th>0</th>\n",
       "      <td>0.058763</td>\n",
       "      <td>0.004555</td>\n",
       "      <td>-0.000508</td>\n",
       "      <td>0.009500</td>\n",
       "      <td>-0.008755</td>\n",
       "      <td>rfc_model_11to125</td>\n",
       "    </tr>\n",
       "    <tr>\n",
       "      <th>0</th>\n",
       "      <td>0.056657</td>\n",
       "      <td>0.004834</td>\n",
       "      <td>-0.000271</td>\n",
       "      <td>0.009776</td>\n",
       "      <td>-0.009324</td>\n",
       "      <td>rfc_model_13to125</td>\n",
       "    </tr>\n",
       "    <tr>\n",
       "      <th>0</th>\n",
       "      <td>0.018488</td>\n",
       "      <td>0.003691</td>\n",
       "      <td>0.004179</td>\n",
       "      <td>0.003026</td>\n",
       "      <td>-0.005475</td>\n",
       "      <td>rfc_model_1to125</td>\n",
       "    </tr>\n",
       "    <tr>\n",
       "      <th>0</th>\n",
       "      <td>0.040771</td>\n",
       "      <td>0.002608</td>\n",
       "      <td>-0.000604</td>\n",
       "      <td>0.006051</td>\n",
       "      <td>-0.004648</td>\n",
       "      <td>rfc_model_3to125</td>\n",
       "    </tr>\n",
       "    <tr>\n",
       "      <th>0</th>\n",
       "      <td>0.050200</td>\n",
       "      <td>0.003335</td>\n",
       "      <td>-0.001137</td>\n",
       "      <td>0.007846</td>\n",
       "      <td>-0.006280</td>\n",
       "      <td>rfc_model_5to125</td>\n",
       "    </tr>\n",
       "    <tr>\n",
       "      <th>0</th>\n",
       "      <td>0.057690</td>\n",
       "      <td>0.004058</td>\n",
       "      <td>-0.000802</td>\n",
       "      <td>0.008876</td>\n",
       "      <td>-0.007744</td>\n",
       "      <td>rfc_model_7to125</td>\n",
       "    </tr>\n",
       "    <tr>\n",
       "      <th>0</th>\n",
       "      <td>0.056942</td>\n",
       "      <td>0.004443</td>\n",
       "      <td>-0.000399</td>\n",
       "      <td>0.009191</td>\n",
       "      <td>-0.008522</td>\n",
       "      <td>rfc_model_9to125</td>\n",
       "    </tr>\n",
       "  </tbody>\n",
       "</table>\n",
       "</div>"
      ],
      "text/plain": [
       "        AUC        f1  precision    recall     error         resultname\n",
       "0  0.058763  0.004555  -0.000508  0.009500 -0.008755  rfc_model_11to125\n",
       "0  0.056657  0.004834  -0.000271  0.009776 -0.009324  rfc_model_13to125\n",
       "0  0.018488  0.003691   0.004179  0.003026 -0.005475   rfc_model_1to125\n",
       "0  0.040771  0.002608  -0.000604  0.006051 -0.004648   rfc_model_3to125\n",
       "0  0.050200  0.003335  -0.001137  0.007846 -0.006280   rfc_model_5to125\n",
       "0  0.057690  0.004058  -0.000802  0.008876 -0.007744   rfc_model_7to125\n",
       "0  0.056942  0.004443  -0.000399  0.009191 -0.008522   rfc_model_9to125"
      ]
     },
     "execution_count": 102,
     "metadata": {},
     "output_type": "execute_result"
    }
   ],
   "source": [
    "results_25 = train_results25[validation_results25.columns[1:]] - validation_results25[validation_results25.columns[1:]]\n",
    "results_25['resultname'] = train_results25['resultname']\n",
    "results_25.sort_values('resultname', ascending=True)"
   ]
  },
  {
   "cell_type": "markdown",
   "metadata": {},
   "source": [
    "Based on generalization, the best in class features were as follows.\n",
    "- **rfc_model_1to1mean** - 0.017000\n",
    "- **rfc_model_3to150** - 0.022518\n",
    "- **rfc_model_5to1mean** - 0.044836\n",
    "- **rfc_model_7to175** - 0.055659\n",
    "- **rfc_model_9to1mean** - 0.054917\n",
    "- **rfc_model_11to1mean** - 0.057587\n",
    "- **rfc_model_13to1mean** - 0.055156"
   ]
  },
  {
   "cell_type": "markdown",
   "metadata": {},
   "source": [
    "-------------"
   ]
  },
  {
   "cell_type": "markdown",
   "metadata": {},
   "source": [
    "## Recursive Feature Elimination - Ensemble of Models"
   ]
  },
  {
   "cell_type": "code",
   "execution_count": 56,
   "metadata": {},
   "outputs": [],
   "source": [
    "from sklearn import preprocessing\n",
    "from sklearn.preprocessing import StandardScaler\n",
    "from sklearn.ensemble import GradientBoostingClassifier\n",
    "from xgboost import XGBClassifier\n",
    "from sklearn.ensemble import RandomForestClassifier\n",
    "from sklearn.feature_selection import RFE, RFECV\n",
    "from sklearn.metrics import confusion_matrix, roc_curve, auc\n",
    "from sklearn.model_selection import RandomizedSearchCV, GridSearchCV"
   ]
  },
  {
   "cell_type": "code",
   "execution_count": 5,
   "metadata": {},
   "outputs": [],
   "source": [
    "# Custom evaluator that we can use instead of BinaryClassificationEvaluator() in grid search\n",
    "class ClassEvaluatorPandas:\n",
    "\n",
    "    def __init__(self, modelname, model, y_pred, y_true):\n",
    "        \n",
    "        # Initialize variables\n",
    "        self.modelname = modelname\n",
    "        self.y_pred = y_pred \n",
    "        self.y_true = y_true\n",
    "        self.model = model\n",
    "        \n",
    "        # Calculate confusion matrix\n",
    "        from sklearn.metrics import confusion_matrix\n",
    "        self.cm = confusion_matrix(y_true,y_pred)\n",
    "        \n",
    "        # Calculate confusion matrix values\n",
    "        self.tp = self.cm[0][0]\n",
    "        self.fp = self.cm[0][1]\n",
    "        self.tn = self.cm[1][1]\n",
    "        self.fn = self.cm[1][0]\n",
    "        \n",
    "    def evaluate(self):\n",
    "        \n",
    "        # Calculate Metrics and add epsilon to prevent division by zero\n",
    "        precision = self.tp / float(self.tp + self.fp + 0.00001)\n",
    "        recall = self.tp / float(self.tp + self.fn + 0.00001)\n",
    "        f1 = (2 * precision * recall) / float(precision + recall + 0.00001)\n",
    "        error = (self.fp + self.fn + 0.00001) / (self.tp + self.fp + self.tn + self.fn + 0.00001)\n",
    "        \n",
    "        # Instantiate Evaluator and call AUC metric\n",
    "        from sklearn.metrics import confusion_matrix, roc_curve, auc\n",
    "        false_positive_rate, true_positive_rate, thresholds = roc_curve(self.y_true, self.y_pred)\n",
    "        AUC = round(auc(false_positive_rate, true_positive_rate), ndigits=5)\n",
    "        \n",
    "        return pd.DataFrame(data=[[self.modelname, AUC, f1, precision, recall, error]], \n",
    "                            columns=['modelname', 'AUC', 'f1', 'precision', 'recall', 'error'])\n",
    "    \n",
    "    def confusionmatrix(self):\n",
    "        from sklearn.metrics import confusion_matrix\n",
    "        # Print Confusion Matrix\n",
    "        return self.cm\n",
    "        \n",
    "    \n",
    "    def modelparams(self):\n",
    "        scores = self.model.avgMetrics\n",
    "        params = [{p.name: v for p, v in m.items()} for m in self.model.getEstimatorParamMaps()]\n",
    "        params_pd = pd.DataFrame(params)\n",
    "        params_pd['AUC score'] = scores\n",
    "        return params_pd"
   ]
  },
  {
   "cell_type": "markdown",
   "metadata": {},
   "source": [
    "### - <font color=blue>Import Data</font> -"
   ]
  },
  {
   "cell_type": "markdown",
   "metadata": {},
   "source": [
    "#### <font color=purple>Build Ensemble - Train Set</font>"
   ]
  },
  {
   "cell_type": "code",
   "execution_count": null,
   "metadata": {},
   "outputs": [],
   "source": [
    "# Return Probability Values as Pandas DF\n",
    "rfc_model_1to1_train = rfc_model_1to125.transform(DRV_Jan2016).select(['msno','prediction','is_churn']).toPandas()\n",
    "rfc_model_3to1_train = rfc_model_3to1mean.transform(DRV_Jan2016).select(['msno','prediction','is_churn']).toPandas()\n",
    "rfc_model_5to1_train = rfc_model_5to1mean.transform(DRV_Jan2016).select(['msno','prediction','is_churn']).toPandas()\n",
    "rfc_model_7to1_train = rfc_model_7to1mean.transform(DRV_Jan2016).select(['msno','prediction','is_churn']).toPandas()\n",
    "rfc_model_9to1_train = rfc_model_9to150.transform(DRV_Jan2016).select(['msno','prediction','is_churn']).toPandas()\n",
    "rfc_model_11to1_train = rfc_model_11to1mean.transform(DRV_Jan2016).select(['msno','prediction','is_churn']).toPandas()\n",
    "rfc_model_13to1_train = rfc_model_13to150.transform(DRV_Jan2016).select(['msno','prediction','is_churn']).toPandas()"
   ]
  },
  {
   "cell_type": "code",
   "execution_count": null,
   "metadata": {},
   "outputs": [],
   "source": [
    "# Create a single DF with all Predictions and Convert back to Spark DF\n",
    "Jan2016_predictsrfc = pd.merge(rfc_model_1to1_train[['msno','prediction']], rfc_model_3to1_train[['msno','prediction']], on='msno')\n",
    "Jan2016_predictsrfc = pd.merge(Jan2016_predictsrfc, rfc_model_5to1_train[['msno','prediction']], on='msno')\n",
    "Jan2016_predictsrfc = pd.merge(Jan2016_predictsrfc, rfc_model_7to1_train[['msno','prediction']], on='msno')\n",
    "Jan2016_predictsrfc = pd.merge(Jan2016_predictsrfc, rfc_model_9to1_train[['msno','prediction']], on='msno')\n",
    "Jan2016_predictsrfc = pd.merge(Jan2016_predictsrfc, rfc_model_11to1_train[['msno','prediction']], on='msno')\n",
    "Jan2016_predictsrfc = pd.merge(Jan2016_predictsrfc, rfc_model_13to1_train[['msno','prediction', 'is_churn']], on='msno')\n",
    "\n",
    "# Rename Columns\n",
    "Jan2016_predictsrfc.columns = ['msno', 'rfc_model_1to125', 'rfc_model_3to1mean', 'rfc_model_5to1mean', 'rfc_model_7to1mean', 'rfc_model_9to150', 'rfc_model_11to1mean', 'rfc_model_13to150', 'is_churn']"
   ]
  },
  {
   "cell_type": "code",
   "execution_count": null,
   "metadata": {},
   "outputs": [],
   "source": [
    "Jan2016_predictsrfc.shape"
   ]
  },
  {
   "cell_type": "code",
   "execution_count": null,
   "metadata": {},
   "outputs": [],
   "source": [
    "# Export to GCS\n",
    "sparkDf = spark.createDataFrame(Jan2016_predictsrfc)    \n",
    "sparkDf.coalesce(1).write.option(\"header\",\"true\").csv('gs://dataproc-fb3fa26d-011a-4757-afb9-5efdd6e75d60-us-east1/Datasets/KKBox User Data/Jan2016_predictsrfc')"
   ]
  },
  {
   "cell_type": "markdown",
   "metadata": {},
   "source": [
    "#### <font color=purple>Build Ensemble - Validation Set</font>"
   ]
  },
  {
   "cell_type": "code",
   "execution_count": null,
   "metadata": {},
   "outputs": [],
   "source": [
    "# Return Probability Values as Pandas DF\n",
    "rfc_model_1to1_valid = rfc_model_1to125.transform(DRV_Feb2016).select(['msno','prediction','is_churn']).toPandas()\n",
    "rfc_model_3to1_valid = rfc_model_3to1mean.transform(DRV_Feb2016).select(['msno','prediction','is_churn']).toPandas()\n",
    "rfc_model_5to1_valid = rfc_model_5to1mean.transform(DRV_Feb2016).select(['msno','prediction','is_churn']).toPandas()\n",
    "rfc_model_7to1_valid = rfc_model_7to1mean.transform(DRV_Feb2016).select(['msno','prediction','is_churn']).toPandas()\n",
    "rfc_model_9to1_valid = rfc_model_9to150.transform(DRV_Feb2016).select(['msno','prediction','is_churn']).toPandas()\n",
    "rfc_model_11to1_valid = rfc_model_11to1mean.transform(DRV_Feb2016).select(['msno','prediction','is_churn']).toPandas()\n",
    "rfc_model_13to1_valid = rfc_model_13to150.transform(DRV_Feb2016).select(['msno','prediction','is_churn']).toPandas()"
   ]
  },
  {
   "cell_type": "code",
   "execution_count": null,
   "metadata": {},
   "outputs": [],
   "source": [
    "# Create a single DF with all Predictions and Convert back to Spark DF\n",
    "Feb2016_predictsrfc = pd.merge(rfc_model_1to1_valid[['msno','prediction']], rfc_model_3to1_valid[['msno','prediction']], on='msno')\n",
    "Feb2016_predictsrfc = pd.merge(Feb2016_predictsrfc, rfc_model_5to1_valid[['msno','prediction']], on='msno')\n",
    "Feb2016_predictsrfc = pd.merge(Feb2016_predictsrfc, rfc_model_7to1_valid[['msno','prediction']], on='msno')\n",
    "Feb2016_predictsrfc = pd.merge(Feb2016_predictsrfc, rfc_model_9to1_valid[['msno','prediction']], on='msno')\n",
    "Feb2016_predictsrfc = pd.merge(Feb2016_predictsrfc, rfc_model_11to1_valid[['msno','prediction']], on='msno')\n",
    "Feb2016_predictsrfc = pd.merge(Feb2016_predictsrfc, rfc_model_13to1_valid[['msno','prediction', 'is_churn']], on='msno')\n",
    "\n",
    "# Rename Columns\n",
    "Feb2016_predictsrfc.columns = ['msno', 'rfc_model_1to125', 'rfc_model_3to1mean', 'rfc_model_5to1mean', 'rfc_model_7to1mean', 'rfc_model_9to150', 'rfc_model_11to1mean', 'rfc_model_13to150', 'is_churn']"
   ]
  },
  {
   "cell_type": "code",
   "execution_count": null,
   "metadata": {},
   "outputs": [],
   "source": [
    "Feb2016_predictsrfc.shape"
   ]
  },
  {
   "cell_type": "code",
   "execution_count": null,
   "metadata": {},
   "outputs": [],
   "source": [
    "# Export to GCS\n",
    "sparkDf = spark.createDataFrame(Feb2016_predictsrfc)    \n",
    "sparkDf.coalesce(1).write.option(\"header\",\"true\").csv('gs://dataproc-fb3fa26d-011a-4757-afb9-5efdd6e75d60-us-east1/Datasets/KKBox User Data/Feb2016_predictsrfc')"
   ]
  },
  {
   "cell_type": "markdown",
   "metadata": {},
   "source": [
    "#### <font color=purple>Import Ensemble Sets (if already built)</font>"
   ]
  },
  {
   "cell_type": "code",
   "execution_count": 8,
   "metadata": {},
   "outputs": [],
   "source": [
    "Jan2016_predictsrfc = pd.read_csv('D:\\J-5 Local\\Jan2016_predictsrfc.csv')\n",
    "Feb2016_predictsrfc = pd.read_csv('D:\\J-5 Local\\Feb2016_predictsrfc.csv')"
   ]
  },
  {
   "cell_type": "code",
   "execution_count": 9,
   "metadata": {},
   "outputs": [],
   "source": [
    "# Instantiate Train x and y\n",
    "train_x = Jan2016_predictsrfc[Jan2016_predictsrfc.columns[1:-1]]\n",
    "train_y = Jan2016_predictsrfc['is_churn']"
   ]
  },
  {
   "cell_type": "code",
   "execution_count": 10,
   "metadata": {},
   "outputs": [],
   "source": [
    "# Instantiate Validation x and y\n",
    "valid_x = Feb2016_predictsrfc[Feb2016_predictsrfc.columns[1:-1]]\n",
    "valid_y = Feb2016_predictsrfc['is_churn']"
   ]
  },
  {
   "cell_type": "markdown",
   "metadata": {},
   "source": [
    "### <font color=blue>Train Model: All Splits, All Splits, XGB + RFECV</font>"
   ]
  },
  {
   "cell_type": "markdown",
   "metadata": {},
   "source": [
    "#### <font color=purple>XGBOOST - Recursive Feature Selection</font>"
   ]
  },
  {
   "cell_type": "code",
   "execution_count": 18,
   "metadata": {},
   "outputs": [],
   "source": [
    "# Instantiate Estimators\n",
    "rfc = RandomForestClassifier(max_depth=5)\n",
    "gbm = GradientBoostingClassifier(max_depth=5)\n",
    "xgb = XGBClassifier()"
   ]
  },
  {
   "cell_type": "code",
   "execution_count": 19,
   "metadata": {},
   "outputs": [
    {
     "name": "stdout",
     "output_type": "stream",
     "text": [
      "Time spent for training: 70\n"
     ]
    }
   ],
   "source": [
    "start = time.time()\n",
    "rfcrfc1 = RFECV(rfc, min_features_to_select=1, cv=10, scoring='roc_auc').fit(train_x, train_y)\n",
    "end = time.time()\n",
    "print('Time spent for training: {}'.format(round(end-start)))"
   ]
  },
  {
   "cell_type": "code",
   "execution_count": 20,
   "metadata": {},
   "outputs": [
    {
     "name": "stdout",
     "output_type": "stream",
     "text": [
      "Time spent for training: 62\n"
     ]
    }
   ],
   "source": [
    "start = time.time()\n",
    "rfcrfc2 = RFECV(rfc, min_features_to_select=2, cv=10, scoring='roc_auc').fit(train_x, train_y)\n",
    "end = time.time()\n",
    "print('Time spent for training: {}'.format(round(end-start)))"
   ]
  },
  {
   "cell_type": "code",
   "execution_count": 21,
   "metadata": {},
   "outputs": [
    {
     "name": "stdout",
     "output_type": "stream",
     "text": [
      "Time spent for training: 54\n"
     ]
    }
   ],
   "source": [
    "start = time.time()\n",
    "rfcrfc3 = RFECV(rfc, min_features_to_select=3, cv=10, scoring='roc_auc').fit(train_x, train_y)\n",
    "end = time.time()\n",
    "print('Time spent for training: {}'.format(round(end-start)))"
   ]
  },
  {
   "cell_type": "code",
   "execution_count": 46,
   "metadata": {},
   "outputs": [
    {
     "name": "stdout",
     "output_type": "stream",
     "text": [
      "Time spent for training: 51\n"
     ]
    }
   ],
   "source": [
    "start = time.time()\n",
    "rfcrfc4 = RFECV(rfc, min_features_to_select=4, cv=10, scoring='roc_auc').fit(train_x, train_y)\n",
    "end = time.time()\n",
    "print('Time spent for training: {}'.format(round(end-start)))"
   ]
  },
  {
   "cell_type": "code",
   "execution_count": 47,
   "metadata": {},
   "outputs": [
    {
     "name": "stdout",
     "output_type": "stream",
     "text": [
      "Time spent for training: 39\n"
     ]
    }
   ],
   "source": [
    "start = time.time()\n",
    "rfcrfc5 = RFECV(rfc, min_features_to_select=5, cv=10, scoring='roc_auc').fit(train_x, train_y)\n",
    "end = time.time()\n",
    "print('Time spent for training: {}'.format(round(end-start)))"
   ]
  },
  {
   "cell_type": "code",
   "execution_count": 24,
   "metadata": {},
   "outputs": [
    {
     "name": "stdout",
     "output_type": "stream",
     "text": [
      "Time spent for training: 914\n"
     ]
    }
   ],
   "source": [
    "start = time.time()\n",
    "rfcgmb4 = RFECV(gbm, min_features_to_select=4, cv=10, scoring='roc_auc').fit(train_x, train_y)\n",
    "end = time.time()\n",
    "print('Time spent for training: {}'.format(round(end-start)))"
   ]
  },
  {
   "cell_type": "code",
   "execution_count": 25,
   "metadata": {},
   "outputs": [
    {
     "name": "stdout",
     "output_type": "stream",
     "text": [
      "Time spent for training: 692\n"
     ]
    }
   ],
   "source": [
    "start = time.time()\n",
    "rfcxgb4 = RFECV(xgb, min_features_to_select=4, cv=10, scoring='roc_auc').fit(train_x, train_y)\n",
    "end = time.time()\n",
    "print('Time spent for training: {}'.format(round(end-start)))"
   ]
  },
  {
   "cell_type": "code",
   "execution_count": 48,
   "metadata": {},
   "outputs": [],
   "source": [
    "# Dictionary of Models that were createdgg\n",
    "ensembles_created = {\n",
    "                  'RFC_RFC1' : rfcrfc1,\n",
    "                  'RFC_RFC2' : rfcrfc2,\n",
    "                  'RFC_RFC3' : rfcrfc3,\n",
    "                  'RFC_RFC4' : rfcrfc4,\n",
    "                  'RFC_RFC5' : rfcrfc5,\n",
    "                  'RFC_GBM4' : rfcgmb4,\n",
    "                  'RFC_XGB4' : rfcxgb4}"
   ]
  },
  {
   "cell_type": "markdown",
   "metadata": {},
   "source": [
    "#### - <font color=blue>Evaluate Train Model: All Splits, XGB + RFECV </font> -"
   ]
  },
  {
   "cell_type": "code",
   "execution_count": 49,
   "metadata": {},
   "outputs": [
    {
     "name": "stdout",
     "output_type": "stream",
     "text": [
      "RFC_RFC1\n",
      "[[668410   4341]\n",
      " [ 12026   7122]]\n",
      "Time spent for training: 40\n",
      "\n",
      "RFC_RFC2\n",
      "[[668410   4341]\n",
      " [ 12025   7123]]\n",
      "Time spent for training: 41\n",
      "\n",
      "RFC_RFC3\n",
      "[[668410   4341]\n",
      " [ 12025   7123]]\n",
      "Time spent for training: 42\n",
      "\n",
      "RFC_RFC4\n",
      "[[668410   4341]\n",
      " [ 12026   7122]]\n",
      "Time spent for training: 43\n",
      "\n",
      "RFC_RFC5\n",
      "[[668410   4341]\n",
      " [ 12026   7122]]\n",
      "Time spent for training: 44\n",
      "\n",
      "RFC_GBM4\n",
      "[[668385   4366]\n",
      " [ 12010   7138]]\n",
      "Time spent for training: 45\n",
      "\n",
      "RFC_XGB4\n",
      "[[668410   4341]\n",
      " [ 12026   7122]]\n",
      "Time spent for training: 46\n",
      "\n"
     ]
    }
   ],
   "source": [
    "# Train Model Results\n",
    "train_ensemble_results = pd.DataFrame()\n",
    "\n",
    "for model_name, model1 in ensembles_created.items():\n",
    "\n",
    "    # Temporary Variables for our Loop\n",
    "    temp = model1.predict(train_x)\n",
    "    temp_class = ClassEvaluatorPandas(modelname=model_name, model=model1, y_pred=temp, y_true=train_y)\n",
    "   \n",
    "    # Create a Dataframe of Train Results and Print Confusion Matrixes\n",
    "    train_ensemble_results = train_ensemble_results.append(temp_class.evaluate())\n",
    "    print('{}'.format(model_name))\n",
    "    print(temp_class.confusionmatrix())\n",
    "    end = time.time()\n",
    "    print('Time spent for training: {}'.format(round(end-start)))\n",
    "    print('')"
   ]
  },
  {
   "cell_type": "code",
   "execution_count": 50,
   "metadata": {},
   "outputs": [
    {
     "data": {
      "text/html": [
       "<div>\n",
       "<style scoped>\n",
       "    .dataframe tbody tr th:only-of-type {\n",
       "        vertical-align: middle;\n",
       "    }\n",
       "\n",
       "    .dataframe tbody tr th {\n",
       "        vertical-align: top;\n",
       "    }\n",
       "\n",
       "    .dataframe thead th {\n",
       "        text-align: right;\n",
       "    }\n",
       "</style>\n",
       "<table border=\"1\" class=\"dataframe\">\n",
       "  <thead>\n",
       "    <tr style=\"text-align: right;\">\n",
       "      <th></th>\n",
       "      <th>modelname</th>\n",
       "      <th>AUC</th>\n",
       "      <th>f1</th>\n",
       "      <th>precision</th>\n",
       "      <th>recall</th>\n",
       "      <th>error</th>\n",
       "    </tr>\n",
       "  </thead>\n",
       "  <tbody>\n",
       "    <tr>\n",
       "      <td>0</td>\n",
       "      <td>RFC_RFC1</td>\n",
       "      <td>0.68275</td>\n",
       "      <td>0.987900</td>\n",
       "      <td>0.993547</td>\n",
       "      <td>0.982326</td>\n",
       "      <td>0.023655</td>\n",
       "    </tr>\n",
       "    <tr>\n",
       "      <td>0</td>\n",
       "      <td>RFC_RFC2</td>\n",
       "      <td>0.68277</td>\n",
       "      <td>0.987901</td>\n",
       "      <td>0.993547</td>\n",
       "      <td>0.982327</td>\n",
       "      <td>0.023654</td>\n",
       "    </tr>\n",
       "    <tr>\n",
       "      <td>0</td>\n",
       "      <td>RFC_RFC3</td>\n",
       "      <td>0.68277</td>\n",
       "      <td>0.987901</td>\n",
       "      <td>0.993547</td>\n",
       "      <td>0.982327</td>\n",
       "      <td>0.023654</td>\n",
       "    </tr>\n",
       "    <tr>\n",
       "      <td>0</td>\n",
       "      <td>RFC_RFC4</td>\n",
       "      <td>0.68275</td>\n",
       "      <td>0.987900</td>\n",
       "      <td>0.993547</td>\n",
       "      <td>0.982326</td>\n",
       "      <td>0.023655</td>\n",
       "    </tr>\n",
       "    <tr>\n",
       "      <td>0</td>\n",
       "      <td>RFC_RFC5</td>\n",
       "      <td>0.68275</td>\n",
       "      <td>0.987900</td>\n",
       "      <td>0.993547</td>\n",
       "      <td>0.982326</td>\n",
       "      <td>0.023655</td>\n",
       "    </tr>\n",
       "    <tr>\n",
       "      <td>0</td>\n",
       "      <td>RFC_GBM4</td>\n",
       "      <td>0.68315</td>\n",
       "      <td>0.987893</td>\n",
       "      <td>0.993510</td>\n",
       "      <td>0.982348</td>\n",
       "      <td>0.023668</td>\n",
       "    </tr>\n",
       "    <tr>\n",
       "      <td>0</td>\n",
       "      <td>RFC_XGB4</td>\n",
       "      <td>0.68275</td>\n",
       "      <td>0.987900</td>\n",
       "      <td>0.993547</td>\n",
       "      <td>0.982326</td>\n",
       "      <td>0.023655</td>\n",
       "    </tr>\n",
       "  </tbody>\n",
       "</table>\n",
       "</div>"
      ],
      "text/plain": [
       "  modelname      AUC        f1  precision    recall     error\n",
       "0  RFC_RFC1  0.68275  0.987900   0.993547  0.982326  0.023655\n",
       "0  RFC_RFC2  0.68277  0.987901   0.993547  0.982327  0.023654\n",
       "0  RFC_RFC3  0.68277  0.987901   0.993547  0.982327  0.023654\n",
       "0  RFC_RFC4  0.68275  0.987900   0.993547  0.982326  0.023655\n",
       "0  RFC_RFC5  0.68275  0.987900   0.993547  0.982326  0.023655\n",
       "0  RFC_GBM4  0.68315  0.987893   0.993510  0.982348  0.023668\n",
       "0  RFC_XGB4  0.68275  0.987900   0.993547  0.982326  0.023655"
      ]
     },
     "execution_count": 50,
     "metadata": {},
     "output_type": "execute_result"
    }
   ],
   "source": [
    "train_ensemble_results"
   ]
  },
  {
   "cell_type": "markdown",
   "metadata": {},
   "source": [
    "#### - <font color=blue>Evaluate Valuation Model: All Splits, XGB + RFECV </font> -"
   ]
  },
  {
   "cell_type": "code",
   "execution_count": 51,
   "metadata": {},
   "outputs": [
    {
     "name": "stdout",
     "output_type": "stream",
     "text": [
      "RFC_RFC1\n",
      "[[524727   3477]\n",
      " [ 14806   5117]]\n",
      "Time spent for training: 47\n",
      "\n",
      "RFC_RFC2\n",
      "[[524727   3477]\n",
      " [ 14806   5117]]\n",
      "Time spent for training: 48\n",
      "\n",
      "RFC_RFC3\n",
      "[[524727   3477]\n",
      " [ 14806   5117]]\n",
      "Time spent for training: 49\n",
      "\n",
      "RFC_RFC4\n",
      "[[524727   3477]\n",
      " [ 14806   5117]]\n",
      "Time spent for training: 49\n",
      "\n",
      "RFC_RFC5\n",
      "[[524727   3477]\n",
      " [ 14806   5117]]\n",
      "Time spent for training: 50\n",
      "\n",
      "RFC_GBM4\n",
      "[[524700   3504]\n",
      " [ 14778   5145]]\n",
      "Time spent for training: 51\n",
      "\n",
      "RFC_XGB4\n",
      "[[524727   3477]\n",
      " [ 14806   5117]]\n",
      "Time spent for training: 52\n",
      "\n"
     ]
    }
   ],
   "source": [
    "# Validation Model Results\n",
    "valid_ensemble_results = pd.DataFrame()\n",
    "\n",
    "# Create a Dataframe of Validation Results and Print Confusion Matrixes\n",
    "for model_name, model1 in ensembles_created.items():\n",
    "    \n",
    "    # Temporary Variables for our Loop\n",
    "    temp = model1.predict(valid_x)\n",
    "    temp_class = ClassEvaluatorPandas(modelname=model_name, model=model1, y_pred=temp, y_true=valid_y)\n",
    "\n",
    "    # Validation Results and Print Confusion Matrixes\n",
    "    valid_ensemble_results = valid_ensemble_results.append(temp_class.evaluate())\n",
    "    print('{}'.format(model_name))\n",
    "    print(temp_class.confusionmatrix())\n",
    "    end = time.time()\n",
    "    print('Time spent for training: {}'.format(round(end-start)))\n",
    "    print('')"
   ]
  },
  {
   "cell_type": "code",
   "execution_count": 52,
   "metadata": {},
   "outputs": [
    {
     "data": {
      "text/html": [
       "<div>\n",
       "<style scoped>\n",
       "    .dataframe tbody tr th:only-of-type {\n",
       "        vertical-align: middle;\n",
       "    }\n",
       "\n",
       "    .dataframe tbody tr th {\n",
       "        vertical-align: top;\n",
       "    }\n",
       "\n",
       "    .dataframe thead th {\n",
       "        text-align: right;\n",
       "    }\n",
       "</style>\n",
       "<table border=\"1\" class=\"dataframe\">\n",
       "  <thead>\n",
       "    <tr style=\"text-align: right;\">\n",
       "      <th></th>\n",
       "      <th>modelname</th>\n",
       "      <th>AUC</th>\n",
       "      <th>f1</th>\n",
       "      <th>precision</th>\n",
       "      <th>recall</th>\n",
       "      <th>error</th>\n",
       "    </tr>\n",
       "  </thead>\n",
       "  <tbody>\n",
       "    <tr>\n",
       "      <td>0</td>\n",
       "      <td>RFC_RFC1</td>\n",
       "      <td>0.62513</td>\n",
       "      <td>0.982872</td>\n",
       "      <td>0.993417</td>\n",
       "      <td>0.972558</td>\n",
       "      <td>0.033355</td>\n",
       "    </tr>\n",
       "    <tr>\n",
       "      <td>0</td>\n",
       "      <td>RFC_RFC2</td>\n",
       "      <td>0.62513</td>\n",
       "      <td>0.982872</td>\n",
       "      <td>0.993417</td>\n",
       "      <td>0.972558</td>\n",
       "      <td>0.033355</td>\n",
       "    </tr>\n",
       "    <tr>\n",
       "      <td>0</td>\n",
       "      <td>RFC_RFC3</td>\n",
       "      <td>0.62513</td>\n",
       "      <td>0.982872</td>\n",
       "      <td>0.993417</td>\n",
       "      <td>0.972558</td>\n",
       "      <td>0.033355</td>\n",
       "    </tr>\n",
       "    <tr>\n",
       "      <td>0</td>\n",
       "      <td>RFC_RFC4</td>\n",
       "      <td>0.62513</td>\n",
       "      <td>0.982872</td>\n",
       "      <td>0.993417</td>\n",
       "      <td>0.972558</td>\n",
       "      <td>0.033355</td>\n",
       "    </tr>\n",
       "    <tr>\n",
       "      <td>0</td>\n",
       "      <td>RFC_RFC5</td>\n",
       "      <td>0.62513</td>\n",
       "      <td>0.982872</td>\n",
       "      <td>0.993417</td>\n",
       "      <td>0.972558</td>\n",
       "      <td>0.033355</td>\n",
       "    </tr>\n",
       "    <tr>\n",
       "      <td>0</td>\n",
       "      <td>RFC_GBM4</td>\n",
       "      <td>0.62581</td>\n",
       "      <td>0.982872</td>\n",
       "      <td>0.993366</td>\n",
       "      <td>0.972607</td>\n",
       "      <td>0.033354</td>\n",
       "    </tr>\n",
       "    <tr>\n",
       "      <td>0</td>\n",
       "      <td>RFC_XGB4</td>\n",
       "      <td>0.62513</td>\n",
       "      <td>0.982872</td>\n",
       "      <td>0.993417</td>\n",
       "      <td>0.972558</td>\n",
       "      <td>0.033355</td>\n",
       "    </tr>\n",
       "  </tbody>\n",
       "</table>\n",
       "</div>"
      ],
      "text/plain": [
       "  modelname      AUC        f1  precision    recall     error\n",
       "0  RFC_RFC1  0.62513  0.982872   0.993417  0.972558  0.033355\n",
       "0  RFC_RFC2  0.62513  0.982872   0.993417  0.972558  0.033355\n",
       "0  RFC_RFC3  0.62513  0.982872   0.993417  0.972558  0.033355\n",
       "0  RFC_RFC4  0.62513  0.982872   0.993417  0.972558  0.033355\n",
       "0  RFC_RFC5  0.62513  0.982872   0.993417  0.972558  0.033355\n",
       "0  RFC_GBM4  0.62581  0.982872   0.993366  0.972607  0.033354\n",
       "0  RFC_XGB4  0.62513  0.982872   0.993417  0.972558  0.033355"
      ]
     },
     "execution_count": 52,
     "metadata": {},
     "output_type": "execute_result"
    }
   ],
   "source": [
    "valid_ensemble_results"
   ]
  },
  {
   "cell_type": "markdown",
   "metadata": {},
   "source": [
    "#### <font color=purple>Generalization Between Train and Validation</font>"
   ]
  },
  {
   "cell_type": "code",
   "execution_count": 54,
   "metadata": {},
   "outputs": [
    {
     "data": {
      "text/html": [
       "<div>\n",
       "<style scoped>\n",
       "    .dataframe tbody tr th:only-of-type {\n",
       "        vertical-align: middle;\n",
       "    }\n",
       "\n",
       "    .dataframe tbody tr th {\n",
       "        vertical-align: top;\n",
       "    }\n",
       "\n",
       "    .dataframe thead th {\n",
       "        text-align: right;\n",
       "    }\n",
       "</style>\n",
       "<table border=\"1\" class=\"dataframe\">\n",
       "  <thead>\n",
       "    <tr style=\"text-align: right;\">\n",
       "      <th></th>\n",
       "      <th>AUC</th>\n",
       "      <th>f1</th>\n",
       "      <th>precision</th>\n",
       "      <th>recall</th>\n",
       "      <th>error</th>\n",
       "      <th>modelname</th>\n",
       "    </tr>\n",
       "  </thead>\n",
       "  <tbody>\n",
       "    <tr>\n",
       "      <td>0</td>\n",
       "      <td>0.05734</td>\n",
       "      <td>0.005021</td>\n",
       "      <td>0.000144</td>\n",
       "      <td>0.009742</td>\n",
       "      <td>-0.009685</td>\n",
       "      <td>RFC_GBM4</td>\n",
       "    </tr>\n",
       "    <tr>\n",
       "      <td>0</td>\n",
       "      <td>0.05762</td>\n",
       "      <td>0.005028</td>\n",
       "      <td>0.000130</td>\n",
       "      <td>0.009768</td>\n",
       "      <td>-0.009700</td>\n",
       "      <td>RFC_RFC1</td>\n",
       "    </tr>\n",
       "    <tr>\n",
       "      <td>0</td>\n",
       "      <td>0.05762</td>\n",
       "      <td>0.005028</td>\n",
       "      <td>0.000130</td>\n",
       "      <td>0.009768</td>\n",
       "      <td>-0.009700</td>\n",
       "      <td>RFC_RFC4</td>\n",
       "    </tr>\n",
       "    <tr>\n",
       "      <td>0</td>\n",
       "      <td>0.05762</td>\n",
       "      <td>0.005028</td>\n",
       "      <td>0.000130</td>\n",
       "      <td>0.009768</td>\n",
       "      <td>-0.009700</td>\n",
       "      <td>RFC_RFC5</td>\n",
       "    </tr>\n",
       "    <tr>\n",
       "      <td>0</td>\n",
       "      <td>0.05762</td>\n",
       "      <td>0.005028</td>\n",
       "      <td>0.000130</td>\n",
       "      <td>0.009768</td>\n",
       "      <td>-0.009700</td>\n",
       "      <td>RFC_XGB4</td>\n",
       "    </tr>\n",
       "    <tr>\n",
       "      <td>0</td>\n",
       "      <td>0.05764</td>\n",
       "      <td>0.005029</td>\n",
       "      <td>0.000130</td>\n",
       "      <td>0.009770</td>\n",
       "      <td>-0.009702</td>\n",
       "      <td>RFC_RFC2</td>\n",
       "    </tr>\n",
       "    <tr>\n",
       "      <td>0</td>\n",
       "      <td>0.05764</td>\n",
       "      <td>0.005029</td>\n",
       "      <td>0.000130</td>\n",
       "      <td>0.009770</td>\n",
       "      <td>-0.009702</td>\n",
       "      <td>RFC_RFC3</td>\n",
       "    </tr>\n",
       "  </tbody>\n",
       "</table>\n",
       "</div>"
      ],
      "text/plain": [
       "       AUC        f1  precision    recall     error modelname\n",
       "0  0.05734  0.005021   0.000144  0.009742 -0.009685  RFC_GBM4\n",
       "0  0.05762  0.005028   0.000130  0.009768 -0.009700  RFC_RFC1\n",
       "0  0.05762  0.005028   0.000130  0.009768 -0.009700  RFC_RFC4\n",
       "0  0.05762  0.005028   0.000130  0.009768 -0.009700  RFC_RFC5\n",
       "0  0.05762  0.005028   0.000130  0.009768 -0.009700  RFC_XGB4\n",
       "0  0.05764  0.005029   0.000130  0.009770 -0.009702  RFC_RFC2\n",
       "0  0.05764  0.005029   0.000130  0.009770 -0.009702  RFC_RFC3"
      ]
     },
     "execution_count": 54,
     "metadata": {},
     "output_type": "execute_result"
    }
   ],
   "source": [
    "train_valid_results = train_ensemble_results[train_ensemble_results.columns[1:]] - valid_ensemble_results[valid_ensemble_results.columns[1:]]\n",
    "train_valid_results['modelname'] = train_ensemble_results['modelname']\n",
    "train_valid_results.sort_values('AUC', ascending=True)"
   ]
  },
  {
   "cell_type": "markdown",
   "metadata": {},
   "source": [
    " \n"
   ]
  },
  {
   "cell_type": "markdown",
   "metadata": {},
   "source": [
    "### <font color=blue>Train Model: All Splits, XGB + GridCV </font>"
   ]
  },
  {
   "cell_type": "markdown",
   "metadata": {},
   "source": [
    "#### <font color=purple>XGBOOST Parameter Tuning</font>"
   ]
  },
  {
   "cell_type": "code",
   "execution_count": 78,
   "metadata": {},
   "outputs": [],
   "source": [
    "# Create Param Grid\n",
    "\n",
    "param_rfc = {\n",
    "         'bootstrap': [True, False],\n",
    "         'max_depth': [3, 5, 7],\n",
    "         'max_features': ['auto', 'sqrt'],\n",
    "         'min_samples_leaf': [1, 2, 4],\n",
    "         'min_samples_split': [2, 5, 10],\n",
    "         'n_estimators': [100, 500, 1000]\n",
    "        }\n",
    "\n",
    "param_gbm = {\n",
    "        'learning_rate': [.1, .5, .01],\n",
    "        'subsample': [0.6, 0.8, 1.0],\n",
    "        'max_depth': [3, 5, 7],\n",
    "        'n_estimators': [100, 500, 1000],\n",
    "        }\n",
    "\n",
    "param_xgb = {\n",
    "        'learning_rate': [.1, .5, .01],\n",
    "        'min_child_weight': [1, 5, 10],\n",
    "        'gamma': [0.5, 1, 1.5, 2, 5],\n",
    "        'subsample': [0.6, 0.8, 1.0],\n",
    "        'colsample_bytree': [0.6, 0.8, 1.0],\n",
    "        'max_depth': [3, 5, 7],\n",
    "        'n_estimators': [100, 500, 1000],\n",
    "        }\n",
    "\n",
    "# Instatiate Esitmator Object\n",
    "rfc = RandomForestClassifier()\n",
    "gbm = GradientBoostingClassifier()\n",
    "xgb = XGBClassifier()\n",
    "\n",
    "# Instatiate StratKFold Object\n",
    "from sklearn.model_selection import StratifiedKFold\n",
    "skf = StratifiedKFold(n_splits=5, shuffle = True)\n",
    "\n",
    "# Instatiate Random Search CV Object\n",
    "rscv_rfc = RandomizedSearchCV(rfc, param_distributions=param_rfc, n_iter=5, scoring='recall', \n",
    "                                   n_jobs=4, cv=skf, verbose=3)\n",
    "\n",
    "rscv_gbm = RandomizedSearchCV(gbm, param_distributions=param_gbm, n_iter=5, scoring='recall', \n",
    "                                   n_jobs=4, cv=skf, verbose=3)\n",
    "\n",
    "rscv_xgb = RandomizedSearchCV(xgb, param_distributions=param_xgb, n_iter=5, scoring='recall', \n",
    "                                   n_jobs=4, cv=skf, verbose=3)"
   ]
  },
  {
   "cell_type": "code",
   "execution_count": 73,
   "metadata": {},
   "outputs": [
    {
     "name": "stdout",
     "output_type": "stream",
     "text": [
      "Fitting 5 folds for each of 5 candidates, totalling 25 fits\n"
     ]
    },
    {
     "name": "stderr",
     "output_type": "stream",
     "text": [
      "[Parallel(n_jobs=4)]: Using backend LokyBackend with 4 concurrent workers.\n",
      "[Parallel(n_jobs=4)]: Done  25 out of  25 | elapsed: 13.2min finished\n"
     ]
    },
    {
     "name": "stdout",
     "output_type": "stream",
     "text": [
      "Time spent for training: 888\n"
     ]
    }
   ],
   "source": [
    "start = time.time()\n",
    "rfcrfc = rscv_rfc.fit(train_x, train_y)\n",
    "end = time.time()\n",
    "print('Time spent for training: {}'.format(round(end-start)))"
   ]
  },
  {
   "cell_type": "code",
   "execution_count": 79,
   "metadata": {},
   "outputs": [
    {
     "name": "stdout",
     "output_type": "stream",
     "text": [
      "Fitting 5 folds for each of 5 candidates, totalling 25 fits\n"
     ]
    },
    {
     "name": "stderr",
     "output_type": "stream",
     "text": [
      "[Parallel(n_jobs=4)]: Using backend LokyBackend with 4 concurrent workers.\n",
      "[Parallel(n_jobs=4)]: Done  25 out of  25 | elapsed: 29.2min finished\n"
     ]
    },
    {
     "name": "stdout",
     "output_type": "stream",
     "text": [
      "Time spent for training: 1810\n"
     ]
    }
   ],
   "source": [
    "start = time.time()\n",
    "rfcgmb = rscv_gbm.fit(train_x, train_y)\n",
    "end = time.time()\n",
    "print('Time spent for training: {}'.format(round(end-start)))"
   ]
  },
  {
   "cell_type": "code",
   "execution_count": 80,
   "metadata": {},
   "outputs": [
    {
     "name": "stdout",
     "output_type": "stream",
     "text": [
      "Fitting 5 folds for each of 5 candidates, totalling 25 fits\n"
     ]
    },
    {
     "name": "stderr",
     "output_type": "stream",
     "text": [
      "[Parallel(n_jobs=4)]: Using backend LokyBackend with 4 concurrent workers.\n",
      "[Parallel(n_jobs=4)]: Done  25 out of  25 | elapsed:  8.9min finished\n"
     ]
    },
    {
     "name": "stdout",
     "output_type": "stream",
     "text": [
      "Time spent for training: 564\n"
     ]
    }
   ],
   "source": [
    "start = time.time()\n",
    "rfcxgb = rscv_xgb.fit(train_x, train_y)\n",
    "end = time.time()\n",
    "print('Time spent for training: {}'.format(round(end-start)))"
   ]
  },
  {
   "cell_type": "code",
   "execution_count": 81,
   "metadata": {},
   "outputs": [],
   "source": [
    "# Dictionary of Models that were created\n",
    "ensembles_created1 = {\n",
    "                  'RFC_RFC_rscv' : rfcrfc,\n",
    "                  'RFC_GBM_rscv' : rfcgmb,\n",
    "                  'RFC_XGB_rscv' : rfcxgb}"
   ]
  },
  {
   "cell_type": "markdown",
   "metadata": {},
   "source": [
    "#### - <font color=blue>Evaluate Train Model: All Splits, XGB + GridCV </font> -"
   ]
  },
  {
   "cell_type": "code",
   "execution_count": 82,
   "metadata": {},
   "outputs": [
    {
     "name": "stdout",
     "output_type": "stream",
     "text": [
      "RFC_RFC_rscv\n",
      "[[668410   4341]\n",
      " [ 12026   7122]]\n",
      "\n",
      "RFC_GBM_rscv\n",
      "[[666912   5839]\n",
      " [ 11001   8147]]\n",
      "\n",
      "RFC_XGB_rscv\n",
      "[[668384   4367]\n",
      " [ 12010   7138]]\n",
      "\n"
     ]
    }
   ],
   "source": [
    "# Train Model Results\n",
    "train_rscv_results = pd.DataFrame()\n",
    "\n",
    "# Create a Dataframe of Validation Results and Print Confusion Matrixes\n",
    "for model_name, model1 in ensembles_created1.items():\n",
    "    \n",
    "    # Temporary Variables for our Loop\n",
    "    temp = model1.predict(train_x)\n",
    "    temp_class = ClassEvaluatorPandas(modelname=model_name, model=model1, y_pred=temp, y_true=train_y)\n",
    "   \n",
    "    # Create a Dataframe of Train Results and Print Confusion Matrixes\n",
    "    train_rscv_results = train_rscv_results.append(temp_class.evaluate())\n",
    "    print('{}'.format(model_name))\n",
    "    print(temp_class.confusionmatrix())\n",
    "    print('')"
   ]
  },
  {
   "cell_type": "code",
   "execution_count": 83,
   "metadata": {},
   "outputs": [
    {
     "data": {
      "text/html": [
       "<div>\n",
       "<style scoped>\n",
       "    .dataframe tbody tr th:only-of-type {\n",
       "        vertical-align: middle;\n",
       "    }\n",
       "\n",
       "    .dataframe tbody tr th {\n",
       "        vertical-align: top;\n",
       "    }\n",
       "\n",
       "    .dataframe thead th {\n",
       "        text-align: right;\n",
       "    }\n",
       "</style>\n",
       "<table border=\"1\" class=\"dataframe\">\n",
       "  <thead>\n",
       "    <tr style=\"text-align: right;\">\n",
       "      <th></th>\n",
       "      <th>modelname</th>\n",
       "      <th>AUC</th>\n",
       "      <th>f1</th>\n",
       "      <th>precision</th>\n",
       "      <th>recall</th>\n",
       "      <th>error</th>\n",
       "    </tr>\n",
       "  </thead>\n",
       "  <tbody>\n",
       "    <tr>\n",
       "      <td>0</td>\n",
       "      <td>RFC_RFC_rscv</td>\n",
       "      <td>0.68275</td>\n",
       "      <td>0.987900</td>\n",
       "      <td>0.993547</td>\n",
       "      <td>0.982326</td>\n",
       "      <td>0.023655</td>\n",
       "    </tr>\n",
       "    <tr>\n",
       "      <td>0</td>\n",
       "      <td>RFC_GBM_rscv</td>\n",
       "      <td>0.70840</td>\n",
       "      <td>0.987527</td>\n",
       "      <td>0.991321</td>\n",
       "      <td>0.983772</td>\n",
       "      <td>0.024339</td>\n",
       "    </tr>\n",
       "    <tr>\n",
       "      <td>0</td>\n",
       "      <td>RFC_XGB_rscv</td>\n",
       "      <td>0.68314</td>\n",
       "      <td>0.987892</td>\n",
       "      <td>0.993509</td>\n",
       "      <td>0.982348</td>\n",
       "      <td>0.023670</td>\n",
       "    </tr>\n",
       "  </tbody>\n",
       "</table>\n",
       "</div>"
      ],
      "text/plain": [
       "      modelname      AUC        f1  precision    recall     error\n",
       "0  RFC_RFC_rscv  0.68275  0.987900   0.993547  0.982326  0.023655\n",
       "0  RFC_GBM_rscv  0.70840  0.987527   0.991321  0.983772  0.024339\n",
       "0  RFC_XGB_rscv  0.68314  0.987892   0.993509  0.982348  0.023670"
      ]
     },
     "execution_count": 83,
     "metadata": {},
     "output_type": "execute_result"
    }
   ],
   "source": [
    "train_rscv_results"
   ]
  },
  {
   "cell_type": "markdown",
   "metadata": {},
   "source": [
    "#### - <font color=blue>Evaluate Valuation Model: All Splits, XGB + GridCV </font> -"
   ]
  },
  {
   "cell_type": "code",
   "execution_count": 84,
   "metadata": {},
   "outputs": [
    {
     "name": "stdout",
     "output_type": "stream",
     "text": [
      "RFC_RFC_rscv\n",
      "[[524727   3477]\n",
      " [ 14806   5117]]\n",
      "\n",
      "RFC_GBM_rscv\n",
      "[[523347   4857]\n",
      " [ 13743   6180]]\n",
      "\n",
      "RFC_XGB_rscv\n",
      "[[524700   3504]\n",
      " [ 14778   5145]]\n",
      "\n"
     ]
    }
   ],
   "source": [
    "# Validation Model Results\n",
    "validation_rscv_results = pd.DataFrame()\n",
    "\n",
    "# Create a Dataframe of Validation Results and Print Confusion Matrixes\n",
    "for model_name, model1 in ensembles_created1.items():\n",
    "    \n",
    "    # Temporary Variables for our Loop\n",
    "    temp = model1.predict(valid_x)\n",
    "    temp_class = ClassEvaluatorPandas(modelname=model_name, model=model1, y_pred=temp, y_true=valid_y)\n",
    "\n",
    "    # Validation Results and Print Confusion Matrixes\n",
    "    validation_rscv_results = validation_rscv_results.append(temp_class.evaluate())\n",
    "    print('{}'.format(model_name))\n",
    "    print(temp_class.confusionmatrix())\n",
    "    print('')"
   ]
  },
  {
   "cell_type": "code",
   "execution_count": 85,
   "metadata": {},
   "outputs": [
    {
     "data": {
      "text/html": [
       "<div>\n",
       "<style scoped>\n",
       "    .dataframe tbody tr th:only-of-type {\n",
       "        vertical-align: middle;\n",
       "    }\n",
       "\n",
       "    .dataframe tbody tr th {\n",
       "        vertical-align: top;\n",
       "    }\n",
       "\n",
       "    .dataframe thead th {\n",
       "        text-align: right;\n",
       "    }\n",
       "</style>\n",
       "<table border=\"1\" class=\"dataframe\">\n",
       "  <thead>\n",
       "    <tr style=\"text-align: right;\">\n",
       "      <th></th>\n",
       "      <th>modelname</th>\n",
       "      <th>AUC</th>\n",
       "      <th>f1</th>\n",
       "      <th>precision</th>\n",
       "      <th>recall</th>\n",
       "      <th>error</th>\n",
       "    </tr>\n",
       "  </thead>\n",
       "  <tbody>\n",
       "    <tr>\n",
       "      <td>0</td>\n",
       "      <td>RFC_RFC_rscv</td>\n",
       "      <td>0.62513</td>\n",
       "      <td>0.982872</td>\n",
       "      <td>0.993417</td>\n",
       "      <td>0.972558</td>\n",
       "      <td>0.033355</td>\n",
       "    </tr>\n",
       "    <tr>\n",
       "      <td>0</td>\n",
       "      <td>RFC_GBM_rscv</td>\n",
       "      <td>0.65050</td>\n",
       "      <td>0.982535</td>\n",
       "      <td>0.990805</td>\n",
       "      <td>0.974412</td>\n",
       "      <td>0.033934</td>\n",
       "    </tr>\n",
       "    <tr>\n",
       "      <td>0</td>\n",
       "      <td>RFC_XGB_rscv</td>\n",
       "      <td>0.62581</td>\n",
       "      <td>0.982872</td>\n",
       "      <td>0.993366</td>\n",
       "      <td>0.972607</td>\n",
       "      <td>0.033354</td>\n",
       "    </tr>\n",
       "  </tbody>\n",
       "</table>\n",
       "</div>"
      ],
      "text/plain": [
       "      modelname      AUC        f1  precision    recall     error\n",
       "0  RFC_RFC_rscv  0.62513  0.982872   0.993417  0.972558  0.033355\n",
       "0  RFC_GBM_rscv  0.65050  0.982535   0.990805  0.974412  0.033934\n",
       "0  RFC_XGB_rscv  0.62581  0.982872   0.993366  0.972607  0.033354"
      ]
     },
     "execution_count": 85,
     "metadata": {},
     "output_type": "execute_result"
    }
   ],
   "source": [
    "validation_rscv_results"
   ]
  },
  {
   "cell_type": "markdown",
   "metadata": {},
   "source": [
    "#### <font color=purple>Generalization Between Train and Validation</font>"
   ]
  },
  {
   "cell_type": "code",
   "execution_count": 86,
   "metadata": {},
   "outputs": [
    {
     "data": {
      "text/html": [
       "<div>\n",
       "<style scoped>\n",
       "    .dataframe tbody tr th:only-of-type {\n",
       "        vertical-align: middle;\n",
       "    }\n",
       "\n",
       "    .dataframe tbody tr th {\n",
       "        vertical-align: top;\n",
       "    }\n",
       "\n",
       "    .dataframe thead th {\n",
       "        text-align: right;\n",
       "    }\n",
       "</style>\n",
       "<table border=\"1\" class=\"dataframe\">\n",
       "  <thead>\n",
       "    <tr style=\"text-align: right;\">\n",
       "      <th></th>\n",
       "      <th>AUC</th>\n",
       "      <th>f1</th>\n",
       "      <th>precision</th>\n",
       "      <th>recall</th>\n",
       "      <th>error</th>\n",
       "      <th>modelname</th>\n",
       "    </tr>\n",
       "  </thead>\n",
       "  <tbody>\n",
       "    <tr>\n",
       "      <td>0</td>\n",
       "      <td>0.05733</td>\n",
       "      <td>0.005020</td>\n",
       "      <td>0.000143</td>\n",
       "      <td>0.009742</td>\n",
       "      <td>-0.009684</td>\n",
       "      <td>RFC_XGB_rscv</td>\n",
       "    </tr>\n",
       "    <tr>\n",
       "      <td>0</td>\n",
       "      <td>0.05762</td>\n",
       "      <td>0.005028</td>\n",
       "      <td>0.000130</td>\n",
       "      <td>0.009768</td>\n",
       "      <td>-0.009700</td>\n",
       "      <td>RFC_RFC_rscv</td>\n",
       "    </tr>\n",
       "    <tr>\n",
       "      <td>0</td>\n",
       "      <td>0.05790</td>\n",
       "      <td>0.004992</td>\n",
       "      <td>0.000516</td>\n",
       "      <td>0.009360</td>\n",
       "      <td>-0.009595</td>\n",
       "      <td>RFC_GBM_rscv</td>\n",
       "    </tr>\n",
       "  </tbody>\n",
       "</table>\n",
       "</div>"
      ],
      "text/plain": [
       "       AUC        f1  precision    recall     error     modelname\n",
       "0  0.05733  0.005020   0.000143  0.009742 -0.009684  RFC_XGB_rscv\n",
       "0  0.05762  0.005028   0.000130  0.009768 -0.009700  RFC_RFC_rscv\n",
       "0  0.05790  0.004992   0.000516  0.009360 -0.009595  RFC_GBM_rscv"
      ]
     },
     "execution_count": 86,
     "metadata": {},
     "output_type": "execute_result"
    }
   ],
   "source": [
    "results_all = train_rscv_results[train_rscv_results.columns[1:]] - validation_rscv_results[validation_rscv_results.columns[1:]]\n",
    "results_all['modelname'] = train_rscv_results['modelname']\n",
    "results_all.sort_values('AUC', ascending=True)"
   ]
  }
 ],
 "metadata": {
  "kernelspec": {
   "display_name": "Python 3",
   "language": "python",
   "name": "python3"
  },
  "language_info": {
   "codemirror_mode": {
    "name": "ipython",
    "version": 3
   },
   "file_extension": ".py",
   "mimetype": "text/x-python",
   "name": "python",
   "nbconvert_exporter": "python",
   "pygments_lexer": "ipython3",
   "version": "3.9.0"
  }
 },
 "nbformat": 4,
 "nbformat_minor": 4
}
