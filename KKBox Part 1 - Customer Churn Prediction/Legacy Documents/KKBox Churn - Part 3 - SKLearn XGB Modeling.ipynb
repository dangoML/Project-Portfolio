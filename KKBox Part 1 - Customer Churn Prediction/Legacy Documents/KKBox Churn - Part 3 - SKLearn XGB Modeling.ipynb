version https://git-lfs.github.com/spec/v1
oid sha256:cbfe5eb3d327b310ea95bdf8881406d27fdb7215e5b1ac9276f1c16b3f02d127
size 58861
