version https://git-lfs.github.com/spec/v1
oid sha256:d5a69a338a23b62bc4ed39a6499ea11890a4466166e60420349340cff0ad2c1a
size 171790
