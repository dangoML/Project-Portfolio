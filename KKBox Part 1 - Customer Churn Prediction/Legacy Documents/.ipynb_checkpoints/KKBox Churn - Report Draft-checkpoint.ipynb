version https://git-lfs.github.com/spec/v1
oid sha256:f11d9ca7be68d49455acd47bb9e2b2d34ebb5e7504fcd2e7b3557ed8847ba89a
size 34123
