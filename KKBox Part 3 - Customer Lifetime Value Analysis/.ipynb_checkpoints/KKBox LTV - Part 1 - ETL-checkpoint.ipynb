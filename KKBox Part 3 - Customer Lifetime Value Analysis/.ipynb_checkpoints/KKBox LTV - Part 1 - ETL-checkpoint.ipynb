version https://git-lfs.github.com/spec/v1
oid sha256:4b38c977f698ac5d7566112fd0de8461600d4abba6b9b4315fc209103fbd2844
size 8866
