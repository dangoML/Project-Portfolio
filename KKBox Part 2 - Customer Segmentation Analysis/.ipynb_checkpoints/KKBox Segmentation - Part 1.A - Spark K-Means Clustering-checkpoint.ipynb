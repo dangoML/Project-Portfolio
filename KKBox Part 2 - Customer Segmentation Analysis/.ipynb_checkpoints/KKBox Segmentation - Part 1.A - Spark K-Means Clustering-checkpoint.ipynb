version https://git-lfs.github.com/spec/v1
oid sha256:6616d1df7feee32dc9548f8572a561b49a492432334d321afc79c38bde3b0376
size 205720
