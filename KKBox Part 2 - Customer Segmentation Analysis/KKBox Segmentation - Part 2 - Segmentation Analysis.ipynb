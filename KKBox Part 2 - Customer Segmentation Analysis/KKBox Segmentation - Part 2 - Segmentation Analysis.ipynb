version https://git-lfs.github.com/spec/v1
oid sha256:7fcf75a8c7fd11d5f0755b2027463dda08a9deb8b0fe1bdaa79816865e2e9cd9
size 355400
