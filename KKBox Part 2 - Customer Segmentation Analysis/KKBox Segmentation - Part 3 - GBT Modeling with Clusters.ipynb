version https://git-lfs.github.com/spec/v1
oid sha256:3d50a4fe7830bcd8dd8b3a28d52a7d1e3047dd8c3d001dfdcff8862ba86d5ba4
size 176400
